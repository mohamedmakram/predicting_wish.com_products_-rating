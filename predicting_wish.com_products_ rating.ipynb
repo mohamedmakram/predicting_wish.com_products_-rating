{
  "cells": [
    {
      "cell_type": "markdown",
      "metadata": {
        "id": "i4VrYet2fgnZ"
      },
      "source": [
        "Problem: we try to predict product ratings through applying some analysis to understand the data then building a model that fit the data well. \n",
        "\n",
        "\n",
        "\n",
        "input: features like price,\tretail_price,\tcurrency_buyer,\tunits_sold\tuses_ad_boosts\trating,... ,merchant_rating_count\n",
        "\n",
        "\n",
        "\n",
        "output: predict the product ratings\n",
        "data mining function: Classification\n",
        "\n",
        "\n",
        "\n",
        "challenges: how to choose the best model, how to choose the best group of features, tuning the models with the best set of parameters.\n",
        "\n",
        "\n",
        "\n",
        "impact:  you can estimate how likely people will like your product, without actually listing out there.\n",
        "\n",
        "\n",
        "\n",
        "ideal solution:\tthere is no one you have try until you reach the ideal one"
      ]
    },
    {
      "cell_type": "code",
      "execution_count": 1,
      "metadata": {
        "id": "mqeanTpubcE3"
      },
      "outputs": [],
      "source": [
        "#import libraries\n",
        "import pandas as pd\n",
        "import numpy as np\n",
        "import seaborn as sns\n",
        "import matplotlib.pyplot as plt\n",
        "import plotly.express as px\n",
        "import plotly.graph_objs as go"
      ]
    },
    {
      "cell_type": "code",
      "execution_count": 2,
      "metadata": {
        "id": "pT6hEMBRcShV"
      },
      "outputs": [],
      "source": [
        "#read_data\n",
        "train = pd.read_csv('train_new.csv')"
      ]
    },
    {
      "cell_type": "markdown",
      "metadata": {
        "id": "mYoeE27ZbT7L"
      },
      "source": [
        "# Data Exploration"
      ]
    },
    {
      "cell_type": "markdown",
      "source": [
        "https://www.kdnuggets.com/2019/11/data-cleaning-preprocessing-beginners.html"
      ],
      "metadata": {
        "id": "guVwhQyKMR7T"
      }
    },
    {
      "cell_type": "code",
      "execution_count": 3,
      "metadata": {
        "colab": {
          "base_uri": "https://localhost:8080/",
          "height": 374
        },
        "id": "Qbv2jGfmca6u",
        "outputId": "e2bc6b19-3e5c-4543-e2d4-7d472433ac35"
      },
      "outputs": [
        {
          "output_type": "execute_result",
          "data": {
            "text/html": [
              "\n",
              "  <div id=\"df-8df07a32-8e8c-476f-a7cc-eb5b9febecc3\">\n",
              "    <div class=\"colab-df-container\">\n",
              "      <div>\n",
              "<style scoped>\n",
              "    .dataframe tbody tr th:only-of-type {\n",
              "        vertical-align: middle;\n",
              "    }\n",
              "\n",
              "    .dataframe tbody tr th {\n",
              "        vertical-align: top;\n",
              "    }\n",
              "\n",
              "    .dataframe thead th {\n",
              "        text-align: right;\n",
              "    }\n",
              "</style>\n",
              "<table border=\"1\" class=\"dataframe\">\n",
              "  <thead>\n",
              "    <tr style=\"text-align: right;\">\n",
              "      <th></th>\n",
              "      <th>price</th>\n",
              "      <th>retail_price</th>\n",
              "      <th>currency_buyer</th>\n",
              "      <th>units_sold</th>\n",
              "      <th>uses_ad_boosts</th>\n",
              "      <th>rating</th>\n",
              "      <th>rating_count</th>\n",
              "      <th>badges_count</th>\n",
              "      <th>badge_local_product</th>\n",
              "      <th>badge_product_quality</th>\n",
              "      <th>badge_fast_shipping</th>\n",
              "      <th>tags</th>\n",
              "      <th>product_color</th>\n",
              "      <th>product_variation_size_id</th>\n",
              "      <th>product_variation_inventory</th>\n",
              "      <th>shipping_option_name</th>\n",
              "      <th>shipping_option_price</th>\n",
              "      <th>shipping_is_express</th>\n",
              "      <th>countries_shipped_to</th>\n",
              "      <th>inventory_total</th>\n",
              "      <th>has_urgency_banner</th>\n",
              "      <th>urgency_text</th>\n",
              "      <th>origin_country</th>\n",
              "      <th>merchant_title</th>\n",
              "      <th>merchant_name</th>\n",
              "      <th>merchant_info_subtitle</th>\n",
              "      <th>merchant_rating_count</th>\n",
              "      <th>merchant_rating</th>\n",
              "      <th>merchant_id</th>\n",
              "      <th>merchant_has_profile_picture</th>\n",
              "      <th>merchant_profile_picture</th>\n",
              "      <th>theme</th>\n",
              "      <th>crawl_month</th>\n",
              "      <th>id</th>\n",
              "    </tr>\n",
              "  </thead>\n",
              "  <tbody>\n",
              "    <tr>\n",
              "      <th>0</th>\n",
              "      <td>8.00</td>\n",
              "      <td>7</td>\n",
              "      <td>EUR</td>\n",
              "      <td>10000</td>\n",
              "      <td>1</td>\n",
              "      <td>4.0</td>\n",
              "      <td>1670</td>\n",
              "      <td>0</td>\n",
              "      <td>0</td>\n",
              "      <td>0</td>\n",
              "      <td>0</td>\n",
              "      <td>Summer,soildcolor,Plus Size,Tank,camisole,Tops...</td>\n",
              "      <td>yellow</td>\n",
              "      <td>M</td>\n",
              "      <td>50</td>\n",
              "      <td>Livraison standard</td>\n",
              "      <td>3</td>\n",
              "      <td>0</td>\n",
              "      <td>30</td>\n",
              "      <td>50</td>\n",
              "      <td>NaN</td>\n",
              "      <td>NaN</td>\n",
              "      <td>CN</td>\n",
              "      <td>keepahorse</td>\n",
              "      <td>keepahorse</td>\n",
              "      <td>88 % avis positifs (66,644 notes)</td>\n",
              "      <td>66644</td>\n",
              "      <td>4.137582</td>\n",
              "      <td>577fb2b368116418674befd9</td>\n",
              "      <td>1</td>\n",
              "      <td>https://s3-us-west-1.amazonaws.com/sweeper-pro...</td>\n",
              "      <td>summer</td>\n",
              "      <td>2020-08</td>\n",
              "      <td>272</td>\n",
              "    </tr>\n",
              "    <tr>\n",
              "      <th>1</th>\n",
              "      <td>8.00</td>\n",
              "      <td>7</td>\n",
              "      <td>EUR</td>\n",
              "      <td>1000</td>\n",
              "      <td>0</td>\n",
              "      <td>4.0</td>\n",
              "      <td>843</td>\n",
              "      <td>1</td>\n",
              "      <td>1</td>\n",
              "      <td>0</td>\n",
              "      <td>0</td>\n",
              "      <td>bathing suit,Plus Size,bikini set,sexy swimsui...</td>\n",
              "      <td>black</td>\n",
              "      <td>L</td>\n",
              "      <td>50</td>\n",
              "      <td>Livraison standard</td>\n",
              "      <td>3</td>\n",
              "      <td>0</td>\n",
              "      <td>37</td>\n",
              "      <td>50</td>\n",
              "      <td>NaN</td>\n",
              "      <td>NaN</td>\n",
              "      <td>CN</td>\n",
              "      <td>shanghaimingqidianqikejiyouxiangongsi</td>\n",
              "      <td>上海铭启电气科技有限公司</td>\n",
              "      <td>91 % avis positifs (25,752 notes)</td>\n",
              "      <td>25752</td>\n",
              "      <td>4.256873</td>\n",
              "      <td>566a3ef17233ff2686443082</td>\n",
              "      <td>0</td>\n",
              "      <td>NaN</td>\n",
              "      <td>summer</td>\n",
              "      <td>2020-08</td>\n",
              "      <td>1515</td>\n",
              "    </tr>\n",
              "    <tr>\n",
              "      <th>2</th>\n",
              "      <td>6.00</td>\n",
              "      <td>34</td>\n",
              "      <td>EUR</td>\n",
              "      <td>100</td>\n",
              "      <td>0</td>\n",
              "      <td>4.0</td>\n",
              "      <td>10</td>\n",
              "      <td>0</td>\n",
              "      <td>0</td>\n",
              "      <td>0</td>\n",
              "      <td>0</td>\n",
              "      <td>Summer,Vest,momshirt,Get,summer t-shirts,funny...</td>\n",
              "      <td>white</td>\n",
              "      <td>L</td>\n",
              "      <td>50</td>\n",
              "      <td>Livraison standard</td>\n",
              "      <td>2</td>\n",
              "      <td>0</td>\n",
              "      <td>41</td>\n",
              "      <td>50</td>\n",
              "      <td>NaN</td>\n",
              "      <td>NaN</td>\n",
              "      <td>CN</td>\n",
              "      <td>zhaodongmei</td>\n",
              "      <td>zhaodongmei</td>\n",
              "      <td>83 % avis positifs (3,897 notes)</td>\n",
              "      <td>3897</td>\n",
              "      <td>3.928920</td>\n",
              "      <td>5aacd6c1ccf0c83e5a6f3de0</td>\n",
              "      <td>0</td>\n",
              "      <td>NaN</td>\n",
              "      <td>summer</td>\n",
              "      <td>2020-08</td>\n",
              "      <td>940</td>\n",
              "    </tr>\n",
              "    <tr>\n",
              "      <th>3</th>\n",
              "      <td>4.67</td>\n",
              "      <td>4</td>\n",
              "      <td>EUR</td>\n",
              "      <td>100</td>\n",
              "      <td>1</td>\n",
              "      <td>3.0</td>\n",
              "      <td>82</td>\n",
              "      <td>0</td>\n",
              "      <td>0</td>\n",
              "      <td>0</td>\n",
              "      <td>0</td>\n",
              "      <td>Summer,Shorts,pants,Beach,Plus Size,beachpant,...</td>\n",
              "      <td>lakeblue</td>\n",
              "      <td>XS</td>\n",
              "      <td>5</td>\n",
              "      <td>Livraison standard</td>\n",
              "      <td>1</td>\n",
              "      <td>0</td>\n",
              "      <td>25</td>\n",
              "      <td>50</td>\n",
              "      <td>NaN</td>\n",
              "      <td>NaN</td>\n",
              "      <td>CN</td>\n",
              "      <td>pookie0331</td>\n",
              "      <td>pookie0331</td>\n",
              "      <td>87 % avis positifs (7,497 notes)</td>\n",
              "      <td>7497</td>\n",
              "      <td>4.079365</td>\n",
              "      <td>583141fbfef4094e51453d9b</td>\n",
              "      <td>0</td>\n",
              "      <td>NaN</td>\n",
              "      <td>summer</td>\n",
              "      <td>2020-08</td>\n",
              "      <td>309</td>\n",
              "    </tr>\n",
              "    <tr>\n",
              "      <th>4</th>\n",
              "      <td>8.00</td>\n",
              "      <td>11</td>\n",
              "      <td>EUR</td>\n",
              "      <td>1000</td>\n",
              "      <td>0</td>\n",
              "      <td>4.0</td>\n",
              "      <td>127</td>\n",
              "      <td>0</td>\n",
              "      <td>0</td>\n",
              "      <td>0</td>\n",
              "      <td>0</td>\n",
              "      <td>Summer,Floral print,women dresses,fashion dres...</td>\n",
              "      <td>apricot</td>\n",
              "      <td>S</td>\n",
              "      <td>50</td>\n",
              "      <td>Livraison standard</td>\n",
              "      <td>3</td>\n",
              "      <td>0</td>\n",
              "      <td>15</td>\n",
              "      <td>50</td>\n",
              "      <td>1.0</td>\n",
              "      <td>Quantité limitée !</td>\n",
              "      <td>CN</td>\n",
              "      <td>shitongyi12683626</td>\n",
              "      <td>shitongyi12683626</td>\n",
              "      <td>91 % avis positifs (173 notes)</td>\n",
              "      <td>173</td>\n",
              "      <td>4.306358</td>\n",
              "      <td>5d3bc9f8e13a7e654424a4cb</td>\n",
              "      <td>0</td>\n",
              "      <td>NaN</td>\n",
              "      <td>summer</td>\n",
              "      <td>2020-08</td>\n",
              "      <td>226</td>\n",
              "    </tr>\n",
              "  </tbody>\n",
              "</table>\n",
              "</div>\n",
              "      <button class=\"colab-df-convert\" onclick=\"convertToInteractive('df-8df07a32-8e8c-476f-a7cc-eb5b9febecc3')\"\n",
              "              title=\"Convert this dataframe to an interactive table.\"\n",
              "              style=\"display:none;\">\n",
              "        \n",
              "  <svg xmlns=\"http://www.w3.org/2000/svg\" height=\"24px\"viewBox=\"0 0 24 24\"\n",
              "       width=\"24px\">\n",
              "    <path d=\"M0 0h24v24H0V0z\" fill=\"none\"/>\n",
              "    <path d=\"M18.56 5.44l.94 2.06.94-2.06 2.06-.94-2.06-.94-.94-2.06-.94 2.06-2.06.94zm-11 1L8.5 8.5l.94-2.06 2.06-.94-2.06-.94L8.5 2.5l-.94 2.06-2.06.94zm10 10l.94 2.06.94-2.06 2.06-.94-2.06-.94-.94-2.06-.94 2.06-2.06.94z\"/><path d=\"M17.41 7.96l-1.37-1.37c-.4-.4-.92-.59-1.43-.59-.52 0-1.04.2-1.43.59L10.3 9.45l-7.72 7.72c-.78.78-.78 2.05 0 2.83L4 21.41c.39.39.9.59 1.41.59.51 0 1.02-.2 1.41-.59l7.78-7.78 2.81-2.81c.8-.78.8-2.07 0-2.86zM5.41 20L4 18.59l7.72-7.72 1.47 1.35L5.41 20z\"/>\n",
              "  </svg>\n",
              "      </button>\n",
              "      \n",
              "  <style>\n",
              "    .colab-df-container {\n",
              "      display:flex;\n",
              "      flex-wrap:wrap;\n",
              "      gap: 12px;\n",
              "    }\n",
              "\n",
              "    .colab-df-convert {\n",
              "      background-color: #E8F0FE;\n",
              "      border: none;\n",
              "      border-radius: 50%;\n",
              "      cursor: pointer;\n",
              "      display: none;\n",
              "      fill: #1967D2;\n",
              "      height: 32px;\n",
              "      padding: 0 0 0 0;\n",
              "      width: 32px;\n",
              "    }\n",
              "\n",
              "    .colab-df-convert:hover {\n",
              "      background-color: #E2EBFA;\n",
              "      box-shadow: 0px 1px 2px rgba(60, 64, 67, 0.3), 0px 1px 3px 1px rgba(60, 64, 67, 0.15);\n",
              "      fill: #174EA6;\n",
              "    }\n",
              "\n",
              "    [theme=dark] .colab-df-convert {\n",
              "      background-color: #3B4455;\n",
              "      fill: #D2E3FC;\n",
              "    }\n",
              "\n",
              "    [theme=dark] .colab-df-convert:hover {\n",
              "      background-color: #434B5C;\n",
              "      box-shadow: 0px 1px 3px 1px rgba(0, 0, 0, 0.15);\n",
              "      filter: drop-shadow(0px 1px 2px rgba(0, 0, 0, 0.3));\n",
              "      fill: #FFFFFF;\n",
              "    }\n",
              "  </style>\n",
              "\n",
              "      <script>\n",
              "        const buttonEl =\n",
              "          document.querySelector('#df-8df07a32-8e8c-476f-a7cc-eb5b9febecc3 button.colab-df-convert');\n",
              "        buttonEl.style.display =\n",
              "          google.colab.kernel.accessAllowed ? 'block' : 'none';\n",
              "\n",
              "        async function convertToInteractive(key) {\n",
              "          const element = document.querySelector('#df-8df07a32-8e8c-476f-a7cc-eb5b9febecc3');\n",
              "          const dataTable =\n",
              "            await google.colab.kernel.invokeFunction('convertToInteractive',\n",
              "                                                     [key], {});\n",
              "          if (!dataTable) return;\n",
              "\n",
              "          const docLinkHtml = 'Like what you see? Visit the ' +\n",
              "            '<a target=\"_blank\" href=https://colab.research.google.com/notebooks/data_table.ipynb>data table notebook</a>'\n",
              "            + ' to learn more about interactive tables.';\n",
              "          element.innerHTML = '';\n",
              "          dataTable['output_type'] = 'display_data';\n",
              "          await google.colab.output.renderOutput(dataTable, element);\n",
              "          const docLink = document.createElement('div');\n",
              "          docLink.innerHTML = docLinkHtml;\n",
              "          element.appendChild(docLink);\n",
              "        }\n",
              "      </script>\n",
              "    </div>\n",
              "  </div>\n",
              "  "
            ],
            "text/plain": [
              "   price  retail_price currency_buyer  ...   theme  crawl_month    id\n",
              "0   8.00             7            EUR  ...  summer      2020-08   272\n",
              "1   8.00             7            EUR  ...  summer      2020-08  1515\n",
              "2   6.00            34            EUR  ...  summer      2020-08   940\n",
              "3   4.67             4            EUR  ...  summer      2020-08   309\n",
              "4   8.00            11            EUR  ...  summer      2020-08   226\n",
              "\n",
              "[5 rows x 34 columns]"
            ]
          },
          "metadata": {},
          "execution_count": 3
        }
      ],
      "source": [
        "# print top 5 rows\n",
        "train.head()"
      ]
    },
    {
      "cell_type": "code",
      "execution_count": 4,
      "metadata": {
        "colab": {
          "base_uri": "https://localhost:8080/"
        },
        "id": "4oNq8vtgcchg",
        "outputId": "df82fc7b-d065-4799-9231-f62e6db3ce58"
      },
      "outputs": [
        {
          "output_type": "stream",
          "name": "stdout",
          "text": [
            "<class 'pandas.core.frame.DataFrame'>\n",
            "RangeIndex: 1094 entries, 0 to 1093\n",
            "Data columns (total 34 columns):\n",
            " #   Column                        Non-Null Count  Dtype  \n",
            "---  ------                        --------------  -----  \n",
            " 0   price                         1094 non-null   float64\n",
            " 1   retail_price                  1094 non-null   int64  \n",
            " 2   currency_buyer                1094 non-null   object \n",
            " 3   units_sold                    1094 non-null   int64  \n",
            " 4   uses_ad_boosts                1094 non-null   int64  \n",
            " 5   rating                        1094 non-null   float64\n",
            " 6   rating_count                  1094 non-null   int64  \n",
            " 7   badges_count                  1094 non-null   int64  \n",
            " 8   badge_local_product           1094 non-null   int64  \n",
            " 9   badge_product_quality         1094 non-null   int64  \n",
            " 10  badge_fast_shipping           1094 non-null   int64  \n",
            " 11  tags                          1094 non-null   object \n",
            " 12  product_color                 1065 non-null   object \n",
            " 13  product_variation_size_id     1082 non-null   object \n",
            " 14  product_variation_inventory   1094 non-null   int64  \n",
            " 15  shipping_option_name          1094 non-null   object \n",
            " 16  shipping_option_price         1094 non-null   int64  \n",
            " 17  shipping_is_express           1094 non-null   int64  \n",
            " 18  countries_shipped_to          1094 non-null   int64  \n",
            " 19  inventory_total               1094 non-null   int64  \n",
            " 20  has_urgency_banner            349 non-null    float64\n",
            " 21  urgency_text                  349 non-null    object \n",
            " 22  origin_country                1082 non-null   object \n",
            " 23  merchant_title                1094 non-null   object \n",
            " 24  merchant_name                 1090 non-null   object \n",
            " 25  merchant_info_subtitle        1094 non-null   object \n",
            " 26  merchant_rating_count         1094 non-null   int64  \n",
            " 27  merchant_rating               1094 non-null   float64\n",
            " 28  merchant_id                   1094 non-null   object \n",
            " 29  merchant_has_profile_picture  1094 non-null   int64  \n",
            " 30  merchant_profile_picture      170 non-null    object \n",
            " 31  theme                         1094 non-null   object \n",
            " 32  crawl_month                   1094 non-null   object \n",
            " 33  id                            1094 non-null   int64  \n",
            "dtypes: float64(4), int64(16), object(14)\n",
            "memory usage: 290.7+ KB\n"
          ]
        }
      ],
      "source": [
        "# explore information about train dateset\n",
        "train.info()"
      ]
    },
    {
      "cell_type": "code",
      "source": [
        "train.describe()"
      ],
      "metadata": {
        "id": "_7bmy47Hmfbd",
        "colab": {
          "base_uri": "https://localhost:8080/",
          "height": 364
        },
        "outputId": "17d46645-7017-4f0e-d92a-576fbd90a9c5"
      },
      "execution_count": 5,
      "outputs": [
        {
          "output_type": "execute_result",
          "data": {
            "text/html": [
              "\n",
              "  <div id=\"df-881bf5e8-ef55-4063-9745-42e90b61d14e\">\n",
              "    <div class=\"colab-df-container\">\n",
              "      <div>\n",
              "<style scoped>\n",
              "    .dataframe tbody tr th:only-of-type {\n",
              "        vertical-align: middle;\n",
              "    }\n",
              "\n",
              "    .dataframe tbody tr th {\n",
              "        vertical-align: top;\n",
              "    }\n",
              "\n",
              "    .dataframe thead th {\n",
              "        text-align: right;\n",
              "    }\n",
              "</style>\n",
              "<table border=\"1\" class=\"dataframe\">\n",
              "  <thead>\n",
              "    <tr style=\"text-align: right;\">\n",
              "      <th></th>\n",
              "      <th>price</th>\n",
              "      <th>retail_price</th>\n",
              "      <th>units_sold</th>\n",
              "      <th>uses_ad_boosts</th>\n",
              "      <th>rating</th>\n",
              "      <th>rating_count</th>\n",
              "      <th>badges_count</th>\n",
              "      <th>badge_local_product</th>\n",
              "      <th>badge_product_quality</th>\n",
              "      <th>badge_fast_shipping</th>\n",
              "      <th>product_variation_inventory</th>\n",
              "      <th>shipping_option_price</th>\n",
              "      <th>shipping_is_express</th>\n",
              "      <th>countries_shipped_to</th>\n",
              "      <th>inventory_total</th>\n",
              "      <th>has_urgency_banner</th>\n",
              "      <th>merchant_rating_count</th>\n",
              "      <th>merchant_rating</th>\n",
              "      <th>merchant_has_profile_picture</th>\n",
              "      <th>id</th>\n",
              "    </tr>\n",
              "  </thead>\n",
              "  <tbody>\n",
              "    <tr>\n",
              "      <th>count</th>\n",
              "      <td>1094.000000</td>\n",
              "      <td>1094.000000</td>\n",
              "      <td>1094.000000</td>\n",
              "      <td>1094.000000</td>\n",
              "      <td>1094.000000</td>\n",
              "      <td>1094.000000</td>\n",
              "      <td>1094.000000</td>\n",
              "      <td>1094.000000</td>\n",
              "      <td>1094.000000</td>\n",
              "      <td>1094.000000</td>\n",
              "      <td>1094.000000</td>\n",
              "      <td>1094.000000</td>\n",
              "      <td>1094.000000</td>\n",
              "      <td>1094.000000</td>\n",
              "      <td>1094.000000</td>\n",
              "      <td>349.0</td>\n",
              "      <td>1.094000e+03</td>\n",
              "      <td>1094.000000</td>\n",
              "      <td>1094.000000</td>\n",
              "      <td>1094.000000</td>\n",
              "    </tr>\n",
              "    <tr>\n",
              "      <th>mean</th>\n",
              "      <td>8.320786</td>\n",
              "      <td>23.712066</td>\n",
              "      <td>4518.661792</td>\n",
              "      <td>0.432358</td>\n",
              "      <td>4.006399</td>\n",
              "      <td>915.523766</td>\n",
              "      <td>0.114260</td>\n",
              "      <td>0.019196</td>\n",
              "      <td>0.083181</td>\n",
              "      <td>0.011883</td>\n",
              "      <td>32.807130</td>\n",
              "      <td>2.344607</td>\n",
              "      <td>0.002742</td>\n",
              "      <td>40.484461</td>\n",
              "      <td>49.849177</td>\n",
              "      <td>1.0</td>\n",
              "      <td>2.678399e+04</td>\n",
              "      <td>4.036191</td>\n",
              "      <td>0.155393</td>\n",
              "      <td>772.207495</td>\n",
              "    </tr>\n",
              "    <tr>\n",
              "      <th>std</th>\n",
              "      <td>4.027448</td>\n",
              "      <td>31.802661</td>\n",
              "      <td>9825.608568</td>\n",
              "      <td>0.495630</td>\n",
              "      <td>0.585706</td>\n",
              "      <td>2037.561158</td>\n",
              "      <td>0.348461</td>\n",
              "      <td>0.137275</td>\n",
              "      <td>0.276282</td>\n",
              "      <td>0.108409</td>\n",
              "      <td>21.454655</td>\n",
              "      <td>1.044781</td>\n",
              "      <td>0.052318</td>\n",
              "      <td>20.196229</td>\n",
              "      <td>2.480687</td>\n",
              "      <td>0.0</td>\n",
              "      <td>8.616171e+04</td>\n",
              "      <td>0.200397</td>\n",
              "      <td>0.362445</td>\n",
              "      <td>453.784430</td>\n",
              "    </tr>\n",
              "    <tr>\n",
              "      <th>min</th>\n",
              "      <td>1.000000</td>\n",
              "      <td>2.000000</td>\n",
              "      <td>1.000000</td>\n",
              "      <td>0.000000</td>\n",
              "      <td>1.000000</td>\n",
              "      <td>0.000000</td>\n",
              "      <td>0.000000</td>\n",
              "      <td>0.000000</td>\n",
              "      <td>0.000000</td>\n",
              "      <td>0.000000</td>\n",
              "      <td>1.000000</td>\n",
              "      <td>1.000000</td>\n",
              "      <td>0.000000</td>\n",
              "      <td>8.000000</td>\n",
              "      <td>1.000000</td>\n",
              "      <td>1.0</td>\n",
              "      <td>4.000000e+00</td>\n",
              "      <td>2.941176</td>\n",
              "      <td>0.000000</td>\n",
              "      <td>2.000000</td>\n",
              "    </tr>\n",
              "    <tr>\n",
              "      <th>25%</th>\n",
              "      <td>5.830000</td>\n",
              "      <td>7.000000</td>\n",
              "      <td>100.000000</td>\n",
              "      <td>0.000000</td>\n",
              "      <td>4.000000</td>\n",
              "      <td>24.000000</td>\n",
              "      <td>0.000000</td>\n",
              "      <td>0.000000</td>\n",
              "      <td>0.000000</td>\n",
              "      <td>0.000000</td>\n",
              "      <td>6.000000</td>\n",
              "      <td>2.000000</td>\n",
              "      <td>0.000000</td>\n",
              "      <td>31.000000</td>\n",
              "      <td>50.000000</td>\n",
              "      <td>1.0</td>\n",
              "      <td>1.926000e+03</td>\n",
              "      <td>3.918464</td>\n",
              "      <td>0.000000</td>\n",
              "      <td>382.250000</td>\n",
              "    </tr>\n",
              "    <tr>\n",
              "      <th>50%</th>\n",
              "      <td>8.000000</td>\n",
              "      <td>10.000000</td>\n",
              "      <td>1000.000000</td>\n",
              "      <td>0.000000</td>\n",
              "      <td>4.000000</td>\n",
              "      <td>143.500000</td>\n",
              "      <td>0.000000</td>\n",
              "      <td>0.000000</td>\n",
              "      <td>0.000000</td>\n",
              "      <td>0.000000</td>\n",
              "      <td>50.000000</td>\n",
              "      <td>2.000000</td>\n",
              "      <td>0.000000</td>\n",
              "      <td>40.000000</td>\n",
              "      <td>50.000000</td>\n",
              "      <td>1.0</td>\n",
              "      <td>8.225000e+03</td>\n",
              "      <td>4.045170</td>\n",
              "      <td>0.000000</td>\n",
              "      <td>752.500000</td>\n",
              "    </tr>\n",
              "    <tr>\n",
              "      <th>75%</th>\n",
              "      <td>11.000000</td>\n",
              "      <td>26.000000</td>\n",
              "      <td>5000.000000</td>\n",
              "      <td>1.000000</td>\n",
              "      <td>4.000000</td>\n",
              "      <td>845.500000</td>\n",
              "      <td>0.000000</td>\n",
              "      <td>0.000000</td>\n",
              "      <td>0.000000</td>\n",
              "      <td>0.000000</td>\n",
              "      <td>50.000000</td>\n",
              "      <td>3.000000</td>\n",
              "      <td>0.000000</td>\n",
              "      <td>43.000000</td>\n",
              "      <td>50.000000</td>\n",
              "      <td>1.0</td>\n",
              "      <td>2.306200e+04</td>\n",
              "      <td>4.166826</td>\n",
              "      <td>0.000000</td>\n",
              "      <td>1166.500000</td>\n",
              "    </tr>\n",
              "    <tr>\n",
              "      <th>max</th>\n",
              "      <td>49.000000</td>\n",
              "      <td>252.000000</td>\n",
              "      <td>100000.000000</td>\n",
              "      <td>1.000000</td>\n",
              "      <td>6.000000</td>\n",
              "      <td>20744.000000</td>\n",
              "      <td>3.000000</td>\n",
              "      <td>1.000000</td>\n",
              "      <td>1.000000</td>\n",
              "      <td>1.000000</td>\n",
              "      <td>50.000000</td>\n",
              "      <td>12.000000</td>\n",
              "      <td>1.000000</td>\n",
              "      <td>140.000000</td>\n",
              "      <td>50.000000</td>\n",
              "      <td>1.0</td>\n",
              "      <td>2.174765e+06</td>\n",
              "      <td>4.577519</td>\n",
              "      <td>1.000000</td>\n",
              "      <td>1572.000000</td>\n",
              "    </tr>\n",
              "  </tbody>\n",
              "</table>\n",
              "</div>\n",
              "      <button class=\"colab-df-convert\" onclick=\"convertToInteractive('df-881bf5e8-ef55-4063-9745-42e90b61d14e')\"\n",
              "              title=\"Convert this dataframe to an interactive table.\"\n",
              "              style=\"display:none;\">\n",
              "        \n",
              "  <svg xmlns=\"http://www.w3.org/2000/svg\" height=\"24px\"viewBox=\"0 0 24 24\"\n",
              "       width=\"24px\">\n",
              "    <path d=\"M0 0h24v24H0V0z\" fill=\"none\"/>\n",
              "    <path d=\"M18.56 5.44l.94 2.06.94-2.06 2.06-.94-2.06-.94-.94-2.06-.94 2.06-2.06.94zm-11 1L8.5 8.5l.94-2.06 2.06-.94-2.06-.94L8.5 2.5l-.94 2.06-2.06.94zm10 10l.94 2.06.94-2.06 2.06-.94-2.06-.94-.94-2.06-.94 2.06-2.06.94z\"/><path d=\"M17.41 7.96l-1.37-1.37c-.4-.4-.92-.59-1.43-.59-.52 0-1.04.2-1.43.59L10.3 9.45l-7.72 7.72c-.78.78-.78 2.05 0 2.83L4 21.41c.39.39.9.59 1.41.59.51 0 1.02-.2 1.41-.59l7.78-7.78 2.81-2.81c.8-.78.8-2.07 0-2.86zM5.41 20L4 18.59l7.72-7.72 1.47 1.35L5.41 20z\"/>\n",
              "  </svg>\n",
              "      </button>\n",
              "      \n",
              "  <style>\n",
              "    .colab-df-container {\n",
              "      display:flex;\n",
              "      flex-wrap:wrap;\n",
              "      gap: 12px;\n",
              "    }\n",
              "\n",
              "    .colab-df-convert {\n",
              "      background-color: #E8F0FE;\n",
              "      border: none;\n",
              "      border-radius: 50%;\n",
              "      cursor: pointer;\n",
              "      display: none;\n",
              "      fill: #1967D2;\n",
              "      height: 32px;\n",
              "      padding: 0 0 0 0;\n",
              "      width: 32px;\n",
              "    }\n",
              "\n",
              "    .colab-df-convert:hover {\n",
              "      background-color: #E2EBFA;\n",
              "      box-shadow: 0px 1px 2px rgba(60, 64, 67, 0.3), 0px 1px 3px 1px rgba(60, 64, 67, 0.15);\n",
              "      fill: #174EA6;\n",
              "    }\n",
              "\n",
              "    [theme=dark] .colab-df-convert {\n",
              "      background-color: #3B4455;\n",
              "      fill: #D2E3FC;\n",
              "    }\n",
              "\n",
              "    [theme=dark] .colab-df-convert:hover {\n",
              "      background-color: #434B5C;\n",
              "      box-shadow: 0px 1px 3px 1px rgba(0, 0, 0, 0.15);\n",
              "      filter: drop-shadow(0px 1px 2px rgba(0, 0, 0, 0.3));\n",
              "      fill: #FFFFFF;\n",
              "    }\n",
              "  </style>\n",
              "\n",
              "      <script>\n",
              "        const buttonEl =\n",
              "          document.querySelector('#df-881bf5e8-ef55-4063-9745-42e90b61d14e button.colab-df-convert');\n",
              "        buttonEl.style.display =\n",
              "          google.colab.kernel.accessAllowed ? 'block' : 'none';\n",
              "\n",
              "        async function convertToInteractive(key) {\n",
              "          const element = document.querySelector('#df-881bf5e8-ef55-4063-9745-42e90b61d14e');\n",
              "          const dataTable =\n",
              "            await google.colab.kernel.invokeFunction('convertToInteractive',\n",
              "                                                     [key], {});\n",
              "          if (!dataTable) return;\n",
              "\n",
              "          const docLinkHtml = 'Like what you see? Visit the ' +\n",
              "            '<a target=\"_blank\" href=https://colab.research.google.com/notebooks/data_table.ipynb>data table notebook</a>'\n",
              "            + ' to learn more about interactive tables.';\n",
              "          element.innerHTML = '';\n",
              "          dataTable['output_type'] = 'display_data';\n",
              "          await google.colab.output.renderOutput(dataTable, element);\n",
              "          const docLink = document.createElement('div');\n",
              "          docLink.innerHTML = docLinkHtml;\n",
              "          element.appendChild(docLink);\n",
              "        }\n",
              "      </script>\n",
              "    </div>\n",
              "  </div>\n",
              "  "
            ],
            "text/plain": [
              "             price  retail_price  ...  merchant_has_profile_picture           id\n",
              "count  1094.000000   1094.000000  ...                   1094.000000  1094.000000\n",
              "mean      8.320786     23.712066  ...                      0.155393   772.207495\n",
              "std       4.027448     31.802661  ...                      0.362445   453.784430\n",
              "min       1.000000      2.000000  ...                      0.000000     2.000000\n",
              "25%       5.830000      7.000000  ...                      0.000000   382.250000\n",
              "50%       8.000000     10.000000  ...                      0.000000   752.500000\n",
              "75%      11.000000     26.000000  ...                      0.000000  1166.500000\n",
              "max      49.000000    252.000000  ...                      1.000000  1572.000000\n",
              "\n",
              "[8 rows x 20 columns]"
            ]
          },
          "metadata": {},
          "execution_count": 5
        }
      ]
    },
    {
      "cell_type": "code",
      "execution_count": 6,
      "metadata": {
        "colab": {
          "base_uri": "https://localhost:8080/"
        },
        "id": "SEy9Dw8dlobo",
        "outputId": "debfbdee-f73f-408c-be4d-682087bf5387"
      },
      "outputs": [
        {
          "output_type": "execute_result",
          "data": {
            "text/plain": [
              "EUR    1094\n",
              "Name: currency_buyer, dtype: int64"
            ]
          },
          "metadata": {},
          "execution_count": 6
        }
      ],
      "source": [
        "#print frequency of each value in currency_buyer column\n",
        "train['currency_buyer'].value_counts()"
      ]
    },
    {
      "cell_type": "code",
      "execution_count": 7,
      "metadata": {
        "colab": {
          "base_uri": "https://localhost:8080/",
          "height": 1000
        },
        "id": "Z6rBkx-eprHl",
        "outputId": "22857274-b137-4168-86e2-f49a0b9cc9bc"
      },
      "outputs": [
        {
          "output_type": "execute_result",
          "data": {
            "text/plain": [
              "<matplotlib.axes._subplots.AxesSubplot at 0x7f4f78bc4fd0>"
            ]
          },
          "metadata": {},
          "execution_count": 7
        },
        {
          "output_type": "display_data",
          "data": {
            "image/png": "[encoded data removed]",
            "text/plain": [
              "<Figure size 1440x1440 with 2 Axes>"
            ]
          },
          "metadata": {
            "needs_background": "light"
          }
        }
      ],
      "source": [
        "#create a heatmap to explore correlation between columns\n",
        "plt.figure(figsize=(20, 20))\n",
        "sns.heatmap(train.corr(), annot=True)"
      ]
    },
    {
      "cell_type": "code",
      "source": [
        "\n",
        "fig = px.imshow(train.corr())\n",
        "fig.show()"
      ],
      "metadata": {
        "id": "ByEudiEZkFPW",
        "colab": {
          "base_uri": "https://localhost:8080/",
          "height": 542
        },
        "outputId": "18911a75-214e-4ae3-d9a7-a7de159183f3"
      },
      "execution_count": 8,
      "outputs": [
        {
          "output_type": "display_data",
          "data": {
            "text/html": [
              "<html>\n",
              "<head><meta charset=\"utf-8\" /></head>\n",
              "<body>\n",
              "    <div>            <script src=\"https://cdnjs.cloudflare.com/ajax/libs/mathjax/2.7.5/MathJax.js?config=TeX-AMS-MML_SVG\"></script><script type=\"text/javascript\">if (window.MathJax) {MathJax.Hub.Config({SVG: {font: \"STIX-Web\"}});}</script>                <script type=\"text/javascript\">window.PlotlyConfig = {MathJaxConfig: 'local'};</script>\n",
              "        <script src=\"https://cdn.plot.ly/plotly-2.8.3.min.js\"></script>                <div id=\"7cca6b2b-f53a-4cfb-9732-176183dd7194\" class=\"plotly-graph-div\" style=\"height:525px; width:100%;\"></div>            <script type=\"text/javascript\">                                    window.PLOTLYENV=window.PLOTLYENV || {};                                    if (document.getElementById(\"7cca6b2b-f53a-4cfb-9732-176183dd7194\")) {                    Plotly.newPlot(                        \"7cca6b2b-f53a-4cfb-9732-176183dd7194\",                        [{\"coloraxis\":\"coloraxis\",\"name\":\"0\",\"x\":[\"price\",\"retail_price\",\"units_sold\",\"uses_ad_boosts\",\"rating\",\"rating_count\",\"badges_count\",\"badge_local_product\",\"badge_product_quality\",\"badge_fast_shipping\",\"product_variation_inventory\",\"shipping_option_price\",\"shipping_is_express\",\"countries_shipped_to\",\"inventory_total\",\"has_urgency_banner\",\"merchant_rating_count\",\"merchant_rating\",\"merchant_has_profile_picture\",\"id\"],\"y\":[\"price\",\"retail_price\",\"units_sold\",\"uses_ad_boosts\",\"rating\",\"rating_count\",\"badges_count\",\"badge_local_product\",\"badge_product_quality\",\"badge_fast_shipping\",\"product_variation_inventory\",\"shipping_option_price\",\"shipping_is_express\",\"countries_shipped_to\",\"inventory_total\",\"has_urgency_banner\",\"merchant_rating_count\",\"merchant_rating\",\"merchant_has_profile_picture\",\"id\"],\"z\":[[1.0,0.32192020969795576,-0.008284319076430815,-0.053379668089037,0.22612942692299193,0.012339388442074436,0.0864003866773819,0.08888787291243384,0.021911376485357424,0.10932088119333715,0.27309091834695154,0.887445332122918,0.20858223278660712,-0.034093886940416755,-0.1775927194044769,null,-0.02284958839920274,0.06643670250587386,0.029712884744618865,0.008551110817277944],[0.32192020969795576,1.0,0.027721554272720945,-0.006257577464615633,0.08625119455348897,0.07860164353832529,0.022785492430232084,0.029139764846038627,-0.0016449994859057337,0.0405333337844117,0.14285394664520976,0.28759470195649145,-0.004473872444397515,0.05073536618841694,0.000539152859307135,null,0.01660539360983142,0.04090792722141172,0.03365023467267895,-0.028326645918073604],[-0.008284319076430815,0.027721554272720945,1.0,-0.018159177995782958,0.01172939714851952,0.8919386461851643,0.042772913776003084,-0.001554622064171755,0.0499483756807655,0.012160123897120085,0.13725360705659184,-0.020205811755128037,-0.021990925344968583,-0.017361213945687046,-0.009210245926451296,null,0.22854027449113004,0.12075043015129477,0.17055251086998696,0.01660013156994653],[-0.053379668089037,-0.006257577464615633,-0.018159177995782958,1.0,-0.04735879761480784,-0.05065319067069048,0.020952588578582843,0.052719364617907626,-0.008983904767367629,0.023487043178376504,-0.09212931681461906,-0.05653722669884446,-0.010481754603200487,0.014884694365681716,0.03299417427411987,null,0.031173174731978625,0.03437809983569645,0.0025418845765041646,0.011666209119667646],[0.22612942692299193,0.08625119455348897,0.01172939714851952,-0.04735879761480784,1.0,0.025343729693719792,0.23400123483301138,0.009850133424874865,0.2737488188084041,0.04202850323187567,0.04844276439978541,0.20271944110946363,0.059140848524171376,0.02456531971741713,-0.11645791122056347,null,0.05271177145413833,0.21627042402767208,0.025480691368484788,0.05884482044245511],[0.012339388442074436,0.07860164353832529,0.8919386461851643,-0.05065319067069048,0.025343729693719792,1.0,0.07789600681273298,0.0021163296318090796,0.06797121990865189,0.07447694588317524,0.14573658827232394,0.0006178227672270351,-0.018663305957140865,0.004655252267681684,-0.005353408638758774,null,0.21906110564215095,0.14042391622328035,0.18152486709130605,-0.006071692246134043],[0.0864003866773819,0.022785492430232084,0.042772913776003084,0.020952588578582843,0.23400123483301138,0.07789600681273298,1.0,0.5470277215798053,0.8230062443148451,0.4241903733605506,0.06401713305484288,0.10787032267173297,0.2839060455927403,0.019558058327253287,-0.12610648464270216,null,0.08026945487875392,0.22609775448374556,0.04039211082848049,0.03821669434304183],[0.08888787291243384,0.029139764846038627,-0.001554622064171755,0.052719364617907626,0.009850133424874865,0.0021163296318090796,0.5470277215798053,1.0,0.07847788984390634,0.292050991738306,0.002811443013321548,0.10693555294441809,0.24744371275028867,0.01776288522323251,0.008509478577643231,null,-0.0026326042419975546,0.11910195983966208,-0.02322940513387887,0.025844250827336844],[0.021911376485357424,-0.0016449994859057337,0.0499483756807655,-0.008983904767367629,0.2737488188084041,0.06797121990865189,0.8230062443148451,0.07847788984390634,1.0,-0.0024850453625381657,0.10272765047963345,0.021048465178096994,0.04750058866658697,0.006380634299161493,-0.10182123844447419,null,0.10992606698504245,0.2028666615394593,0.04439697325712386,0.028140261717520446],[0.10932088119333715,0.0405333337844117,0.012160123897120085,0.023487043178376504,0.04202850323187567,0.07447694588317524,0.4241903733605506,0.292050991738306,-0.0024850453625381657,1.0,-0.05959148409780943,0.157677973577668,0.47817781464765613,0.024112081957464098,-0.15662849661020223,null,-0.018803053004533776,0.05892635937219392,0.046101332984365424,0.018398973705651103],[0.27309091834695154,0.14285394664520976,0.13725360705659184,-0.09212931681461906,0.04844276439978541,0.14573658827232394,0.06401713305484288,0.002811443013321548,0.10272765047963345,-0.05959148409780943,1.0,0.2688040272495181,0.0029168795559134466,0.10900588460940054,0.08571442454859622,null,0.07383769786322736,0.13767623417481145,0.02409466949911858,0.00738701085172333],[0.887445332122918,0.28759470195649145,-0.020205811755128037,-0.05653722669884446,0.20271944110946363,0.0006178227672270351,0.10787032267173297,0.10693555294441809,0.021048465178096994,0.157677973577668,0.2688040272495181,1.0,0.30071564467371176,-0.05604829662849198,-0.15290111890754063,null,-0.03864933563411971,0.07500621643945388,0.030000134643109074,-0.006860758820160649],[0.20858223278660712,-0.004473872444397515,-0.021990925344968583,-0.010481754603200487,0.059140848524171376,-0.018663305957140865,0.2839060455927403,0.24744371275028867,0.04750058866658697,0.47817781464765613,0.0029168795559134466,0.30071564467371176,1.0,0.0030709283677110527,-0.33518264007052434,null,-0.007576506414624094,0.061582647224904086,-0.02249244810524711,-0.03131589456613655],[-0.034093886940416755,0.05073536618841694,-0.017361213945687046,0.014884694365681716,0.02456531971741713,0.004655252267681684,0.019558058327253287,0.01776288522323251,0.006380634299161493,0.024112081957464098,0.10900588460940054,-0.05604829662849198,0.0030709283677110527,1.0,0.004144202111355256,null,0.13139709321775694,0.15463061143725193,0.025577726282991924,0.05384966349104279],[-0.1775927194044769,0.000539152859307135,-0.009210245926451296,0.03299417427411987,-0.11645791122056347,-0.005353408638758774,-0.12610648464270216,0.008509478577643231,-0.10182123844447419,-0.15662849661020223,0.08571442454859622,-0.15290111890754063,-0.33518264007052434,0.004144202111355256,1.0,null,0.009858241504823624,-0.07222458415922643,0.026090454100273993,0.03346526842725224],[null,null,null,null,null,null,null,null,null,null,null,null,null,null,null,null,null,null,null,null],[-0.02284958839920274,0.01660539360983142,0.22854027449113004,0.031173174731978625,0.05271177145413833,0.21906110564215095,0.08026945487875392,-0.0026326042419975546,0.10992606698504245,-0.018803053004533776,0.07383769786322736,-0.03864933563411971,-0.007576506414624094,0.13139709321775694,0.009858241504823624,null,1.0,0.13053560272674639,0.11444268578204296,0.016058755971370353],[0.06643670250587386,0.04090792722141172,0.12075043015129477,0.03437809983569645,0.21627042402767208,0.14042391622328035,0.22609775448374556,0.11910195983966208,0.2028666615394593,0.05892635937219392,0.13767623417481145,0.07500621643945388,0.061582647224904086,0.15463061143725193,-0.07222458415922643,null,0.13053560272674639,1.0,0.1032800026855107,0.04580823607195099],[0.029712884744618865,0.03365023467267895,0.17055251086998696,0.0025418845765041646,0.025480691368484788,0.18152486709130605,0.04039211082848049,-0.02322940513387887,0.04439697325712386,0.046101332984365424,0.02409466949911858,0.030000134643109074,-0.02249244810524711,0.025577726282991924,0.026090454100273993,null,0.11444268578204296,0.1032800026855107,1.0,-0.016100086882268664],[0.008551110817277944,-0.028326645918073604,0.01660013156994653,0.011666209119667646,0.05884482044245511,-0.006071692246134043,0.03821669434304183,0.025844250827336844,0.028140261717520446,0.018398973705651103,0.00738701085172333,-0.006860758820160649,-0.03131589456613655,0.05384966349104279,0.03346526842725224,null,0.016058755971370353,0.04580823607195099,-0.016100086882268664,1.0]],\"type\":\"heatmap\",\"xaxis\":\"x\",\"yaxis\":\"y\",\"hovertemplate\":\"x: %{x}<br>y: %{y}<br>color: %{z}<extra></extra>\"}],                        {\"template\":{\"data\":{\"bar\":[{\"error_x\":{\"color\":\"#2a3f5f\"},\"error_y\":{\"color\":\"#2a3f5f\"},\"marker\":{\"line\":{\"color\":\"#E5ECF6\",\"width\":0.5},\"pattern\":{\"fillmode\":\"overlay\",\"size\":10,\"solidity\":0.2}},\"type\":\"bar\"}],\"barpolar\":[{\"marker\":{\"line\":{\"color\":\"#E5ECF6\",\"width\":0.5},\"pattern\":{\"fillmode\":\"overlay\",\"size\":10,\"solidity\":0.2}},\"type\":\"barpolar\"}],\"carpet\":[{\"aaxis\":{\"endlinecolor\":\"#2a3f5f\",\"gridcolor\":\"white\",\"linecolor\":\"white\",\"minorgridcolor\":\"white\",\"startlinecolor\":\"#2a3f5f\"},\"baxis\":{\"endlinecolor\":\"#2a3f5f\",\"gridcolor\":\"white\",\"linecolor\":\"white\",\"minorgridcolor\":\"white\",\"startlinecolor\":\"#2a3f5f\"},\"type\":\"carpet\"}],\"choropleth\":[{\"colorbar\":{\"outlinewidth\":0,\"ticks\":\"\"},\"type\":\"choropleth\"}],\"contour\":[{\"colorbar\":{\"outlinewidth\":0,\"ticks\":\"\"},\"colorscale\":[[0.0,\"#0d0887\"],[0.1111111111111111,\"#46039f\"],[0.2222222222222222,\"#7201a8\"],[0.3333333333333333,\"#9c179e\"],[0.4444444444444444,\"#bd3786\"],[0.5555555555555556,\"#d8576b\"],[0.6666666666666666,\"#ed7953\"],[0.7777777777777778,\"#fb9f3a\"],[0.8888888888888888,\"#fdca26\"],[1.0,\"#f0f921\"]],\"type\":\"contour\"}],\"contourcarpet\":[{\"colorbar\":{\"outlinewidth\":0,\"ticks\":\"\"},\"type\":\"contourcarpet\"}],\"heatmap\":[{\"colorbar\":{\"outlinewidth\":0,\"ticks\":\"\"},\"colorscale\":[[0.0,\"#0d0887\"],[0.1111111111111111,\"#46039f\"],[0.2222222222222222,\"#7201a8\"],[0.3333333333333333,\"#9c179e\"],[0.4444444444444444,\"#bd3786\"],[0.5555555555555556,\"#d8576b\"],[0.6666666666666666,\"#ed7953\"],[0.7777777777777778,\"#fb9f3a\"],[0.8888888888888888,\"#fdca26\"],[1.0,\"#f0f921\"]],\"type\":\"heatmap\"}],\"heatmapgl\":[{\"colorbar\":{\"outlinewidth\":0,\"ticks\":\"\"},\"colorscale\":[[0.0,\"#0d0887\"],[0.1111111111111111,\"#46039f\"],[0.2222222222222222,\"#7201a8\"],[0.3333333333333333,\"#9c179e\"],[0.4444444444444444,\"#bd3786\"],[0.5555555555555556,\"#d8576b\"],[0.6666666666666666,\"#ed7953\"],[0.7777777777777778,\"#fb9f3a\"],[0.8888888888888888,\"#fdca26\"],[1.0,\"#f0f921\"]],\"type\":\"heatmapgl\"}],\"histogram\":[{\"marker\":{\"pattern\":{\"fillmode\":\"overlay\",\"size\":10,\"solidity\":0.2}},\"type\":\"histogram\"}],\"histogram2d\":[{\"colorbar\":{\"outlinewidth\":0,\"ticks\":\"\"},\"colorscale\":[[0.0,\"#0d0887\"],[0.1111111111111111,\"#46039f\"],[0.2222222222222222,\"#7201a8\"],[0.3333333333333333,\"#9c179e\"],[0.4444444444444444,\"#bd3786\"],[0.5555555555555556,\"#d8576b\"],[0.6666666666666666,\"#ed7953\"],[0.7777777777777778,\"#fb9f3a\"],[0.8888888888888888,\"#fdca26\"],[1.0,\"#f0f921\"]],\"type\":\"histogram2d\"}],\"histogram2dcontour\":[{\"colorbar\":{\"outlinewidth\":0,\"ticks\":\"\"},\"colorscale\":[[0.0,\"#0d0887\"],[0.1111111111111111,\"#46039f\"],[0.2222222222222222,\"#7201a8\"],[0.3333333333333333,\"#9c179e\"],[0.4444444444444444,\"#bd3786\"],[0.5555555555555556,\"#d8576b\"],[0.6666666666666666,\"#ed7953\"],[0.7777777777777778,\"#fb9f3a\"],[0.8888888888888888,\"#fdca26\"],[1.0,\"#f0f921\"]],\"type\":\"histogram2dcontour\"}],\"mesh3d\":[{\"colorbar\":{\"outlinewidth\":0,\"ticks\":\"\"},\"type\":\"mesh3d\"}],\"parcoords\":[{\"line\":{\"colorbar\":{\"outlinewidth\":0,\"ticks\":\"\"}},\"type\":\"parcoords\"}],\"pie\":[{\"automargin\":true,\"type\":\"pie\"}],\"scatter\":[{\"marker\":{\"colorbar\":{\"outlinewidth\":0,\"ticks\":\"\"}},\"type\":\"scatter\"}],\"scatter3d\":[{\"line\":{\"colorbar\":{\"outlinewidth\":0,\"ticks\":\"\"}},\"marker\":{\"colorbar\":{\"outlinewidth\":0,\"ticks\":\"\"}},\"type\":\"scatter3d\"}],\"scattercarpet\":[{\"marker\":{\"colorbar\":{\"outlinewidth\":0,\"ticks\":\"\"}},\"type\":\"scattercarpet\"}],\"scattergeo\":[{\"marker\":{\"colorbar\":{\"outlinewidth\":0,\"ticks\":\"\"}},\"type\":\"scattergeo\"}],\"scattergl\":[{\"marker\":{\"colorbar\":{\"outlinewidth\":0,\"ticks\":\"\"}},\"type\":\"scattergl\"}],\"scattermapbox\":[{\"marker\":{\"colorbar\":{\"outlinewidth\":0,\"ticks\":\"\"}},\"type\":\"scattermapbox\"}],\"scatterpolar\":[{\"marker\":{\"colorbar\":{\"outlinewidth\":0,\"ticks\":\"\"}},\"type\":\"scatterpolar\"}],\"scatterpolargl\":[{\"marker\":{\"colorbar\":{\"outlinewidth\":0,\"ticks\":\"\"}},\"type\":\"scatterpolargl\"}],\"scatterternary\":[{\"marker\":{\"colorbar\":{\"outlinewidth\":0,\"ticks\":\"\"}},\"type\":\"scatterternary\"}],\"surface\":[{\"colorbar\":{\"outlinewidth\":0,\"ticks\":\"\"},\"colorscale\":[[0.0,\"#0d0887\"],[0.1111111111111111,\"#46039f\"],[0.2222222222222222,\"#7201a8\"],[0.3333333333333333,\"#9c179e\"],[0.4444444444444444,\"#bd3786\"],[0.5555555555555556,\"#d8576b\"],[0.6666666666666666,\"#ed7953\"],[0.7777777777777778,\"#fb9f3a\"],[0.8888888888888888,\"#fdca26\"],[1.0,\"#f0f921\"]],\"type\":\"surface\"}],\"table\":[{\"cells\":{\"fill\":{\"color\":\"#EBF0F8\"},\"line\":{\"color\":\"white\"}},\"header\":{\"fill\":{\"color\":\"#C8D4E3\"},\"line\":{\"color\":\"white\"}},\"type\":\"table\"}]},\"layout\":{\"annotationdefaults\":{\"arrowcolor\":\"#2a3f5f\",\"arrowhead\":0,\"arrowwidth\":1},\"autotypenumbers\":\"strict\",\"coloraxis\":{\"colorbar\":{\"outlinewidth\":0,\"ticks\":\"\"}},\"colorscale\":{\"diverging\":[[0,\"#8e0152\"],[0.1,\"#c51b7d\"],[0.2,\"#de77ae\"],[0.3,\"#f1b6da\"],[0.4,\"#fde0ef\"],[0.5,\"#f7f7f7\"],[0.6,\"#e6f5d0\"],[0.7,\"#b8e186\"],[0.8,\"#7fbc41\"],[0.9,\"#4d9221\"],[1,\"#276419\"]],\"sequential\":[[0.0,\"#0d0887\"],[0.1111111111111111,\"#46039f\"],[0.2222222222222222,\"#7201a8\"],[0.3333333333333333,\"#9c179e\"],[0.4444444444444444,\"#bd3786\"],[0.5555555555555556,\"#d8576b\"],[0.6666666666666666,\"#ed7953\"],[0.7777777777777778,\"#fb9f3a\"],[0.8888888888888888,\"#fdca26\"],[1.0,\"#f0f921\"]],\"sequentialminus\":[[0.0,\"#0d0887\"],[0.1111111111111111,\"#46039f\"],[0.2222222222222222,\"#7201a8\"],[0.3333333333333333,\"#9c179e\"],[0.4444444444444444,\"#bd3786\"],[0.5555555555555556,\"#d8576b\"],[0.6666666666666666,\"#ed7953\"],[0.7777777777777778,\"#fb9f3a\"],[0.8888888888888888,\"#fdca26\"],[1.0,\"#f0f921\"]]},\"colorway\":[\"#636efa\",\"#EF553B\",\"#00cc96\",\"#ab63fa\",\"#FFA15A\",\"#19d3f3\",\"#FF6692\",\"#B6E880\",\"#FF97FF\",\"#FECB52\"],\"font\":{\"color\":\"#2a3f5f\"},\"geo\":{\"bgcolor\":\"white\",\"lakecolor\":\"white\",\"landcolor\":\"#E5ECF6\",\"showlakes\":true,\"showland\":true,\"subunitcolor\":\"white\"},\"hoverlabel\":{\"align\":\"left\"},\"hovermode\":\"closest\",\"mapbox\":{\"style\":\"light\"},\"paper_bgcolor\":\"white\",\"plot_bgcolor\":\"#E5ECF6\",\"polar\":{\"angularaxis\":{\"gridcolor\":\"white\",\"linecolor\":\"white\",\"ticks\":\"\"},\"bgcolor\":\"#E5ECF6\",\"radialaxis\":{\"gridcolor\":\"white\",\"linecolor\":\"white\",\"ticks\":\"\"}},\"scene\":{\"xaxis\":{\"backgroundcolor\":\"#E5ECF6\",\"gridcolor\":\"white\",\"gridwidth\":2,\"linecolor\":\"white\",\"showbackground\":true,\"ticks\":\"\",\"zerolinecolor\":\"white\"},\"yaxis\":{\"backgroundcolor\":\"#E5ECF6\",\"gridcolor\":\"white\",\"gridwidth\":2,\"linecolor\":\"white\",\"showbackground\":true,\"ticks\":\"\",\"zerolinecolor\":\"white\"},\"zaxis\":{\"backgroundcolor\":\"#E5ECF6\",\"gridcolor\":\"white\",\"gridwidth\":2,\"linecolor\":\"white\",\"showbackground\":true,\"ticks\":\"\",\"zerolinecolor\":\"white\"}},\"shapedefaults\":{\"line\":{\"color\":\"#2a3f5f\"}},\"ternary\":{\"aaxis\":{\"gridcolor\":\"white\",\"linecolor\":\"white\",\"ticks\":\"\"},\"baxis\":{\"gridcolor\":\"white\",\"linecolor\":\"white\",\"ticks\":\"\"},\"bgcolor\":\"#E5ECF6\",\"caxis\":{\"gridcolor\":\"white\",\"linecolor\":\"white\",\"ticks\":\"\"}},\"title\":{\"x\":0.05},\"xaxis\":{\"automargin\":true,\"gridcolor\":\"white\",\"linecolor\":\"white\",\"ticks\":\"\",\"title\":{\"standoff\":15},\"zerolinecolor\":\"white\",\"zerolinewidth\":2},\"yaxis\":{\"automargin\":true,\"gridcolor\":\"white\",\"linecolor\":\"white\",\"ticks\":\"\",\"title\":{\"standoff\":15},\"zerolinecolor\":\"white\",\"zerolinewidth\":2}}},\"xaxis\":{\"anchor\":\"y\",\"domain\":[0.0,1.0],\"scaleanchor\":\"y\",\"constrain\":\"domain\"},\"yaxis\":{\"anchor\":\"x\",\"domain\":[0.0,1.0],\"autorange\":\"reversed\",\"constrain\":\"domain\"},\"coloraxis\":{\"colorscale\":[[0.0,\"#0d0887\"],[0.1111111111111111,\"#46039f\"],[0.2222222222222222,\"#7201a8\"],[0.3333333333333333,\"#9c179e\"],[0.4444444444444444,\"#bd3786\"],[0.5555555555555556,\"#d8576b\"],[0.6666666666666666,\"#ed7953\"],[0.7777777777777778,\"#fb9f3a\"],[0.8888888888888888,\"#fdca26\"],[1.0,\"#f0f921\"]]},\"margin\":{\"t\":60}},                        {\"responsive\": true}                    ).then(function(){\n",
              "                            \n",
              "var gd = document.getElementById('7cca6b2b-f53a-4cfb-9732-176183dd7194');\n",
              "var x = new MutationObserver(function (mutations, observer) {{\n",
              "        var display = window.getComputedStyle(gd).display;\n",
              "        if (!display || display === 'none') {{\n",
              "            console.log([gd, 'removed!']);\n",
              "            Plotly.purge(gd);\n",
              "            observer.disconnect();\n",
              "        }}\n",
              "}});\n",
              "\n",
              "// Listen for the removal of the full notebook cells\n",
              "var notebookContainer = gd.closest('#notebook-container');\n",
              "if (notebookContainer) {{\n",
              "    x.observe(notebookContainer, {childList: true});\n",
              "}}\n",
              "\n",
              "// Listen for the clearing of the current output cell\n",
              "var outputEl = gd.closest('.output');\n",
              "if (outputEl) {{\n",
              "    x.observe(outputEl, {childList: true});\n",
              "}}\n",
              "\n",
              "                        })                };                            </script>        </div>\n",
              "</body>\n",
              "</html>"
            ]
          },
          "metadata": {}
        }
      ]
    },
    {
      "cell_type": "code",
      "execution_count": 9,
      "metadata": {
        "colab": {
          "base_uri": "https://localhost:8080/"
        },
        "id": "6hBty4K7p3jF",
        "outputId": "1cb2923b-07e8-450a-9856-cfa6f56c7c81"
      },
      "outputs": [
        {
          "output_type": "execute_result",
          "data": {
            "text/plain": [
              "4.0    774\n",
              "5.0    170\n",
              "3.0    135\n",
              "2.0     12\n",
              "1.0      2\n",
              "6.0      1\n",
              "Name: rating, dtype: int64"
            ]
          },
          "metadata": {},
          "execution_count": 9
        }
      ],
      "source": [
        "#frequency of each in rating column\n",
        "train['rating'].value_counts()"
      ]
    },
    {
      "cell_type": "code",
      "execution_count": 10,
      "metadata": {
        "id": "SkkBjekXqwUe"
      },
      "outputs": [],
      "source": [
        "#drop out of range values\n",
        "rating = [5.0,4.0, 3.0, 2.0, 1.0]\n",
        "train = train[train['rating'].isin(rating)]"
      ]
    },
    {
      "cell_type": "code",
      "execution_count": 11,
      "metadata": {
        "colab": {
          "base_uri": "https://localhost:8080/"
        },
        "id": "GdYt_B4TuB9f",
        "outputId": "10142529-871d-45ea-a26e-a88326ed5a54"
      },
      "outputs": [
        {
          "output_type": "execute_result",
          "data": {
            "text/plain": [
              "4.0    774\n",
              "5.0    170\n",
              "3.0    135\n",
              "2.0     12\n",
              "1.0      2\n",
              "Name: rating, dtype: int64"
            ]
          },
          "metadata": {},
          "execution_count": 11
        }
      ],
      "source": [
        "#checking range values\n",
        "train['rating'].value_counts()"
      ]
    },
    {
      "cell_type": "code",
      "source": [
        "train['rating'].value_counts(normalize=True).plot(kind='bar')"
      ],
      "metadata": {
        "colab": {
          "base_uri": "https://localhost:8080/",
          "height": 292
        },
        "id": "swSWtmoGJbbh",
        "outputId": "34540e9b-2f55-4220-8d1c-da598950a412"
      },
      "execution_count": 128,
      "outputs": [
        {
          "output_type": "execute_result",
          "data": {
            "text/plain": [
              "<matplotlib.axes._subplots.AxesSubplot at 0x7f4f6fcfc110>"
            ]
          },
          "metadata": {},
          "execution_count": 128
        },
        {
          "output_type": "display_data",
          "data": {
            "image/png": "[encoded data removed]",
            "text/plain": [
              "<Figure size 432x288 with 1 Axes>"
            ]
          },
          "metadata": {}
        }
      ]
    },
    {
      "cell_type": "code",
      "execution_count": 12,
      "metadata": {
        "colab": {
          "base_uri": "https://localhost:8080/"
        },
        "id": "AVZvc8WyvoZ8",
        "outputId": "0f139424-5ca8-4866-842f-868844e3bfaa"
      },
      "outputs": [
        {
          "output_type": "execute_result",
          "data": {
            "text/plain": [
              "Index(['price', 'retail_price', 'currency_buyer', 'units_sold',\n",
              "       'uses_ad_boosts', 'rating', 'rating_count', 'badges_count',\n",
              "       'badge_local_product', 'badge_product_quality', 'badge_fast_shipping',\n",
              "       'tags', 'product_color', 'product_variation_size_id',\n",
              "       'product_variation_inventory', 'shipping_option_name',\n",
              "       'shipping_option_price', 'shipping_is_express', 'countries_shipped_to',\n",
              "       'inventory_total', 'has_urgency_banner', 'urgency_text',\n",
              "       'origin_country', 'merchant_title', 'merchant_name',\n",
              "       'merchant_info_subtitle', 'merchant_rating_count', 'merchant_rating',\n",
              "       'merchant_id', 'merchant_has_profile_picture',\n",
              "       'merchant_profile_picture', 'theme', 'crawl_month', 'id'],\n",
              "      dtype='object')"
            ]
          },
          "metadata": {},
          "execution_count": 12
        }
      ],
      "source": [
        "#train columns\n",
        "train.columns"
      ]
    },
    {
      "cell_type": "markdown",
      "source": [
        "most of the data below 15 euro"
      ],
      "metadata": {
        "id": "iFuEUnpG6mjR"
      }
    },
    {
      "cell_type": "code",
      "source": [
        "import seaborn as sns\n",
        "sns.relplot(x=\"price\", y=\"rating\", hue=\"units_sold\", data=train)"
      ],
      "metadata": {
        "id": "CxYxNXKskRmF",
        "colab": {
          "base_uri": "https://localhost:8080/",
          "height": 386
        },
        "outputId": "1619649b-509e-4d2e-c110-ff05d094cb3b"
      },
      "execution_count": 13,
      "outputs": [
        {
          "output_type": "execute_result",
          "data": {
            "text/plain": [
              "<seaborn.axisgrid.FacetGrid at 0x7f4f78c83590>"
            ]
          },
          "metadata": {},
          "execution_count": 13
        },
        {
          "output_type": "display_data",
          "data": {
            "image/png": "[encoded data removed]",
            "text/plain": [
              "<Figure size 433.625x360 with 1 Axes>"
            ]
          },
          "metadata": {
            "needs_background": "light"
          }
        }
      ]
    },
    {
      "cell_type": "code",
      "execution_count": 14,
      "metadata": {
        "colab": {
          "base_uri": "https://localhost:8080/",
          "height": 314
        },
        "id": "g8lYvsaKv8zB",
        "outputId": "20377fe6-1f98-42b5-d11e-c448d0628d67"
      },
      "outputs": [
        {
          "output_type": "execute_result",
          "data": {
            "text/plain": [
              "<matplotlib.axes._subplots.AxesSubplot at 0x7f4f73e21910>"
            ]
          },
          "metadata": {},
          "execution_count": 14
        },
        {
          "output_type": "display_data",
          "data": {
            "image/png": "[encoded data removed]",
            "text/plain": [
              "<Figure size 432x288 with 1 Axes>"
            ]
          },
          "metadata": {
            "needs_background": "light"
          }
        }
      ],
      "source": [
        "# value counts in theme column\n",
        "train['theme'].value_counts().plot(kind='bar')"
      ]
    },
    {
      "cell_type": "code",
      "execution_count": 15,
      "metadata": {
        "colab": {
          "base_uri": "https://localhost:8080/",
          "height": 314
        },
        "id": "CTYJTTkhzN2R",
        "outputId": "5fa959e1-f641-44f5-bc96-8a30a226899c"
      },
      "outputs": [
        {
          "output_type": "execute_result",
          "data": {
            "text/plain": [
              "<matplotlib.axes._subplots.AxesSubplot at 0x7f4f73d8d250>"
            ]
          },
          "metadata": {},
          "execution_count": 15
        },
        {
          "output_type": "display_data",
          "data": {
            "image/png": "[encoded data removed]",
            "text/plain": [
              "<Figure size 432x288 with 1 Axes>"
            ]
          },
          "metadata": {
            "needs_background": "light"
          }
        }
      ],
      "source": [
        "# value counts in crawl_month column\n",
        "train['crawl_month'].value_counts().plot(kind='bar')"
      ]
    },
    {
      "cell_type": "code",
      "execution_count": 16,
      "metadata": {
        "colab": {
          "base_uri": "https://localhost:8080/"
        },
        "id": "XJ6HyCmjzi1R",
        "outputId": "a36518da-d66d-4969-ed9a-2da7d43bd191"
      },
      "outputs": [
        {
          "output_type": "execute_result",
          "data": {
            "text/plain": [
              "86 % avis positifs (12,309 notes)    8\n",
              "83 % avis positifs (32,168 notes)    7\n",
              "85 % avis positifs (80,093 notes)    5\n",
              "85 % avis positifs (5,264 notes)     5\n",
              "84 % avis positifs (1,047 notes)     5\n",
              "                                    ..\n",
              "90 % avis positifs (2,359 notes)     1\n",
              "90 % avis positifs (26,833 notes)    1\n",
              "86 % avis positifs (4,335 notes)     1\n",
              "79 % avis positifs (667 notes)       1\n",
              "78 % avis positifs (6,632 notes)     1\n",
              "Name: merchant_info_subtitle, Length: 807, dtype: int64"
            ]
          },
          "metadata": {},
          "execution_count": 16
        }
      ],
      "source": [
        "# value counts in merchant_info_subtitle column\n",
        "train['merchant_info_subtitle'].value_counts()"
      ]
    },
    {
      "cell_type": "code",
      "execution_count": 17,
      "metadata": {
        "colab": {
          "base_uri": "https://localhost:8080/"
        },
        "id": "oUxBJNX7z3r3",
        "outputId": "c3cc7b1b-fcf3-4081-d9c9-633faa5f2190"
      },
      "outputs": [
        {
          "output_type": "execute_result",
          "data": {
            "text/plain": [
              "greatexpectationstechnology              8\n",
              "广州唯适唯服饰有限公司                              7\n",
              "sangboostore                             6\n",
              "shuilingjiaointernationaltradecompany    6\n",
              "fengjinying                              6\n",
              "                                        ..\n",
              "wwenliping                               1\n",
              "yourvogue                                1\n",
              "caohongbo                                1\n",
              "bumanke003                               1\n",
              "oiug56465                                1\n",
              "Name: merchant_name, Length: 745, dtype: int64"
            ]
          },
          "metadata": {},
          "execution_count": 17
        }
      ],
      "source": [
        "train['merchant_name'].value_counts()"
      ]
    },
    {
      "cell_type": "code",
      "source": [
        "\n",
        "sns.set_theme(style=\"ticks\", color_codes=True)\n",
        "\n",
        "sns.catplot(x=\"rating\", y=\"rating_count\", data=train)"
      ],
      "metadata": {
        "id": "orI1lRdbloQu",
        "colab": {
          "base_uri": "https://localhost:8080/",
          "height": 382
        },
        "outputId": "f3cde63e-0301-48d5-8eff-078867baa78c"
      },
      "execution_count": 18,
      "outputs": [
        {
          "output_type": "execute_result",
          "data": {
            "text/plain": [
              "<seaborn.axisgrid.FacetGrid at 0x7f4f73cf3b10>"
            ]
          },
          "metadata": {},
          "execution_count": 18
        },
        {
          "output_type": "display_data",
          "data": {
            "image/png": "[encoded data removed]",
            "text/plain": [
              "<Figure size 360x360 with 1 Axes>"
            ]
          },
          "metadata": {}
        }
      ]
    },
    {
      "cell_type": "markdown",
      "metadata": {
        "id": "207jv2FvhfTO"
      },
      "source": [
        "need to be drop because 97% of the values are CN so ther is no variation"
      ]
    },
    {
      "cell_type": "code",
      "execution_count": 19,
      "metadata": {
        "colab": {
          "base_uri": "https://localhost:8080/"
        },
        "id": "k35L_bjO0B9q",
        "outputId": "03eff008-911b-4ed3-ea08-9129c8ad6308"
      },
      "outputs": [
        {
          "output_type": "execute_result",
          "data": {
            "text/plain": [
              "CN    0.974098\n",
              "US    0.020352\n",
              "VE    0.002775\n",
              "SG    0.001850\n",
              "GB    0.000925\n",
              "Name: origin_country, dtype: float64"
            ]
          },
          "metadata": {},
          "execution_count": 19
        }
      ],
      "source": [
        "train['origin_country'].value_counts(normalize=True)"
      ]
    },
    {
      "cell_type": "markdown",
      "metadata": {
        "id": "_BMYfd5G98Gb"
      },
      "source": [
        "less variation, the currency_buyer column has one value"
      ]
    },
    {
      "cell_type": "code",
      "execution_count": 20,
      "metadata": {
        "colab": {
          "base_uri": "https://localhost:8080/"
        },
        "id": "rUE2W9uw0IGi",
        "outputId": "e73434a5-0208-497c-c2c0-3a63322e65d7"
      },
      "outputs": [
        {
          "output_type": "execute_result",
          "data": {
            "text/plain": [
              "EUR    1093\n",
              "Name: currency_buyer, dtype: int64"
            ]
          },
          "metadata": {},
          "execution_count": 20
        }
      ],
      "source": [
        "train['currency_buyer'].value_counts()"
      ]
    },
    {
      "cell_type": "code",
      "execution_count": 21,
      "metadata": {
        "colab": {
          "base_uri": "https://localhost:8080/"
        },
        "id": "tOpyeSJW9rt7",
        "outputId": "94d700c7-48af-4ff1-92bb-ea2604855e99"
      },
      "outputs": [
        {
          "output_type": "execute_result",
          "data": {
            "text/plain": [
              "Livraison standard         0.957914\n",
              "Standard Shipping          0.014639\n",
              "Envio Padrão               0.005489\n",
              "الشحن القياسي              0.003660\n",
              "Expediere Standard         0.003660\n",
              "Envío normal               0.002745\n",
              "Standardversand            0.002745\n",
              "Standardowa wysyłka        0.001830\n",
              "Standart Gönderi           0.001830\n",
              "Livraison Express          0.001830\n",
              "Стандартная доставка       0.001830\n",
              "Spedizione standard        0.000915\n",
              "ការដឹកជញ្ជូនតាមស្តង់ដារ    0.000915\n",
              "Name: shipping_option_name, dtype: float64"
            ]
          },
          "metadata": {},
          "execution_count": 21
        }
      ],
      "source": [
        "train['shipping_option_name'].value_counts(normalize=True)"
      ]
    },
    {
      "cell_type": "markdown",
      "metadata": {
        "id": "vbXbUF-muTfI"
      },
      "source": [
        "Pivot table"
      ]
    },
    {
      "cell_type": "code",
      "execution_count": 22,
      "metadata": {
        "colab": {
          "base_uri": "https://localhost:8080/"
        },
        "id": "RnanrPGz9yi0",
        "outputId": "138386a9-6022-4669-a8f1-ef94b2f6243b"
      },
      "outputs": [
        {
          "output_type": "execute_result",
          "data": {
            "text/plain": [
              "S           444\n",
              "XS          248\n",
              "M           135\n",
              "XXS          76\n",
              "L            29\n",
              "           ... \n",
              "pants-S       1\n",
              "XXXXL         1\n",
              "SIZE-XXS      1\n",
              "1pc           1\n",
              "H01           1\n",
              "Name: product_variation_size_id, Length: 83, dtype: int64"
            ]
          },
          "metadata": {},
          "execution_count": 22
        }
      ],
      "source": [
        "train['product_variation_size_id'].value_counts()"
      ]
    },
    {
      "cell_type": "markdown",
      "source": [
        "pivot table"
      ],
      "metadata": {
        "id": "AmuOW0VlAsAE"
      }
    },
    {
      "cell_type": "code",
      "execution_count": 23,
      "metadata": {
        "colab": {
          "base_uri": "https://localhost:8080/"
        },
        "id": "vuNxEUkyRSy-",
        "outputId": "ef2a4d4d-d5c4-43ca-ec78-da54df9cc514"
      },
      "outputs": [
        {
          "output_type": "execute_result",
          "data": {
            "text/plain": [
              "array(['yellow', 'black', 'white', 'lakeblue', 'apricot', 'brown',\n",
              "       'winered', 'blue', 'red', 'navyblue', 'green', 'khaki', 'White',\n",
              "       'white & green', 'multicolor', 'lightpink', 'pink', 'RED',\n",
              "       'armygreen', 'lightblue', nan, 'coffee', 'grey', 'skyblue',\n",
              "       'watermelonred', 'pink & black', 'whitefloral', 'purple', 'navy',\n",
              "       'pink & white', 'rosered', 'orange', 'Black', 'mintgreen',\n",
              "       'leopardprint', 'gray', 'navy blue', 'star', 'rose', 'lightyellow',\n",
              "       'camouflage', 'black & yellow', 'whitestripe', 'navyblue & white',\n",
              "       'black & blue', 'lightred', 'violet', 'gold', 'black & green',\n",
              "       'white & black', 'burgundy', 'black & white', 'lightgrey',\n",
              "       'coolblack', 'lightgreen', 'beige', 'darkblue', 'darkgreen',\n",
              "       'silver', 'wine red', 'Army green', 'pink & blue', 'rainbow',\n",
              "       'claret', 'floral', 'brown & yellow', 'light green', 'Pink',\n",
              "       'blue & pink', 'dustypink', 'camel', 'orange-red', 'rosegold',\n",
              "       'ivory', 'fluorescentgreen', 'winered & yellow', 'offwhite',\n",
              "       'lightgray', 'wine', 'army', 'applegreen', 'nude', 'pink & grey',\n",
              "       'denimblue', 'blackwhite', 'Blue', 'leopard'], dtype=object)"
            ]
          },
          "metadata": {},
          "execution_count": 23
        }
      ],
      "source": [
        "train['product_color'].unique()"
      ]
    },
    {
      "cell_type": "markdown",
      "metadata": {
        "id": "2CW7ETtzbdBp"
      },
      "source": [
        "# Data Preprocessing"
      ]
    },
    {
      "cell_type": "markdown",
      "source": [
        "### dealing with missing values"
      ],
      "metadata": {
        "id": "GRMPWu6BnbxN"
      }
    },
    {
      "cell_type": "code",
      "execution_count": 24,
      "metadata": {
        "id": "0D2cB4vubIn0"
      },
      "outputs": [],
      "source": [
        "# drop duplicates (if any)\n",
        "train.drop_duplicates(inplace=True)"
      ]
    },
    {
      "cell_type": "code",
      "source": [
        "# missing values per-column\n",
        "train.isnull().sum().sort_values(ascending=False)"
      ],
      "metadata": {
        "id": "ijKLLgHdnpDc",
        "colab": {
          "base_uri": "https://localhost:8080/"
        },
        "outputId": "12173bbc-7474-48ef-941e-5f318d6c5325"
      },
      "execution_count": 25,
      "outputs": [
        {
          "output_type": "execute_result",
          "data": {
            "text/plain": [
              "merchant_profile_picture        923\n",
              "has_urgency_banner              744\n",
              "urgency_text                    744\n",
              "product_color                    29\n",
              "origin_country                   12\n",
              "product_variation_size_id        12\n",
              "merchant_name                     4\n",
              "price                             0\n",
              "merchant_title                    0\n",
              "merchant_info_subtitle            0\n",
              "countries_shipped_to              0\n",
              "merchant_rating_count             0\n",
              "merchant_rating                   0\n",
              "merchant_id                       0\n",
              "merchant_has_profile_picture      0\n",
              "theme                             0\n",
              "crawl_month                       0\n",
              "inventory_total                   0\n",
              "shipping_is_express               0\n",
              "retail_price                      0\n",
              "shipping_option_price             0\n",
              "shipping_option_name              0\n",
              "product_variation_inventory       0\n",
              "tags                              0\n",
              "badge_fast_shipping               0\n",
              "badge_product_quality             0\n",
              "badge_local_product               0\n",
              "badges_count                      0\n",
              "rating_count                      0\n",
              "rating                            0\n",
              "uses_ad_boosts                    0\n",
              "units_sold                        0\n",
              "currency_buyer                    0\n",
              "id                                0\n",
              "dtype: int64"
            ]
          },
          "metadata": {},
          "execution_count": 25
        }
      ]
    },
    {
      "cell_type": "code",
      "source": [
        "import missingno as msno\n",
        "msno.matrix(train)\n",
        "plt.show()"
      ],
      "metadata": {
        "id": "VFnrPWpjnu6g",
        "colab": {
          "base_uri": "https://localhost:8080/",
          "height": 737
        },
        "outputId": "ad91bf67-2755-4375-91ea-d37f371a84c1"
      },
      "execution_count": 26,
      "outputs": [
        {
          "output_type": "display_data",
          "data": {
            "image/png": "[encoded data removed]",
            "text/plain": [
              "<Figure size 1800x720 with 2 Axes>"
            ]
          },
          "metadata": {}
        }
      ]
    },
    {
      "cell_type": "markdown",
      "metadata": {
        "id": "ptGqxv94m7wZ"
      },
      "source": [
        "No variation in the columns either one value in a column or one value dominate the others"
      ]
    },
    {
      "cell_type": "code",
      "execution_count": 27,
      "metadata": {
        "id": "w3JWv6a0iCQH"
      },
      "outputs": [],
      "source": [
        "train.drop(['theme', 'crawl_month','currency_buyer'], axis=1, inplace=True)"
      ]
    },
    {
      "cell_type": "markdown",
      "metadata": {
        "id": "75EhuMAwi5tO"
      },
      "source": [
        "drop id, column becuase they have no meaning or irrelevant"
      ]
    },
    {
      "cell_type": "code",
      "execution_count": 28,
      "metadata": {
        "colab": {
          "base_uri": "https://localhost:8080/"
        },
        "id": "2l-6lD8I8T-e",
        "outputId": "6c2d834d-8aac-4355-ec70-06d3612ff232"
      },
      "outputs": [
        {
          "output_type": "stream",
          "name": "stdout",
          "text": [
            "['merchant_title' 'merchant_name' 'merchant_info_subtitle'\n",
            " 'merchant_rating_count' 'merchant_rating' 'merchant_id'\n",
            " 'merchant_has_profile_picture' 'merchant_profile_picture']\n"
          ]
        }
      ],
      "source": [
        "# show columns that start with \"merchant\"\n",
        "print(train.loc[:,train.columns.str.startswith(\"merchant\")].columns.values)"
      ]
    },
    {
      "cell_type": "code",
      "execution_count": 29,
      "metadata": {
        "id": "RKcA6sGHiuND"
      },
      "outputs": [],
      "source": [
        "#drop columns\n",
        "train.drop(['merchant_info_subtitle', 'merchant_title', 'merchant_name', 'merchant_has_profile_picture'],axis=1,inplace=True)"
      ]
    },
    {
      "cell_type": "markdown",
      "metadata": {
        "id": "y6u8bb9NjRkW"
      },
      "source": [
        "drop columns with null values"
      ]
    },
    {
      "cell_type": "code",
      "execution_count": 30,
      "metadata": {
        "colab": {
          "base_uri": "https://localhost:8080/"
        },
        "id": "PrJDeIWS8T-g",
        "outputId": "0d248082-9f8c-4b4c-d11a-dbfec0d3bdfd"
      },
      "outputs": [
        {
          "output_type": "execute_result",
          "data": {
            "text/plain": [
              "price                            0\n",
              "retail_price                     0\n",
              "units_sold                       0\n",
              "uses_ad_boosts                   0\n",
              "rating                           0\n",
              "rating_count                     0\n",
              "badges_count                     0\n",
              "badge_local_product              0\n",
              "badge_product_quality            0\n",
              "badge_fast_shipping              0\n",
              "tags                             0\n",
              "product_color                   29\n",
              "product_variation_size_id       12\n",
              "product_variation_inventory      0\n",
              "shipping_option_name             0\n",
              "shipping_option_price            0\n",
              "shipping_is_express              0\n",
              "countries_shipped_to             0\n",
              "inventory_total                  0\n",
              "has_urgency_banner             744\n",
              "urgency_text                   744\n",
              "origin_country                  12\n",
              "merchant_rating_count            0\n",
              "merchant_rating                  0\n",
              "merchant_id                      0\n",
              "merchant_profile_picture       923\n",
              "id                               0\n",
              "dtype: int64"
            ]
          },
          "metadata": {},
          "execution_count": 30
        }
      ],
      "source": [
        "train.isnull().sum()"
      ]
    },
    {
      "cell_type": "code",
      "execution_count": 31,
      "metadata": {
        "id": "Z-3zsxfzieCd"
      },
      "outputs": [],
      "source": [
        "# drop columns\n",
        "train.drop(['merchant_profile_picture','urgency_text','has_urgency_banner'], axis=1, inplace=True)"
      ]
    },
    {
      "cell_type": "markdown",
      "metadata": {
        "id": "IW0NuXgCVw9I"
      },
      "source": [
        "high correlation so they should be dropped"
      ]
    },
    {
      "cell_type": "code",
      "execution_count": 32,
      "metadata": {
        "id": "iPzwjFRQ8T-i"
      },
      "outputs": [],
      "source": [
        "# impute missing values with \"unknown\"\n",
        "train.fillna(\"unknown\", inplace=True)"
      ]
    },
    {
      "cell_type": "markdown",
      "metadata": {
        "id": "VEi_5mzA8T-i"
      },
      "source": [
        "badge columns"
      ]
    },
    {
      "cell_type": "code",
      "execution_count": 33,
      "metadata": {
        "colab": {
          "base_uri": "https://localhost:8080/"
        },
        "id": "pRfe0PYR8T-i",
        "outputId": "38842eeb-d5df-4511-d9a2-334cf78901ea"
      },
      "outputs": [
        {
          "output_type": "execute_result",
          "data": {
            "text/plain": [
              "Index(['badges_count', 'badge_local_product', 'badge_product_quality',\n",
              "       'badge_fast_shipping'],\n",
              "      dtype='object')"
            ]
          },
          "metadata": {},
          "execution_count": 33
        }
      ],
      "source": [
        "# show columns that start with \"badge\"\n",
        "train.loc[:,train.columns.str.startswith('badge')].columns"
      ]
    },
    {
      "cell_type": "code",
      "execution_count": 34,
      "metadata": {
        "id": "R8XAsBN4_HEM"
      },
      "outputs": [],
      "source": [
        "#change data type of badge columns\n",
        "train[['badge_local_product', 'badge_product_quality','badge_fast_shipping']] = train[['badge_local_product', 'badge_product_quality','badge_fast_shipping']].astype(str)"
      ]
    },
    {
      "cell_type": "code",
      "execution_count": 35,
      "metadata": {
        "id": "YAatX9888T-k"
      },
      "outputs": [],
      "source": [
        "#create a copy of orignal data\n",
        "eda_train = train.copy()"
      ]
    },
    {
      "cell_type": "code",
      "execution_count": 36,
      "metadata": {
        "colab": {
          "base_uri": "https://localhost:8080/"
        },
        "id": "tqLu4Csx8T-k",
        "outputId": "975cc75b-e5c1-4e0c-a65e-6fde011b3415"
      },
      "outputs": [
        {
          "output_type": "stream",
          "name": "stdout",
          "text": [
            "<class 'pandas.core.frame.DataFrame'>\n",
            "Int64Index: 1093 entries, 0 to 1093\n",
            "Data columns (total 24 columns):\n",
            " #   Column                       Non-Null Count  Dtype  \n",
            "---  ------                       --------------  -----  \n",
            " 0   price                        1093 non-null   float64\n",
            " 1   retail_price                 1093 non-null   int64  \n",
            " 2   units_sold                   1093 non-null   int64  \n",
            " 3   uses_ad_boosts               1093 non-null   int64  \n",
            " 4   rating                       1093 non-null   float64\n",
            " 5   rating_count                 1093 non-null   int64  \n",
            " 6   badges_count                 1093 non-null   int64  \n",
            " 7   badge_local_product          1093 non-null   object \n",
            " 8   badge_product_quality        1093 non-null   object \n",
            " 9   badge_fast_shipping          1093 non-null   object \n",
            " 10  tags                         1093 non-null   object \n",
            " 11  product_color                1093 non-null   object \n",
            " 12  product_variation_size_id    1093 non-null   object \n",
            " 13  product_variation_inventory  1093 non-null   int64  \n",
            " 14  shipping_option_name         1093 non-null   object \n",
            " 15  shipping_option_price        1093 non-null   int64  \n",
            " 16  shipping_is_express          1093 non-null   int64  \n",
            " 17  countries_shipped_to         1093 non-null   int64  \n",
            " 18  inventory_total              1093 non-null   int64  \n",
            " 19  origin_country               1093 non-null   object \n",
            " 20  merchant_rating_count        1093 non-null   int64  \n",
            " 21  merchant_rating              1093 non-null   float64\n",
            " 22  merchant_id                  1093 non-null   object \n",
            " 23  id                           1093 non-null   int64  \n",
            "dtypes: float64(3), int64(12), object(9)\n",
            "memory usage: 213.5+ KB\n"
          ]
        }
      ],
      "source": [
        "eda_train.info()"
      ]
    },
    {
      "cell_type": "code",
      "execution_count": 37,
      "metadata": {
        "id": "3d1WgqVw_X4q"
      },
      "outputs": [],
      "source": [
        "#replace country code with its name \n",
        "eda_train.origin_country = eda_train.origin_country.str.replace( 'CN',\"China\" )\n",
        "eda_train.origin_country = eda_train.origin_country.str.replace( \"US\",\"United States of America\" )\n",
        "eda_train.origin_country = eda_train.origin_country.str.replace( \"unknown\",\"unknown\" )\n",
        "eda_train.origin_country = eda_train.origin_country.str.replace( \"VE\",\"Venezuela\" )\n",
        "eda_train.origin_country = eda_train.origin_country.str.replace( 'GB',\"Great Britain\" )\n",
        "eda_train.origin_country = eda_train.origin_country.str.replace( 'SG',\"Singapore\" )\n",
        "eda_train.origin_country = eda_train.origin_country.str.replace( 'AT',\"Austria\" )"
      ]
    },
    {
      "cell_type": "markdown",
      "metadata": {
        "id": "lP0ZVF3mHhas"
      },
      "source": [
        "drop id column because it has no meaning "
      ]
    },
    {
      "cell_type": "code",
      "execution_count": 38,
      "metadata": {
        "colab": {
          "base_uri": "https://localhost:8080/",
          "height": 542
        },
        "id": "lCX8OsEj8T-m",
        "outputId": "008c3a3e-7e0f-4d2b-80b2-e4512dbd6054"
      },
      "outputs": [
        {
          "output_type": "display_data",
          "data": {
            "text/html": [
              "<html>\n",
              "<head><meta charset=\"utf-8\" /></head>\n",
              "<body>\n",
              "    <div>            <script src=\"https://cdnjs.cloudflare.com/ajax/libs/mathjax/2.7.5/MathJax.js?config=TeX-AMS-MML_SVG\"></script><script type=\"text/javascript\">if (window.MathJax) {MathJax.Hub.Config({SVG: {font: \"STIX-Web\"}});}</script>                <script type=\"text/javascript\">window.PlotlyConfig = {MathJaxConfig: 'local'};</script>\n",
              "        <script src=\"https://cdn.plot.ly/plotly-2.8.3.min.js\"></script>                <div id=\"b53c7233-f005-4290-ab3c-cf74f7dd88a0\" class=\"plotly-graph-div\" style=\"height:525px; width:100%;\"></div>            <script type=\"text/javascript\">                                    window.PLOTLYENV=window.PLOTLYENV || {};                                    if (document.getElementById(\"b53c7233-f005-4290-ab3c-cf74f7dd88a0\")) {                    Plotly.newPlot(                        \"b53c7233-f005-4290-ab3c-cf74f7dd88a0\",                        [{\"labels\":[\"China\",\"United States of America\",\"unknown\",\"Venezuela\",\"Singapore\",\"Great Britain\"],\"values\":[1053,22,12,3,2,1],\"type\":\"pie\"}],                        {\"template\":{\"data\":{\"barpolar\":[{\"marker\":{\"line\":{\"color\":\"rgb(17,17,17)\",\"width\":0.5},\"pattern\":{\"fillmode\":\"overlay\",\"size\":10,\"solidity\":0.2}},\"type\":\"barpolar\"}],\"bar\":[{\"error_x\":{\"color\":\"#f2f5fa\"},\"error_y\":{\"color\":\"#f2f5fa\"},\"marker\":{\"line\":{\"color\":\"rgb(17,17,17)\",\"width\":0.5},\"pattern\":{\"fillmode\":\"overlay\",\"size\":10,\"solidity\":0.2}},\"type\":\"bar\"}],\"carpet\":[{\"aaxis\":{\"endlinecolor\":\"#A2B1C6\",\"gridcolor\":\"#506784\",\"linecolor\":\"#506784\",\"minorgridcolor\":\"#506784\",\"startlinecolor\":\"#A2B1C6\"},\"baxis\":{\"endlinecolor\":\"#A2B1C6\",\"gridcolor\":\"#506784\",\"linecolor\":\"#506784\",\"minorgridcolor\":\"#506784\",\"startlinecolor\":\"#A2B1C6\"},\"type\":\"carpet\"}],\"choropleth\":[{\"colorbar\":{\"outlinewidth\":0,\"ticks\":\"\"},\"type\":\"choropleth\"}],\"contourcarpet\":[{\"colorbar\":{\"outlinewidth\":0,\"ticks\":\"\"},\"type\":\"contourcarpet\"}],\"contour\":[{\"colorbar\":{\"outlinewidth\":0,\"ticks\":\"\"},\"colorscale\":[[0.0,\"#0d0887\"],[0.1111111111111111,\"#46039f\"],[0.2222222222222222,\"#7201a8\"],[0.3333333333333333,\"#9c179e\"],[0.4444444444444444,\"#bd3786\"],[0.5555555555555556,\"#d8576b\"],[0.6666666666666666,\"#ed7953\"],[0.7777777777777778,\"#fb9f3a\"],[0.8888888888888888,\"#fdca26\"],[1.0,\"#f0f921\"]],\"type\":\"contour\"}],\"heatmapgl\":[{\"colorbar\":{\"outlinewidth\":0,\"ticks\":\"\"},\"colorscale\":[[0.0,\"#0d0887\"],[0.1111111111111111,\"#46039f\"],[0.2222222222222222,\"#7201a8\"],[0.3333333333333333,\"#9c179e\"],[0.4444444444444444,\"#bd3786\"],[0.5555555555555556,\"#d8576b\"],[0.6666666666666666,\"#ed7953\"],[0.7777777777777778,\"#fb9f3a\"],[0.8888888888888888,\"#fdca26\"],[1.0,\"#f0f921\"]],\"type\":\"heatmapgl\"}],\"heatmap\":[{\"colorbar\":{\"outlinewidth\":0,\"ticks\":\"\"},\"colorscale\":[[0.0,\"#0d0887\"],[0.1111111111111111,\"#46039f\"],[0.2222222222222222,\"#7201a8\"],[0.3333333333333333,\"#9c179e\"],[0.4444444444444444,\"#bd3786\"],[0.5555555555555556,\"#d8576b\"],[0.6666666666666666,\"#ed7953\"],[0.7777777777777778,\"#fb9f3a\"],[0.8888888888888888,\"#fdca26\"],[1.0,\"#f0f921\"]],\"type\":\"heatmap\"}],\"histogram2dcontour\":[{\"colorbar\":{\"outlinewidth\":0,\"ticks\":\"\"},\"colorscale\":[[0.0,\"#0d0887\"],[0.1111111111111111,\"#46039f\"],[0.2222222222222222,\"#7201a8\"],[0.3333333333333333,\"#9c179e\"],[0.4444444444444444,\"#bd3786\"],[0.5555555555555556,\"#d8576b\"],[0.6666666666666666,\"#ed7953\"],[0.7777777777777778,\"#fb9f3a\"],[0.8888888888888888,\"#fdca26\"],[1.0,\"#f0f921\"]],\"type\":\"histogram2dcontour\"}],\"histogram2d\":[{\"colorbar\":{\"outlinewidth\":0,\"ticks\":\"\"},\"colorscale\":[[0.0,\"#0d0887\"],[0.1111111111111111,\"#46039f\"],[0.2222222222222222,\"#7201a8\"],[0.3333333333333333,\"#9c179e\"],[0.4444444444444444,\"#bd3786\"],[0.5555555555555556,\"#d8576b\"],[0.6666666666666666,\"#ed7953\"],[0.7777777777777778,\"#fb9f3a\"],[0.8888888888888888,\"#fdca26\"],[1.0,\"#f0f921\"]],\"type\":\"histogram2d\"}],\"histogram\":[{\"marker\":{\"pattern\":{\"fillmode\":\"overlay\",\"size\":10,\"solidity\":0.2}},\"type\":\"histogram\"}],\"mesh3d\":[{\"colorbar\":{\"outlinewidth\":0,\"ticks\":\"\"},\"type\":\"mesh3d\"}],\"parcoords\":[{\"line\":{\"colorbar\":{\"outlinewidth\":0,\"ticks\":\"\"}},\"type\":\"parcoords\"}],\"pie\":[{\"automargin\":true,\"type\":\"pie\"}],\"scatter3d\":[{\"line\":{\"colorbar\":{\"outlinewidth\":0,\"ticks\":\"\"}},\"marker\":{\"colorbar\":{\"outlinewidth\":0,\"ticks\":\"\"}},\"type\":\"scatter3d\"}],\"scattercarpet\":[{\"marker\":{\"colorbar\":{\"outlinewidth\":0,\"ticks\":\"\"}},\"type\":\"scattercarpet\"}],\"scattergeo\":[{\"marker\":{\"colorbar\":{\"outlinewidth\":0,\"ticks\":\"\"}},\"type\":\"scattergeo\"}],\"scattergl\":[{\"marker\":{\"line\":{\"color\":\"#283442\"}},\"type\":\"scattergl\"}],\"scattermapbox\":[{\"marker\":{\"colorbar\":{\"outlinewidth\":0,\"ticks\":\"\"}},\"type\":\"scattermapbox\"}],\"scatterpolargl\":[{\"marker\":{\"colorbar\":{\"outlinewidth\":0,\"ticks\":\"\"}},\"type\":\"scatterpolargl\"}],\"scatterpolar\":[{\"marker\":{\"colorbar\":{\"outlinewidth\":0,\"ticks\":\"\"}},\"type\":\"scatterpolar\"}],\"scatter\":[{\"marker\":{\"line\":{\"color\":\"#283442\"}},\"type\":\"scatter\"}],\"scatterternary\":[{\"marker\":{\"colorbar\":{\"outlinewidth\":0,\"ticks\":\"\"}},\"type\":\"scatterternary\"}],\"surface\":[{\"colorbar\":{\"outlinewidth\":0,\"ticks\":\"\"},\"colorscale\":[[0.0,\"#0d0887\"],[0.1111111111111111,\"#46039f\"],[0.2222222222222222,\"#7201a8\"],[0.3333333333333333,\"#9c179e\"],[0.4444444444444444,\"#bd3786\"],[0.5555555555555556,\"#d8576b\"],[0.6666666666666666,\"#ed7953\"],[0.7777777777777778,\"#fb9f3a\"],[0.8888888888888888,\"#fdca26\"],[1.0,\"#f0f921\"]],\"type\":\"surface\"}],\"table\":[{\"cells\":{\"fill\":{\"color\":\"#506784\"},\"line\":{\"color\":\"rgb(17,17,17)\"}},\"header\":{\"fill\":{\"color\":\"#2a3f5f\"},\"line\":{\"color\":\"rgb(17,17,17)\"}},\"type\":\"table\"}]},\"layout\":{\"annotationdefaults\":{\"arrowcolor\":\"#f2f5fa\",\"arrowhead\":0,\"arrowwidth\":1},\"autotypenumbers\":\"strict\",\"coloraxis\":{\"colorbar\":{\"outlinewidth\":0,\"ticks\":\"\"}},\"colorscale\":{\"diverging\":[[0,\"#8e0152\"],[0.1,\"#c51b7d\"],[0.2,\"#de77ae\"],[0.3,\"#f1b6da\"],[0.4,\"#fde0ef\"],[0.5,\"#f7f7f7\"],[0.6,\"#e6f5d0\"],[0.7,\"#b8e186\"],[0.8,\"#7fbc41\"],[0.9,\"#4d9221\"],[1,\"#276419\"]],\"sequential\":[[0.0,\"#0d0887\"],[0.1111111111111111,\"#46039f\"],[0.2222222222222222,\"#7201a8\"],[0.3333333333333333,\"#9c179e\"],[0.4444444444444444,\"#bd3786\"],[0.5555555555555556,\"#d8576b\"],[0.6666666666666666,\"#ed7953\"],[0.7777777777777778,\"#fb9f3a\"],[0.8888888888888888,\"#fdca26\"],[1.0,\"#f0f921\"]],\"sequentialminus\":[[0.0,\"#0d0887\"],[0.1111111111111111,\"#46039f\"],[0.2222222222222222,\"#7201a8\"],[0.3333333333333333,\"#9c179e\"],[0.4444444444444444,\"#bd3786\"],[0.5555555555555556,\"#d8576b\"],[0.6666666666666666,\"#ed7953\"],[0.7777777777777778,\"#fb9f3a\"],[0.8888888888888888,\"#fdca26\"],[1.0,\"#f0f921\"]]},\"colorway\":[\"#636efa\",\"#EF553B\",\"#00cc96\",\"#ab63fa\",\"#FFA15A\",\"#19d3f3\",\"#FF6692\",\"#B6E880\",\"#FF97FF\",\"#FECB52\"],\"font\":{\"color\":\"#f2f5fa\"},\"geo\":{\"bgcolor\":\"rgb(17,17,17)\",\"lakecolor\":\"rgb(17,17,17)\",\"landcolor\":\"rgb(17,17,17)\",\"showlakes\":true,\"showland\":true,\"subunitcolor\":\"#506784\"},\"hoverlabel\":{\"align\":\"left\"},\"hovermode\":\"closest\",\"mapbox\":{\"style\":\"dark\"},\"paper_bgcolor\":\"rgb(17,17,17)\",\"plot_bgcolor\":\"rgb(17,17,17)\",\"polar\":{\"angularaxis\":{\"gridcolor\":\"#506784\",\"linecolor\":\"#506784\",\"ticks\":\"\"},\"bgcolor\":\"rgb(17,17,17)\",\"radialaxis\":{\"gridcolor\":\"#506784\",\"linecolor\":\"#506784\",\"ticks\":\"\"}},\"scene\":{\"xaxis\":{\"backgroundcolor\":\"rgb(17,17,17)\",\"gridcolor\":\"#506784\",\"gridwidth\":2,\"linecolor\":\"#506784\",\"showbackground\":true,\"ticks\":\"\",\"zerolinecolor\":\"#C8D4E3\"},\"yaxis\":{\"backgroundcolor\":\"rgb(17,17,17)\",\"gridcolor\":\"#506784\",\"gridwidth\":2,\"linecolor\":\"#506784\",\"showbackground\":true,\"ticks\":\"\",\"zerolinecolor\":\"#C8D4E3\"},\"zaxis\":{\"backgroundcolor\":\"rgb(17,17,17)\",\"gridcolor\":\"#506784\",\"gridwidth\":2,\"linecolor\":\"#506784\",\"showbackground\":true,\"ticks\":\"\",\"zerolinecolor\":\"#C8D4E3\"}},\"shapedefaults\":{\"line\":{\"color\":\"#f2f5fa\"}},\"sliderdefaults\":{\"bgcolor\":\"#C8D4E3\",\"bordercolor\":\"rgb(17,17,17)\",\"borderwidth\":1,\"tickwidth\":0},\"ternary\":{\"aaxis\":{\"gridcolor\":\"#506784\",\"linecolor\":\"#506784\",\"ticks\":\"\"},\"baxis\":{\"gridcolor\":\"#506784\",\"linecolor\":\"#506784\",\"ticks\":\"\"},\"bgcolor\":\"rgb(17,17,17)\",\"caxis\":{\"gridcolor\":\"#506784\",\"linecolor\":\"#506784\",\"ticks\":\"\"}},\"title\":{\"x\":0.05},\"updatemenudefaults\":{\"bgcolor\":\"#506784\",\"borderwidth\":0},\"xaxis\":{\"automargin\":true,\"gridcolor\":\"#283442\",\"linecolor\":\"#506784\",\"ticks\":\"\",\"title\":{\"standoff\":15},\"zerolinecolor\":\"#283442\",\"zerolinewidth\":2},\"yaxis\":{\"automargin\":true,\"gridcolor\":\"#283442\",\"linecolor\":\"#506784\",\"ticks\":\"\",\"title\":{\"standoff\":15},\"zerolinecolor\":\"#283442\",\"zerolinewidth\":2}}},\"title\":{\"text\":\"Country of Origin of Product in Wish\"},\"legend\":{\"title\":{\"text\":\"Countries\"}}},                        {\"responsive\": true}                    ).then(function(){\n",
              "                            \n",
              "var gd = document.getElementById('b53c7233-f005-4290-ab3c-cf74f7dd88a0');\n",
              "var x = new MutationObserver(function (mutations, observer) {{\n",
              "        var display = window.getComputedStyle(gd).display;\n",
              "        if (!display || display === 'none') {{\n",
              "            console.log([gd, 'removed!']);\n",
              "            Plotly.purge(gd);\n",
              "            observer.disconnect();\n",
              "        }}\n",
              "}});\n",
              "\n",
              "// Listen for the removal of the full notebook cells\n",
              "var notebookContainer = gd.closest('#notebook-container');\n",
              "if (notebookContainer) {{\n",
              "    x.observe(notebookContainer, {childList: true});\n",
              "}}\n",
              "\n",
              "// Listen for the clearing of the current output cell\n",
              "var outputEl = gd.closest('.output');\n",
              "if (outputEl) {{\n",
              "    x.observe(outputEl, {childList: true});\n",
              "}}\n",
              "\n",
              "                        })                };                            </script>        </div>\n",
              "</body>\n",
              "</html>"
            ]
          },
          "metadata": {}
        }
      ],
      "source": [
        "# create a pie plot of country name and\n",
        "#how many time it occurred in data\n",
        "labels = eda_train.origin_country.value_counts(normalize=True).index.values\n",
        "\n",
        "values  = eda_train.origin_country.value_counts().values\n",
        "\n",
        "\n",
        "fig = go.Figure()\n",
        "fig.add_trace(go.Pie(labels=labels, values=values))\n",
        "fig.update_layout(title=\"Country of Origin of Product in Wish\", legend_title=\"Countries\", template=\"plotly_dark\")"
      ]
    },
    {
      "cell_type": "code",
      "execution_count": 39,
      "metadata": {
        "id": "jnrWcBw78T-n"
      },
      "outputs": [],
      "source": [
        "# create discounted_price column \n",
        "#by subtracting retail_price from price\n",
        "eda_train['discounted_price'] = eda_train['retail_price'] - eda_train['price']\n",
        "prices_by_country = eda_train[['price','discounted_price','retail_price','origin_country']].groupby('origin_country').mean()"
      ]
    },
    {
      "cell_type": "code",
      "execution_count": 40,
      "metadata": {
        "colab": {
          "base_uri": "https://localhost:8080/",
          "height": 542
        },
        "id": "CAcxpdFc8T-n",
        "outputId": "b5516e79-eda6-4c48-d5c3-c9d26f9493e3"
      },
      "outputs": [
        {
          "output_type": "display_data",
          "data": {
            "text/html": [
              "<html>\n",
              "<head><meta charset=\"utf-8\" /></head>\n",
              "<body>\n",
              "    <div>            <script src=\"https://cdnjs.cloudflare.com/ajax/libs/mathjax/2.7.5/MathJax.js?config=TeX-AMS-MML_SVG\"></script><script type=\"text/javascript\">if (window.MathJax) {MathJax.Hub.Config({SVG: {font: \"STIX-Web\"}});}</script>                <script type=\"text/javascript\">window.PlotlyConfig = {MathJaxConfig: 'local'};</script>\n",
              "        <script src=\"https://cdn.plot.ly/plotly-2.8.3.min.js\"></script>                <div id=\"46190e9c-cb26-475a-bcaa-4fe9649ed447\" class=\"plotly-graph-div\" style=\"height:525px; width:100%;\"></div>            <script type=\"text/javascript\">                                    window.PLOTLYENV=window.PLOTLYENV || {};                                    if (document.getElementById(\"46190e9c-cb26-475a-bcaa-4fe9649ed447\")) {                    Plotly.newPlot(                        \"46190e9c-cb26-475a-bcaa-4fe9649ed447\",                        [{\"name\":\"Price\",\"x\":[\"China\",\"Great Britain\",\"Singapore\",\"United States of America\",\"Venezuela\",\"unknown\"],\"y\":[8.305660018993352,9.0,3.38,9.497727272727273,6.886666666666667,5.225833333333333],\"type\":\"bar\"},{\"name\":\"Discounted Price\",\"x\":[\"China\",\"Great Britain\",\"Singapore\",\"United States of America\",\"Venezuela\",\"unknown\"],\"y\":[15.342013295346629,-1.0,0.11999999999999988,22.911363636363635,30.44666666666667,7.940833333333334],\"type\":\"scatter\"},{\"name\":\"Retail Price\",\"x\":[\"China\",\"Great Britain\",\"Singapore\",\"United States of America\",\"Venezuela\",\"unknown\"],\"y\":[23.647673314339983,8.0,3.5,32.40909090909091,37.333333333333336,13.166666666666666],\"type\":\"bar\"}],                        {\"template\":{\"data\":{\"barpolar\":[{\"marker\":{\"line\":{\"color\":\"rgb(17,17,17)\",\"width\":0.5},\"pattern\":{\"fillmode\":\"overlay\",\"size\":10,\"solidity\":0.2}},\"type\":\"barpolar\"}],\"bar\":[{\"error_x\":{\"color\":\"#f2f5fa\"},\"error_y\":{\"color\":\"#f2f5fa\"},\"marker\":{\"line\":{\"color\":\"rgb(17,17,17)\",\"width\":0.5},\"pattern\":{\"fillmode\":\"overlay\",\"size\":10,\"solidity\":0.2}},\"type\":\"bar\"}],\"carpet\":[{\"aaxis\":{\"endlinecolor\":\"#A2B1C6\",\"gridcolor\":\"#506784\",\"linecolor\":\"#506784\",\"minorgridcolor\":\"#506784\",\"startlinecolor\":\"#A2B1C6\"},\"baxis\":{\"endlinecolor\":\"#A2B1C6\",\"gridcolor\":\"#506784\",\"linecolor\":\"#506784\",\"minorgridcolor\":\"#506784\",\"startlinecolor\":\"#A2B1C6\"},\"type\":\"carpet\"}],\"choropleth\":[{\"colorbar\":{\"outlinewidth\":0,\"ticks\":\"\"},\"type\":\"choropleth\"}],\"contourcarpet\":[{\"colorbar\":{\"outlinewidth\":0,\"ticks\":\"\"},\"type\":\"contourcarpet\"}],\"contour\":[{\"colorbar\":{\"outlinewidth\":0,\"ticks\":\"\"},\"colorscale\":[[0.0,\"#0d0887\"],[0.1111111111111111,\"#46039f\"],[0.2222222222222222,\"#7201a8\"],[0.3333333333333333,\"#9c179e\"],[0.4444444444444444,\"#bd3786\"],[0.5555555555555556,\"#d8576b\"],[0.6666666666666666,\"#ed7953\"],[0.7777777777777778,\"#fb9f3a\"],[0.8888888888888888,\"#fdca26\"],[1.0,\"#f0f921\"]],\"type\":\"contour\"}],\"heatmapgl\":[{\"colorbar\":{\"outlinewidth\":0,\"ticks\":\"\"},\"colorscale\":[[0.0,\"#0d0887\"],[0.1111111111111111,\"#46039f\"],[0.2222222222222222,\"#7201a8\"],[0.3333333333333333,\"#9c179e\"],[0.4444444444444444,\"#bd3786\"],[0.5555555555555556,\"#d8576b\"],[0.6666666666666666,\"#ed7953\"],[0.7777777777777778,\"#fb9f3a\"],[0.8888888888888888,\"#fdca26\"],[1.0,\"#f0f921\"]],\"type\":\"heatmapgl\"}],\"heatmap\":[{\"colorbar\":{\"outlinewidth\":0,\"ticks\":\"\"},\"colorscale\":[[0.0,\"#0d0887\"],[0.1111111111111111,\"#46039f\"],[0.2222222222222222,\"#7201a8\"],[0.3333333333333333,\"#9c179e\"],[0.4444444444444444,\"#bd3786\"],[0.5555555555555556,\"#d8576b\"],[0.6666666666666666,\"#ed7953\"],[0.7777777777777778,\"#fb9f3a\"],[0.8888888888888888,\"#fdca26\"],[1.0,\"#f0f921\"]],\"type\":\"heatmap\"}],\"histogram2dcontour\":[{\"colorbar\":{\"outlinewidth\":0,\"ticks\":\"\"},\"colorscale\":[[0.0,\"#0d0887\"],[0.1111111111111111,\"#46039f\"],[0.2222222222222222,\"#7201a8\"],[0.3333333333333333,\"#9c179e\"],[0.4444444444444444,\"#bd3786\"],[0.5555555555555556,\"#d8576b\"],[0.6666666666666666,\"#ed7953\"],[0.7777777777777778,\"#fb9f3a\"],[0.8888888888888888,\"#fdca26\"],[1.0,\"#f0f921\"]],\"type\":\"histogram2dcontour\"}],\"histogram2d\":[{\"colorbar\":{\"outlinewidth\":0,\"ticks\":\"\"},\"colorscale\":[[0.0,\"#0d0887\"],[0.1111111111111111,\"#46039f\"],[0.2222222222222222,\"#7201a8\"],[0.3333333333333333,\"#9c179e\"],[0.4444444444444444,\"#bd3786\"],[0.5555555555555556,\"#d8576b\"],[0.6666666666666666,\"#ed7953\"],[0.7777777777777778,\"#fb9f3a\"],[0.8888888888888888,\"#fdca26\"],[1.0,\"#f0f921\"]],\"type\":\"histogram2d\"}],\"histogram\":[{\"marker\":{\"pattern\":{\"fillmode\":\"overlay\",\"size\":10,\"solidity\":0.2}},\"type\":\"histogram\"}],\"mesh3d\":[{\"colorbar\":{\"outlinewidth\":0,\"ticks\":\"\"},\"type\":\"mesh3d\"}],\"parcoords\":[{\"line\":{\"colorbar\":{\"outlinewidth\":0,\"ticks\":\"\"}},\"type\":\"parcoords\"}],\"pie\":[{\"automargin\":true,\"type\":\"pie\"}],\"scatter3d\":[{\"line\":{\"colorbar\":{\"outlinewidth\":0,\"ticks\":\"\"}},\"marker\":{\"colorbar\":{\"outlinewidth\":0,\"ticks\":\"\"}},\"type\":\"scatter3d\"}],\"scattercarpet\":[{\"marker\":{\"colorbar\":{\"outlinewidth\":0,\"ticks\":\"\"}},\"type\":\"scattercarpet\"}],\"scattergeo\":[{\"marker\":{\"colorbar\":{\"outlinewidth\":0,\"ticks\":\"\"}},\"type\":\"scattergeo\"}],\"scattergl\":[{\"marker\":{\"line\":{\"color\":\"#283442\"}},\"type\":\"scattergl\"}],\"scattermapbox\":[{\"marker\":{\"colorbar\":{\"outlinewidth\":0,\"ticks\":\"\"}},\"type\":\"scattermapbox\"}],\"scatterpolargl\":[{\"marker\":{\"colorbar\":{\"outlinewidth\":0,\"ticks\":\"\"}},\"type\":\"scatterpolargl\"}],\"scatterpolar\":[{\"marker\":{\"colorbar\":{\"outlinewidth\":0,\"ticks\":\"\"}},\"type\":\"scatterpolar\"}],\"scatter\":[{\"marker\":{\"line\":{\"color\":\"#283442\"}},\"type\":\"scatter\"}],\"scatterternary\":[{\"marker\":{\"colorbar\":{\"outlinewidth\":0,\"ticks\":\"\"}},\"type\":\"scatterternary\"}],\"surface\":[{\"colorbar\":{\"outlinewidth\":0,\"ticks\":\"\"},\"colorscale\":[[0.0,\"#0d0887\"],[0.1111111111111111,\"#46039f\"],[0.2222222222222222,\"#7201a8\"],[0.3333333333333333,\"#9c179e\"],[0.4444444444444444,\"#bd3786\"],[0.5555555555555556,\"#d8576b\"],[0.6666666666666666,\"#ed7953\"],[0.7777777777777778,\"#fb9f3a\"],[0.8888888888888888,\"#fdca26\"],[1.0,\"#f0f921\"]],\"type\":\"surface\"}],\"table\":[{\"cells\":{\"fill\":{\"color\":\"#506784\"},\"line\":{\"color\":\"rgb(17,17,17)\"}},\"header\":{\"fill\":{\"color\":\"#2a3f5f\"},\"line\":{\"color\":\"rgb(17,17,17)\"}},\"type\":\"table\"}]},\"layout\":{\"annotationdefaults\":{\"arrowcolor\":\"#f2f5fa\",\"arrowhead\":0,\"arrowwidth\":1},\"autotypenumbers\":\"strict\",\"coloraxis\":{\"colorbar\":{\"outlinewidth\":0,\"ticks\":\"\"}},\"colorscale\":{\"diverging\":[[0,\"#8e0152\"],[0.1,\"#c51b7d\"],[0.2,\"#de77ae\"],[0.3,\"#f1b6da\"],[0.4,\"#fde0ef\"],[0.5,\"#f7f7f7\"],[0.6,\"#e6f5d0\"],[0.7,\"#b8e186\"],[0.8,\"#7fbc41\"],[0.9,\"#4d9221\"],[1,\"#276419\"]],\"sequential\":[[0.0,\"#0d0887\"],[0.1111111111111111,\"#46039f\"],[0.2222222222222222,\"#7201a8\"],[0.3333333333333333,\"#9c179e\"],[0.4444444444444444,\"#bd3786\"],[0.5555555555555556,\"#d8576b\"],[0.6666666666666666,\"#ed7953\"],[0.7777777777777778,\"#fb9f3a\"],[0.8888888888888888,\"#fdca26\"],[1.0,\"#f0f921\"]],\"sequentialminus\":[[0.0,\"#0d0887\"],[0.1111111111111111,\"#46039f\"],[0.2222222222222222,\"#7201a8\"],[0.3333333333333333,\"#9c179e\"],[0.4444444444444444,\"#bd3786\"],[0.5555555555555556,\"#d8576b\"],[0.6666666666666666,\"#ed7953\"],[0.7777777777777778,\"#fb9f3a\"],[0.8888888888888888,\"#fdca26\"],[1.0,\"#f0f921\"]]},\"colorway\":[\"#636efa\",\"#EF553B\",\"#00cc96\",\"#ab63fa\",\"#FFA15A\",\"#19d3f3\",\"#FF6692\",\"#B6E880\",\"#FF97FF\",\"#FECB52\"],\"font\":{\"color\":\"#f2f5fa\"},\"geo\":{\"bgcolor\":\"rgb(17,17,17)\",\"lakecolor\":\"rgb(17,17,17)\",\"landcolor\":\"rgb(17,17,17)\",\"showlakes\":true,\"showland\":true,\"subunitcolor\":\"#506784\"},\"hoverlabel\":{\"align\":\"left\"},\"hovermode\":\"closest\",\"mapbox\":{\"style\":\"dark\"},\"paper_bgcolor\":\"rgb(17,17,17)\",\"plot_bgcolor\":\"rgb(17,17,17)\",\"polar\":{\"angularaxis\":{\"gridcolor\":\"#506784\",\"linecolor\":\"#506784\",\"ticks\":\"\"},\"bgcolor\":\"rgb(17,17,17)\",\"radialaxis\":{\"gridcolor\":\"#506784\",\"linecolor\":\"#506784\",\"ticks\":\"\"}},\"scene\":{\"xaxis\":{\"backgroundcolor\":\"rgb(17,17,17)\",\"gridcolor\":\"#506784\",\"gridwidth\":2,\"linecolor\":\"#506784\",\"showbackground\":true,\"ticks\":\"\",\"zerolinecolor\":\"#C8D4E3\"},\"yaxis\":{\"backgroundcolor\":\"rgb(17,17,17)\",\"gridcolor\":\"#506784\",\"gridwidth\":2,\"linecolor\":\"#506784\",\"showbackground\":true,\"ticks\":\"\",\"zerolinecolor\":\"#C8D4E3\"},\"zaxis\":{\"backgroundcolor\":\"rgb(17,17,17)\",\"gridcolor\":\"#506784\",\"gridwidth\":2,\"linecolor\":\"#506784\",\"showbackground\":true,\"ticks\":\"\",\"zerolinecolor\":\"#C8D4E3\"}},\"shapedefaults\":{\"line\":{\"color\":\"#f2f5fa\"}},\"sliderdefaults\":{\"bgcolor\":\"#C8D4E3\",\"bordercolor\":\"rgb(17,17,17)\",\"borderwidth\":1,\"tickwidth\":0},\"ternary\":{\"aaxis\":{\"gridcolor\":\"#506784\",\"linecolor\":\"#506784\",\"ticks\":\"\"},\"baxis\":{\"gridcolor\":\"#506784\",\"linecolor\":\"#506784\",\"ticks\":\"\"},\"bgcolor\":\"rgb(17,17,17)\",\"caxis\":{\"gridcolor\":\"#506784\",\"linecolor\":\"#506784\",\"ticks\":\"\"}},\"title\":{\"x\":0.05},\"updatemenudefaults\":{\"bgcolor\":\"#506784\",\"borderwidth\":0},\"xaxis\":{\"automargin\":true,\"gridcolor\":\"#283442\",\"linecolor\":\"#506784\",\"ticks\":\"\",\"title\":{\"standoff\":15},\"zerolinecolor\":\"#283442\",\"zerolinewidth\":2},\"yaxis\":{\"automargin\":true,\"gridcolor\":\"#283442\",\"linecolor\":\"#506784\",\"ticks\":\"\",\"title\":{\"standoff\":15},\"zerolinecolor\":\"#283442\",\"zerolinewidth\":2}}},\"title\":{\"text\":\"Prices Categories By Country\"},\"xaxis\":{\"title\":{\"text\":\"Countries\"}},\"yaxis\":{\"title\":{\"text\":\"Avg Discount Prices\"}},\"legend\":{\"title\":{\"text\":\"Legend\"}}},                        {\"responsive\": true}                    ).then(function(){\n",
              "                            \n",
              "var gd = document.getElementById('46190e9c-cb26-475a-bcaa-4fe9649ed447');\n",
              "var x = new MutationObserver(function (mutations, observer) {{\n",
              "        var display = window.getComputedStyle(gd).display;\n",
              "        if (!display || display === 'none') {{\n",
              "            console.log([gd, 'removed!']);\n",
              "            Plotly.purge(gd);\n",
              "            observer.disconnect();\n",
              "        }}\n",
              "}});\n",
              "\n",
              "// Listen for the removal of the full notebook cells\n",
              "var notebookContainer = gd.closest('#notebook-container');\n",
              "if (notebookContainer) {{\n",
              "    x.observe(notebookContainer, {childList: true});\n",
              "}}\n",
              "\n",
              "// Listen for the clearing of the current output cell\n",
              "var outputEl = gd.closest('.output');\n",
              "if (outputEl) {{\n",
              "    x.observe(outputEl, {childList: true});\n",
              "}}\n",
              "\n",
              "                        })                };                            </script>        </div>\n",
              "</body>\n",
              "</html>"
            ]
          },
          "metadata": {}
        }
      ],
      "source": [
        "fig = go.Figure()\n",
        "\n",
        "fig.add_trace(go.Bar(x=prices_by_country.index.values, y=prices_by_country.price, name=\"Price\"))\n",
        "fig.add_trace(go.Scatter(x=prices_by_country.index.values, y=prices_by_country.discounted_price, name=\"Discounted Price\"))\n",
        "fig.add_trace(go.Bar(x=prices_by_country.index.values, y=prices_by_country.retail_price, name=\"Retail Price\"))\n",
        "fig.update_layout(title=\"Prices Categories By Country\", xaxis_title=\"Countries\", yaxis_title=\"Avg Discount Prices\", template=\"plotly_dark\", legend_title=\"Legend\")"
      ]
    },
    {
      "cell_type": "code",
      "execution_count": 41,
      "metadata": {
        "colab": {
          "base_uri": "https://localhost:8080/"
        },
        "id": "NnZPG0qM8T-o",
        "outputId": "22052510-2ef3-45a5-dd46-8626d1b9473a"
      },
      "outputs": [
        {
          "output_type": "execute_result",
          "data": {
            "text/plain": [
              "count    1053.000000\n",
              "mean        8.305660\n",
              "std         3.851589\n",
              "min         1.000000\n",
              "25%         5.840000\n",
              "50%         8.000000\n",
              "75%        11.000000\n",
              "max        27.000000\n",
              "Name: price, dtype: float64"
            ]
          },
          "metadata": {},
          "execution_count": 41
        }
      ],
      "source": [
        "#description of prices from china\n",
        "eda_train[eda_train.origin_country==\"China\"]['price'].describe()"
      ]
    },
    {
      "cell_type": "code",
      "execution_count": 42,
      "metadata": {
        "colab": {
          "base_uri": "https://localhost:8080/"
        },
        "id": "SWme_E1j8T-p",
        "outputId": "a23cb06b-0831-4636-83b9-5818a4598f4b"
      },
      "outputs": [
        {
          "output_type": "execute_result",
          "data": {
            "text/plain": [
              "Index(['shipping_option_name', 'shipping_option_price', 'shipping_is_express'], dtype='object')"
            ]
          },
          "metadata": {},
          "execution_count": 42
        }
      ],
      "source": [
        "eda_train.loc[:,eda_train.columns.str.startswith('shipping')].columns"
      ]
    },
    {
      "cell_type": "code",
      "execution_count": 43,
      "metadata": {
        "colab": {
          "base_uri": "https://localhost:8080/"
        },
        "id": "ZGW0S7E98T-p",
        "outputId": "2b9d7d48-3f60-4527-b50e-23ca97828eac"
      },
      "outputs": [
        {
          "output_type": "execute_result",
          "data": {
            "text/plain": [
              "2    417\n",
              "3    370\n",
              "1    222\n",
              "4     49\n",
              "5     23\n",
              "6      8\n",
              "7      4\n",
              "Name: shipping_option_price, dtype: int64"
            ]
          },
          "metadata": {},
          "execution_count": 43
        }
      ],
      "source": [
        "eda_train['shipping_option_price'].value_counts()"
      ]
    },
    {
      "cell_type": "code",
      "execution_count": 44,
      "metadata": {
        "colab": {
          "base_uri": "https://localhost:8080/",
          "height": 542
        },
        "id": "QTZ3Acgn8T-q",
        "outputId": "4e4a2404-79fe-4e0c-d949-a2c427c03cf9"
      },
      "outputs": [
        {
          "output_type": "display_data",
          "data": {
            "text/html": [
              "<html>\n",
              "<head><meta charset=\"utf-8\" /></head>\n",
              "<body>\n",
              "    <div>            <script src=\"https://cdnjs.cloudflare.com/ajax/libs/mathjax/2.7.5/MathJax.js?config=TeX-AMS-MML_SVG\"></script><script type=\"text/javascript\">if (window.MathJax) {MathJax.Hub.Config({SVG: {font: \"STIX-Web\"}});}</script>                <script type=\"text/javascript\">window.PlotlyConfig = {MathJaxConfig: 'local'};</script>\n",
              "        <script src=\"https://cdn.plot.ly/plotly-2.8.3.min.js\"></script>                <div id=\"0e95d320-0cac-456b-a4d1-4d3496440b1a\" class=\"plotly-graph-div\" style=\"height:525px; width:100%;\"></div>            <script type=\"text/javascript\">                                    window.PLOTLYENV=window.PLOTLYENV || {};                                    if (document.getElementById(\"0e95d320-0cac-456b-a4d1-4d3496440b1a\")) {                    Plotly.newPlot(                        \"0e95d320-0cac-456b-a4d1-4d3496440b1a\",                        [{\"labels\":[2,3,1,4,5,6,7],\"values\":[408,347,214,46,23,7,2],\"type\":\"pie\"}],                        {\"template\":{\"data\":{\"barpolar\":[{\"marker\":{\"line\":{\"color\":\"rgb(17,17,17)\",\"width\":0.5},\"pattern\":{\"fillmode\":\"overlay\",\"size\":10,\"solidity\":0.2}},\"type\":\"barpolar\"}],\"bar\":[{\"error_x\":{\"color\":\"#f2f5fa\"},\"error_y\":{\"color\":\"#f2f5fa\"},\"marker\":{\"line\":{\"color\":\"rgb(17,17,17)\",\"width\":0.5},\"pattern\":{\"fillmode\":\"overlay\",\"size\":10,\"solidity\":0.2}},\"type\":\"bar\"}],\"carpet\":[{\"aaxis\":{\"endlinecolor\":\"#A2B1C6\",\"gridcolor\":\"#506784\",\"linecolor\":\"#506784\",\"minorgridcolor\":\"#506784\",\"startlinecolor\":\"#A2B1C6\"},\"baxis\":{\"endlinecolor\":\"#A2B1C6\",\"gridcolor\":\"#506784\",\"linecolor\":\"#506784\",\"minorgridcolor\":\"#506784\",\"startlinecolor\":\"#A2B1C6\"},\"type\":\"carpet\"}],\"choropleth\":[{\"colorbar\":{\"outlinewidth\":0,\"ticks\":\"\"},\"type\":\"choropleth\"}],\"contourcarpet\":[{\"colorbar\":{\"outlinewidth\":0,\"ticks\":\"\"},\"type\":\"contourcarpet\"}],\"contour\":[{\"colorbar\":{\"outlinewidth\":0,\"ticks\":\"\"},\"colorscale\":[[0.0,\"#0d0887\"],[0.1111111111111111,\"#46039f\"],[0.2222222222222222,\"#7201a8\"],[0.3333333333333333,\"#9c179e\"],[0.4444444444444444,\"#bd3786\"],[0.5555555555555556,\"#d8576b\"],[0.6666666666666666,\"#ed7953\"],[0.7777777777777778,\"#fb9f3a\"],[0.8888888888888888,\"#fdca26\"],[1.0,\"#f0f921\"]],\"type\":\"contour\"}],\"heatmapgl\":[{\"colorbar\":{\"outlinewidth\":0,\"ticks\":\"\"},\"colorscale\":[[0.0,\"#0d0887\"],[0.1111111111111111,\"#46039f\"],[0.2222222222222222,\"#7201a8\"],[0.3333333333333333,\"#9c179e\"],[0.4444444444444444,\"#bd3786\"],[0.5555555555555556,\"#d8576b\"],[0.6666666666666666,\"#ed7953\"],[0.7777777777777778,\"#fb9f3a\"],[0.8888888888888888,\"#fdca26\"],[1.0,\"#f0f921\"]],\"type\":\"heatmapgl\"}],\"heatmap\":[{\"colorbar\":{\"outlinewidth\":0,\"ticks\":\"\"},\"colorscale\":[[0.0,\"#0d0887\"],[0.1111111111111111,\"#46039f\"],[0.2222222222222222,\"#7201a8\"],[0.3333333333333333,\"#9c179e\"],[0.4444444444444444,\"#bd3786\"],[0.5555555555555556,\"#d8576b\"],[0.6666666666666666,\"#ed7953\"],[0.7777777777777778,\"#fb9f3a\"],[0.8888888888888888,\"#fdca26\"],[1.0,\"#f0f921\"]],\"type\":\"heatmap\"}],\"histogram2dcontour\":[{\"colorbar\":{\"outlinewidth\":0,\"ticks\":\"\"},\"colorscale\":[[0.0,\"#0d0887\"],[0.1111111111111111,\"#46039f\"],[0.2222222222222222,\"#7201a8\"],[0.3333333333333333,\"#9c179e\"],[0.4444444444444444,\"#bd3786\"],[0.5555555555555556,\"#d8576b\"],[0.6666666666666666,\"#ed7953\"],[0.7777777777777778,\"#fb9f3a\"],[0.8888888888888888,\"#fdca26\"],[1.0,\"#f0f921\"]],\"type\":\"histogram2dcontour\"}],\"histogram2d\":[{\"colorbar\":{\"outlinewidth\":0,\"ticks\":\"\"},\"colorscale\":[[0.0,\"#0d0887\"],[0.1111111111111111,\"#46039f\"],[0.2222222222222222,\"#7201a8\"],[0.3333333333333333,\"#9c179e\"],[0.4444444444444444,\"#bd3786\"],[0.5555555555555556,\"#d8576b\"],[0.6666666666666666,\"#ed7953\"],[0.7777777777777778,\"#fb9f3a\"],[0.8888888888888888,\"#fdca26\"],[1.0,\"#f0f921\"]],\"type\":\"histogram2d\"}],\"histogram\":[{\"marker\":{\"pattern\":{\"fillmode\":\"overlay\",\"size\":10,\"solidity\":0.2}},\"type\":\"histogram\"}],\"mesh3d\":[{\"colorbar\":{\"outlinewidth\":0,\"ticks\":\"\"},\"type\":\"mesh3d\"}],\"parcoords\":[{\"line\":{\"colorbar\":{\"outlinewidth\":0,\"ticks\":\"\"}},\"type\":\"parcoords\"}],\"pie\":[{\"automargin\":true,\"type\":\"pie\"}],\"scatter3d\":[{\"line\":{\"colorbar\":{\"outlinewidth\":0,\"ticks\":\"\"}},\"marker\":{\"colorbar\":{\"outlinewidth\":0,\"ticks\":\"\"}},\"type\":\"scatter3d\"}],\"scattercarpet\":[{\"marker\":{\"colorbar\":{\"outlinewidth\":0,\"ticks\":\"\"}},\"type\":\"scattercarpet\"}],\"scattergeo\":[{\"marker\":{\"colorbar\":{\"outlinewidth\":0,\"ticks\":\"\"}},\"type\":\"scattergeo\"}],\"scattergl\":[{\"marker\":{\"line\":{\"color\":\"#283442\"}},\"type\":\"scattergl\"}],\"scattermapbox\":[{\"marker\":{\"colorbar\":{\"outlinewidth\":0,\"ticks\":\"\"}},\"type\":\"scattermapbox\"}],\"scatterpolargl\":[{\"marker\":{\"colorbar\":{\"outlinewidth\":0,\"ticks\":\"\"}},\"type\":\"scatterpolargl\"}],\"scatterpolar\":[{\"marker\":{\"colorbar\":{\"outlinewidth\":0,\"ticks\":\"\"}},\"type\":\"scatterpolar\"}],\"scatter\":[{\"marker\":{\"line\":{\"color\":\"#283442\"}},\"type\":\"scatter\"}],\"scatterternary\":[{\"marker\":{\"colorbar\":{\"outlinewidth\":0,\"ticks\":\"\"}},\"type\":\"scatterternary\"}],\"surface\":[{\"colorbar\":{\"outlinewidth\":0,\"ticks\":\"\"},\"colorscale\":[[0.0,\"#0d0887\"],[0.1111111111111111,\"#46039f\"],[0.2222222222222222,\"#7201a8\"],[0.3333333333333333,\"#9c179e\"],[0.4444444444444444,\"#bd3786\"],[0.5555555555555556,\"#d8576b\"],[0.6666666666666666,\"#ed7953\"],[0.7777777777777778,\"#fb9f3a\"],[0.8888888888888888,\"#fdca26\"],[1.0,\"#f0f921\"]],\"type\":\"surface\"}],\"table\":[{\"cells\":{\"fill\":{\"color\":\"#506784\"},\"line\":{\"color\":\"rgb(17,17,17)\"}},\"header\":{\"fill\":{\"color\":\"#2a3f5f\"},\"line\":{\"color\":\"rgb(17,17,17)\"}},\"type\":\"table\"}]},\"layout\":{\"annotationdefaults\":{\"arrowcolor\":\"#f2f5fa\",\"arrowhead\":0,\"arrowwidth\":1},\"autotypenumbers\":\"strict\",\"coloraxis\":{\"colorbar\":{\"outlinewidth\":0,\"ticks\":\"\"}},\"colorscale\":{\"diverging\":[[0,\"#8e0152\"],[0.1,\"#c51b7d\"],[0.2,\"#de77ae\"],[0.3,\"#f1b6da\"],[0.4,\"#fde0ef\"],[0.5,\"#f7f7f7\"],[0.6,\"#e6f5d0\"],[0.7,\"#b8e186\"],[0.8,\"#7fbc41\"],[0.9,\"#4d9221\"],[1,\"#276419\"]],\"sequential\":[[0.0,\"#0d0887\"],[0.1111111111111111,\"#46039f\"],[0.2222222222222222,\"#7201a8\"],[0.3333333333333333,\"#9c179e\"],[0.4444444444444444,\"#bd3786\"],[0.5555555555555556,\"#d8576b\"],[0.6666666666666666,\"#ed7953\"],[0.7777777777777778,\"#fb9f3a\"],[0.8888888888888888,\"#fdca26\"],[1.0,\"#f0f921\"]],\"sequentialminus\":[[0.0,\"#0d0887\"],[0.1111111111111111,\"#46039f\"],[0.2222222222222222,\"#7201a8\"],[0.3333333333333333,\"#9c179e\"],[0.4444444444444444,\"#bd3786\"],[0.5555555555555556,\"#d8576b\"],[0.6666666666666666,\"#ed7953\"],[0.7777777777777778,\"#fb9f3a\"],[0.8888888888888888,\"#fdca26\"],[1.0,\"#f0f921\"]]},\"colorway\":[\"#636efa\",\"#EF553B\",\"#00cc96\",\"#ab63fa\",\"#FFA15A\",\"#19d3f3\",\"#FF6692\",\"#B6E880\",\"#FF97FF\",\"#FECB52\"],\"font\":{\"color\":\"#f2f5fa\"},\"geo\":{\"bgcolor\":\"rgb(17,17,17)\",\"lakecolor\":\"rgb(17,17,17)\",\"landcolor\":\"rgb(17,17,17)\",\"showlakes\":true,\"showland\":true,\"subunitcolor\":\"#506784\"},\"hoverlabel\":{\"align\":\"left\"},\"hovermode\":\"closest\",\"mapbox\":{\"style\":\"dark\"},\"paper_bgcolor\":\"rgb(17,17,17)\",\"plot_bgcolor\":\"rgb(17,17,17)\",\"polar\":{\"angularaxis\":{\"gridcolor\":\"#506784\",\"linecolor\":\"#506784\",\"ticks\":\"\"},\"bgcolor\":\"rgb(17,17,17)\",\"radialaxis\":{\"gridcolor\":\"#506784\",\"linecolor\":\"#506784\",\"ticks\":\"\"}},\"scene\":{\"xaxis\":{\"backgroundcolor\":\"rgb(17,17,17)\",\"gridcolor\":\"#506784\",\"gridwidth\":2,\"linecolor\":\"#506784\",\"showbackground\":true,\"ticks\":\"\",\"zerolinecolor\":\"#C8D4E3\"},\"yaxis\":{\"backgroundcolor\":\"rgb(17,17,17)\",\"gridcolor\":\"#506784\",\"gridwidth\":2,\"linecolor\":\"#506784\",\"showbackground\":true,\"ticks\":\"\",\"zerolinecolor\":\"#C8D4E3\"},\"zaxis\":{\"backgroundcolor\":\"rgb(17,17,17)\",\"gridcolor\":\"#506784\",\"gridwidth\":2,\"linecolor\":\"#506784\",\"showbackground\":true,\"ticks\":\"\",\"zerolinecolor\":\"#C8D4E3\"}},\"shapedefaults\":{\"line\":{\"color\":\"#f2f5fa\"}},\"sliderdefaults\":{\"bgcolor\":\"#C8D4E3\",\"bordercolor\":\"rgb(17,17,17)\",\"borderwidth\":1,\"tickwidth\":0},\"ternary\":{\"aaxis\":{\"gridcolor\":\"#506784\",\"linecolor\":\"#506784\",\"ticks\":\"\"},\"baxis\":{\"gridcolor\":\"#506784\",\"linecolor\":\"#506784\",\"ticks\":\"\"},\"bgcolor\":\"rgb(17,17,17)\",\"caxis\":{\"gridcolor\":\"#506784\",\"linecolor\":\"#506784\",\"ticks\":\"\"}},\"title\":{\"x\":0.05},\"updatemenudefaults\":{\"bgcolor\":\"#506784\",\"borderwidth\":0},\"xaxis\":{\"automargin\":true,\"gridcolor\":\"#283442\",\"linecolor\":\"#506784\",\"ticks\":\"\",\"title\":{\"standoff\":15},\"zerolinecolor\":\"#283442\",\"zerolinewidth\":2},\"yaxis\":{\"automargin\":true,\"gridcolor\":\"#283442\",\"linecolor\":\"#506784\",\"ticks\":\"\",\"title\":{\"standoff\":15},\"zerolinecolor\":\"#283442\",\"zerolinewidth\":2}}},\"title\":{\"text\":\"Livrasion Standard Prices\"},\"legend\":{\"title\":{\"text\":\"Prices In Euros\"}}},                        {\"responsive\": true}                    ).then(function(){\n",
              "                            \n",
              "var gd = document.getElementById('0e95d320-0cac-456b-a4d1-4d3496440b1a');\n",
              "var x = new MutationObserver(function (mutations, observer) {{\n",
              "        var display = window.getComputedStyle(gd).display;\n",
              "        if (!display || display === 'none') {{\n",
              "            console.log([gd, 'removed!']);\n",
              "            Plotly.purge(gd);\n",
              "            observer.disconnect();\n",
              "        }}\n",
              "}});\n",
              "\n",
              "// Listen for the removal of the full notebook cells\n",
              "var notebookContainer = gd.closest('#notebook-container');\n",
              "if (notebookContainer) {{\n",
              "    x.observe(notebookContainer, {childList: true});\n",
              "}}\n",
              "\n",
              "// Listen for the clearing of the current output cell\n",
              "var outputEl = gd.closest('.output');\n",
              "if (outputEl) {{\n",
              "    x.observe(outputEl, {childList: true});\n",
              "}}\n",
              "\n",
              "                        })                };                            </script>        </div>\n",
              "</body>\n",
              "</html>"
            ]
          },
          "metadata": {}
        }
      ],
      "source": [
        "#plot shipping_option_price regarding Livraison standard shipping_option_name\n",
        "livrasion_prices = eda_train[eda_train.shipping_option_name =='Livraison standard']['shipping_option_price'].value_counts().index.values\n",
        "livrasion_prices_frquency = eda_train[eda_train.shipping_option_name =='Livraison standard']['shipping_option_price'].value_counts().values\n",
        "\n",
        "fig = go.Figure()\n",
        "fig.add_trace(go.Pie(labels=livrasion_prices, values=livrasion_prices_frquency))\n",
        "fig.update_layout(title=\"Livrasion Standard Prices\", legend_title=\"Prices In Euros\", template=\"plotly_dark\")"
      ]
    },
    {
      "cell_type": "code",
      "execution_count": 45,
      "metadata": {
        "colab": {
          "base_uri": "https://localhost:8080/"
        },
        "id": "kmLxPQ-w8T-r",
        "outputId": "d8a2458f-4c55-4479-96b1-7094b8467d5f"
      },
      "outputs": [
        {
          "output_type": "execute_result",
          "data": {
            "text/plain": [
              "Index(['product_color', 'product_variation_size_id',\n",
              "       'product_variation_inventory'],\n",
              "      dtype='object')"
            ]
          },
          "metadata": {},
          "execution_count": 45
        }
      ],
      "source": [
        "eda_train.loc[:,eda_train.columns.str.startswith(\"product\")].columns"
      ]
    },
    {
      "cell_type": "markdown",
      "metadata": {
        "id": "92P7VroE8T-r"
      },
      "source": [
        "# Preprocessing"
      ]
    },
    {
      "cell_type": "code",
      "execution_count": 46,
      "metadata": {
        "id": "RcMR4-Hz8T-s"
      },
      "outputs": [],
      "source": [
        "preprocessed_train = eda_train.copy()"
      ]
    },
    {
      "cell_type": "code",
      "execution_count": 47,
      "metadata": {
        "colab": {
          "base_uri": "https://localhost:8080/"
        },
        "id": "IHyfZaBK8T-u",
        "outputId": "12bd1daa-6331-4001-fbf8-4b0c6fbacaf6"
      },
      "outputs": [
        {
          "output_type": "execute_result",
          "data": {
            "text/plain": [
              "Index(['price', 'retail_price', 'units_sold', 'uses_ad_boosts', 'rating',\n",
              "       'rating_count', 'badges_count', 'badge_local_product',\n",
              "       'badge_product_quality', 'badge_fast_shipping', 'tags', 'product_color',\n",
              "       'product_variation_size_id', 'product_variation_inventory',\n",
              "       'shipping_option_name', 'shipping_option_price', 'shipping_is_express',\n",
              "       'countries_shipped_to', 'inventory_total', 'origin_country',\n",
              "       'merchant_rating_count', 'merchant_rating', 'merchant_id', 'id',\n",
              "       'discounted_price'],\n",
              "      dtype='object')"
            ]
          },
          "metadata": {},
          "execution_count": 47
        }
      ],
      "source": [
        "preprocessed_train.columns"
      ]
    },
    {
      "cell_type": "markdown",
      "metadata": {
        "id": "h87h4HNG8T-v"
      },
      "source": [
        "columns with id have no useful information and maybe confuse the algorithm"
      ]
    },
    {
      "cell_type": "code",
      "execution_count": 48,
      "metadata": {
        "id": "WyAaBzts8T-v"
      },
      "outputs": [],
      "source": [
        "#drop columns with id\n",
        "preprocessed_train.drop(['merchant_id', 'id'], axis=1, inplace=True)"
      ]
    },
    {
      "cell_type": "markdown",
      "metadata": {
        "id": "qcrlvosa8T-x"
      },
      "source": [
        "shipping_option_name, origin_country have one value that dominate about 96% of values in tow colulmns"
      ]
    },
    {
      "cell_type": "code",
      "execution_count": 49,
      "metadata": {
        "id": "dvtDspvq8T-y"
      },
      "outputs": [],
      "source": [
        "preprocessed_train.drop(['shipping_option_name', 'origin_country'], axis=1, inplace=True)"
      ]
    },
    {
      "cell_type": "code",
      "execution_count": 50,
      "metadata": {
        "id": "bt7Nau9t8T-1"
      },
      "outputs": [],
      "source": [
        "model_train_df = preprocessed_train.copy()"
      ]
    },
    {
      "cell_type": "markdown",
      "metadata": {
        "id": "Szi9VW2v8T-1"
      },
      "source": [
        "the high value is dominating low value, fix this issue using Oversampling"
      ]
    },
    {
      "cell_type": "code",
      "execution_count": 51,
      "metadata": {
        "id": "RM8vxII68T-1"
      },
      "outputs": [],
      "source": [
        "bag_of_words = ['summer',\n",
        " \"women's fashion\",\n",
        " 'fashion',\n",
        " 'women',\n",
        " 'casual',\n",
        " 'plus size',\n",
        " 'sleeveless',\n",
        " 'dress',\n",
        " 'shorts',\n",
        " 'tops',\n",
        " 'sexy',\n",
        " 'beach',\n",
        " 'sleeve',\n",
        " 'short sleeves',\n",
        " 'print',\n",
        " 'shirt',\n",
        " 'tank',\n",
        " 'necks',\n",
        " 'v-neck',\n",
        " 'printed']"
      ]
    },
    {
      "cell_type": "code",
      "execution_count": 52,
      "metadata": {
        "id": "cSvbSFyj8T-2"
      },
      "outputs": [],
      "source": [
        "for word in bag_of_words:\n",
        "    preprocessed_train[\"tag_\"+word] = preprocessed_train.tags.str.lower().str.contains(word).astype(int).astype(str)"
      ]
    },
    {
      "cell_type": "code",
      "execution_count": 53,
      "metadata": {
        "id": "NRAVjLpy8T-2"
      },
      "outputs": [],
      "source": [
        "preprocessed_train.drop('tags',axis=1,inplace=True)"
      ]
    },
    {
      "cell_type": "code",
      "execution_count": 54,
      "metadata": {
        "colab": {
          "base_uri": "https://localhost:8080/"
        },
        "id": "8ZHIh3h38T-2",
        "outputId": "0567b050-fa4e-4871-ed12-c8d89683425e"
      },
      "outputs": [
        {
          "output_type": "execute_result",
          "data": {
            "text/plain": [
              "Index(['price', 'retail_price', 'units_sold', 'uses_ad_boosts', 'rating',\n",
              "       'rating_count', 'badges_count', 'badge_local_product',\n",
              "       'badge_product_quality', 'badge_fast_shipping', 'product_color',\n",
              "       'product_variation_size_id', 'product_variation_inventory',\n",
              "       'shipping_option_price', 'shipping_is_express', 'countries_shipped_to',\n",
              "       'inventory_total', 'merchant_rating_count', 'merchant_rating',\n",
              "       'discounted_price', 'tag_summer', 'tag_women's fashion', 'tag_fashion',\n",
              "       'tag_women', 'tag_casual', 'tag_plus size', 'tag_sleeveless',\n",
              "       'tag_dress', 'tag_shorts', 'tag_tops', 'tag_sexy', 'tag_beach',\n",
              "       'tag_sleeve', 'tag_short sleeves', 'tag_print', 'tag_shirt', 'tag_tank',\n",
              "       'tag_necks', 'tag_v-neck', 'tag_printed'],\n",
              "      dtype='object')"
            ]
          },
          "metadata": {},
          "execution_count": 54
        }
      ],
      "source": [
        "preprocessed_train.columns"
      ]
    },
    {
      "cell_type": "code",
      "execution_count": 55,
      "metadata": {
        "id": "PpgO7CiS8T-3"
      },
      "outputs": [],
      "source": [
        "#drop product_color column \n",
        "preprocessed_train.drop(['product_color'], axis=1, inplace=True)"
      ]
    },
    {
      "cell_type": "code",
      "execution_count": 56,
      "metadata": {
        "id": "KWY4poS08T-3"
      },
      "outputs": [],
      "source": [
        "# drop 'discounted_price' column as it ctreated from price and retail_price columns\n",
        "preprocessed_train.drop(['discounted_price'], axis=1, inplace=True)"
      ]
    },
    {
      "cell_type": "code",
      "source": [
        "# drop product_variation_size_id column\n",
        "preprocessed_train.drop(['product_variation_size_id'], axis = 1, inplace=True)"
      ],
      "metadata": {
        "id": "AslppkPhUe9y"
      },
      "execution_count": 57,
      "outputs": []
    },
    {
      "cell_type": "markdown",
      "source": [
        "https://www.kaggle.com/nibukdk93/summer-sales-wish-acc-100/notebook"
      ],
      "metadata": {
        "id": "QSHVfVzlM4Jw"
      }
    },
    {
      "cell_type": "code",
      "execution_count": 58,
      "metadata": {
        "colab": {
          "base_uri": "https://localhost:8080/",
          "height": 542
        },
        "id": "P-390sUY8T-3",
        "outputId": "ba298d94-716b-4207-d414-bd33351a482d"
      },
      "outputs": [
        {
          "output_type": "display_data",
          "data": {
            "text/html": [
              "<html>\n",
              "<head><meta charset=\"utf-8\" /></head>\n",
              "<body>\n",
              "    <div>            <script src=\"https://cdnjs.cloudflare.com/ajax/libs/mathjax/2.7.5/MathJax.js?config=TeX-AMS-MML_SVG\"></script><script type=\"text/javascript\">if (window.MathJax) {MathJax.Hub.Config({SVG: {font: \"STIX-Web\"}});}</script>                <script type=\"text/javascript\">window.PlotlyConfig = {MathJaxConfig: 'local'};</script>\n",
              "        <script src=\"https://cdn.plot.ly/plotly-2.8.3.min.js\"></script>                <div id=\"a41389ce-51b1-4d23-8d77-de2cced29c57\" class=\"plotly-graph-div\" style=\"height:525px; width:100%;\"></div>            <script type=\"text/javascript\">                                    window.PLOTLYENV=window.PLOTLYENV || {};                                    if (document.getElementById(\"a41389ce-51b1-4d23-8d77-de2cced29c57\")) {                    Plotly.newPlot(                        \"a41389ce-51b1-4d23-8d77-de2cced29c57\",                        [{\"labels\":[4.0,5.0,3.0,2.0,1.0],\"values\":[774,170,135,12,2],\"type\":\"pie\"}],                        {\"template\":{\"data\":{\"barpolar\":[{\"marker\":{\"line\":{\"color\":\"rgb(17,17,17)\",\"width\":0.5},\"pattern\":{\"fillmode\":\"overlay\",\"size\":10,\"solidity\":0.2}},\"type\":\"barpolar\"}],\"bar\":[{\"error_x\":{\"color\":\"#f2f5fa\"},\"error_y\":{\"color\":\"#f2f5fa\"},\"marker\":{\"line\":{\"color\":\"rgb(17,17,17)\",\"width\":0.5},\"pattern\":{\"fillmode\":\"overlay\",\"size\":10,\"solidity\":0.2}},\"type\":\"bar\"}],\"carpet\":[{\"aaxis\":{\"endlinecolor\":\"#A2B1C6\",\"gridcolor\":\"#506784\",\"linecolor\":\"#506784\",\"minorgridcolor\":\"#506784\",\"startlinecolor\":\"#A2B1C6\"},\"baxis\":{\"endlinecolor\":\"#A2B1C6\",\"gridcolor\":\"#506784\",\"linecolor\":\"#506784\",\"minorgridcolor\":\"#506784\",\"startlinecolor\":\"#A2B1C6\"},\"type\":\"carpet\"}],\"choropleth\":[{\"colorbar\":{\"outlinewidth\":0,\"ticks\":\"\"},\"type\":\"choropleth\"}],\"contourcarpet\":[{\"colorbar\":{\"outlinewidth\":0,\"ticks\":\"\"},\"type\":\"contourcarpet\"}],\"contour\":[{\"colorbar\":{\"outlinewidth\":0,\"ticks\":\"\"},\"colorscale\":[[0.0,\"#0d0887\"],[0.1111111111111111,\"#46039f\"],[0.2222222222222222,\"#7201a8\"],[0.3333333333333333,\"#9c179e\"],[0.4444444444444444,\"#bd3786\"],[0.5555555555555556,\"#d8576b\"],[0.6666666666666666,\"#ed7953\"],[0.7777777777777778,\"#fb9f3a\"],[0.8888888888888888,\"#fdca26\"],[1.0,\"#f0f921\"]],\"type\":\"contour\"}],\"heatmapgl\":[{\"colorbar\":{\"outlinewidth\":0,\"ticks\":\"\"},\"colorscale\":[[0.0,\"#0d0887\"],[0.1111111111111111,\"#46039f\"],[0.2222222222222222,\"#7201a8\"],[0.3333333333333333,\"#9c179e\"],[0.4444444444444444,\"#bd3786\"],[0.5555555555555556,\"#d8576b\"],[0.6666666666666666,\"#ed7953\"],[0.7777777777777778,\"#fb9f3a\"],[0.8888888888888888,\"#fdca26\"],[1.0,\"#f0f921\"]],\"type\":\"heatmapgl\"}],\"heatmap\":[{\"colorbar\":{\"outlinewidth\":0,\"ticks\":\"\"},\"colorscale\":[[0.0,\"#0d0887\"],[0.1111111111111111,\"#46039f\"],[0.2222222222222222,\"#7201a8\"],[0.3333333333333333,\"#9c179e\"],[0.4444444444444444,\"#bd3786\"],[0.5555555555555556,\"#d8576b\"],[0.6666666666666666,\"#ed7953\"],[0.7777777777777778,\"#fb9f3a\"],[0.8888888888888888,\"#fdca26\"],[1.0,\"#f0f921\"]],\"type\":\"heatmap\"}],\"histogram2dcontour\":[{\"colorbar\":{\"outlinewidth\":0,\"ticks\":\"\"},\"colorscale\":[[0.0,\"#0d0887\"],[0.1111111111111111,\"#46039f\"],[0.2222222222222222,\"#7201a8\"],[0.3333333333333333,\"#9c179e\"],[0.4444444444444444,\"#bd3786\"],[0.5555555555555556,\"#d8576b\"],[0.6666666666666666,\"#ed7953\"],[0.7777777777777778,\"#fb9f3a\"],[0.8888888888888888,\"#fdca26\"],[1.0,\"#f0f921\"]],\"type\":\"histogram2dcontour\"}],\"histogram2d\":[{\"colorbar\":{\"outlinewidth\":0,\"ticks\":\"\"},\"colorscale\":[[0.0,\"#0d0887\"],[0.1111111111111111,\"#46039f\"],[0.2222222222222222,\"#7201a8\"],[0.3333333333333333,\"#9c179e\"],[0.4444444444444444,\"#bd3786\"],[0.5555555555555556,\"#d8576b\"],[0.6666666666666666,\"#ed7953\"],[0.7777777777777778,\"#fb9f3a\"],[0.8888888888888888,\"#fdca26\"],[1.0,\"#f0f921\"]],\"type\":\"histogram2d\"}],\"histogram\":[{\"marker\":{\"pattern\":{\"fillmode\":\"overlay\",\"size\":10,\"solidity\":0.2}},\"type\":\"histogram\"}],\"mesh3d\":[{\"colorbar\":{\"outlinewidth\":0,\"ticks\":\"\"},\"type\":\"mesh3d\"}],\"parcoords\":[{\"line\":{\"colorbar\":{\"outlinewidth\":0,\"ticks\":\"\"}},\"type\":\"parcoords\"}],\"pie\":[{\"automargin\":true,\"type\":\"pie\"}],\"scatter3d\":[{\"line\":{\"colorbar\":{\"outlinewidth\":0,\"ticks\":\"\"}},\"marker\":{\"colorbar\":{\"outlinewidth\":0,\"ticks\":\"\"}},\"type\":\"scatter3d\"}],\"scattercarpet\":[{\"marker\":{\"colorbar\":{\"outlinewidth\":0,\"ticks\":\"\"}},\"type\":\"scattercarpet\"}],\"scattergeo\":[{\"marker\":{\"colorbar\":{\"outlinewidth\":0,\"ticks\":\"\"}},\"type\":\"scattergeo\"}],\"scattergl\":[{\"marker\":{\"line\":{\"color\":\"#283442\"}},\"type\":\"scattergl\"}],\"scattermapbox\":[{\"marker\":{\"colorbar\":{\"outlinewidth\":0,\"ticks\":\"\"}},\"type\":\"scattermapbox\"}],\"scatterpolargl\":[{\"marker\":{\"colorbar\":{\"outlinewidth\":0,\"ticks\":\"\"}},\"type\":\"scatterpolargl\"}],\"scatterpolar\":[{\"marker\":{\"colorbar\":{\"outlinewidth\":0,\"ticks\":\"\"}},\"type\":\"scatterpolar\"}],\"scatter\":[{\"marker\":{\"line\":{\"color\":\"#283442\"}},\"type\":\"scatter\"}],\"scatterternary\":[{\"marker\":{\"colorbar\":{\"outlinewidth\":0,\"ticks\":\"\"}},\"type\":\"scatterternary\"}],\"surface\":[{\"colorbar\":{\"outlinewidth\":0,\"ticks\":\"\"},\"colorscale\":[[0.0,\"#0d0887\"],[0.1111111111111111,\"#46039f\"],[0.2222222222222222,\"#7201a8\"],[0.3333333333333333,\"#9c179e\"],[0.4444444444444444,\"#bd3786\"],[0.5555555555555556,\"#d8576b\"],[0.6666666666666666,\"#ed7953\"],[0.7777777777777778,\"#fb9f3a\"],[0.8888888888888888,\"#fdca26\"],[1.0,\"#f0f921\"]],\"type\":\"surface\"}],\"table\":[{\"cells\":{\"fill\":{\"color\":\"#506784\"},\"line\":{\"color\":\"rgb(17,17,17)\"}},\"header\":{\"fill\":{\"color\":\"#2a3f5f\"},\"line\":{\"color\":\"rgb(17,17,17)\"}},\"type\":\"table\"}]},\"layout\":{\"annotationdefaults\":{\"arrowcolor\":\"#f2f5fa\",\"arrowhead\":0,\"arrowwidth\":1},\"autotypenumbers\":\"strict\",\"coloraxis\":{\"colorbar\":{\"outlinewidth\":0,\"ticks\":\"\"}},\"colorscale\":{\"diverging\":[[0,\"#8e0152\"],[0.1,\"#c51b7d\"],[0.2,\"#de77ae\"],[0.3,\"#f1b6da\"],[0.4,\"#fde0ef\"],[0.5,\"#f7f7f7\"],[0.6,\"#e6f5d0\"],[0.7,\"#b8e186\"],[0.8,\"#7fbc41\"],[0.9,\"#4d9221\"],[1,\"#276419\"]],\"sequential\":[[0.0,\"#0d0887\"],[0.1111111111111111,\"#46039f\"],[0.2222222222222222,\"#7201a8\"],[0.3333333333333333,\"#9c179e\"],[0.4444444444444444,\"#bd3786\"],[0.5555555555555556,\"#d8576b\"],[0.6666666666666666,\"#ed7953\"],[0.7777777777777778,\"#fb9f3a\"],[0.8888888888888888,\"#fdca26\"],[1.0,\"#f0f921\"]],\"sequentialminus\":[[0.0,\"#0d0887\"],[0.1111111111111111,\"#46039f\"],[0.2222222222222222,\"#7201a8\"],[0.3333333333333333,\"#9c179e\"],[0.4444444444444444,\"#bd3786\"],[0.5555555555555556,\"#d8576b\"],[0.6666666666666666,\"#ed7953\"],[0.7777777777777778,\"#fb9f3a\"],[0.8888888888888888,\"#fdca26\"],[1.0,\"#f0f921\"]]},\"colorway\":[\"#636efa\",\"#EF553B\",\"#00cc96\",\"#ab63fa\",\"#FFA15A\",\"#19d3f3\",\"#FF6692\",\"#B6E880\",\"#FF97FF\",\"#FECB52\"],\"font\":{\"color\":\"#f2f5fa\"},\"geo\":{\"bgcolor\":\"rgb(17,17,17)\",\"lakecolor\":\"rgb(17,17,17)\",\"landcolor\":\"rgb(17,17,17)\",\"showlakes\":true,\"showland\":true,\"subunitcolor\":\"#506784\"},\"hoverlabel\":{\"align\":\"left\"},\"hovermode\":\"closest\",\"mapbox\":{\"style\":\"dark\"},\"paper_bgcolor\":\"rgb(17,17,17)\",\"plot_bgcolor\":\"rgb(17,17,17)\",\"polar\":{\"angularaxis\":{\"gridcolor\":\"#506784\",\"linecolor\":\"#506784\",\"ticks\":\"\"},\"bgcolor\":\"rgb(17,17,17)\",\"radialaxis\":{\"gridcolor\":\"#506784\",\"linecolor\":\"#506784\",\"ticks\":\"\"}},\"scene\":{\"xaxis\":{\"backgroundcolor\":\"rgb(17,17,17)\",\"gridcolor\":\"#506784\",\"gridwidth\":2,\"linecolor\":\"#506784\",\"showbackground\":true,\"ticks\":\"\",\"zerolinecolor\":\"#C8D4E3\"},\"yaxis\":{\"backgroundcolor\":\"rgb(17,17,17)\",\"gridcolor\":\"#506784\",\"gridwidth\":2,\"linecolor\":\"#506784\",\"showbackground\":true,\"ticks\":\"\",\"zerolinecolor\":\"#C8D4E3\"},\"zaxis\":{\"backgroundcolor\":\"rgb(17,17,17)\",\"gridcolor\":\"#506784\",\"gridwidth\":2,\"linecolor\":\"#506784\",\"showbackground\":true,\"ticks\":\"\",\"zerolinecolor\":\"#C8D4E3\"}},\"shapedefaults\":{\"line\":{\"color\":\"#f2f5fa\"}},\"sliderdefaults\":{\"bgcolor\":\"#C8D4E3\",\"bordercolor\":\"rgb(17,17,17)\",\"borderwidth\":1,\"tickwidth\":0},\"ternary\":{\"aaxis\":{\"gridcolor\":\"#506784\",\"linecolor\":\"#506784\",\"ticks\":\"\"},\"baxis\":{\"gridcolor\":\"#506784\",\"linecolor\":\"#506784\",\"ticks\":\"\"},\"bgcolor\":\"rgb(17,17,17)\",\"caxis\":{\"gridcolor\":\"#506784\",\"linecolor\":\"#506784\",\"ticks\":\"\"}},\"title\":{\"x\":0.05},\"updatemenudefaults\":{\"bgcolor\":\"#506784\",\"borderwidth\":0},\"xaxis\":{\"automargin\":true,\"gridcolor\":\"#283442\",\"linecolor\":\"#506784\",\"ticks\":\"\",\"title\":{\"standoff\":15},\"zerolinecolor\":\"#283442\",\"zerolinewidth\":2},\"yaxis\":{\"automargin\":true,\"gridcolor\":\"#283442\",\"linecolor\":\"#506784\",\"ticks\":\"\",\"title\":{\"standoff\":15},\"zerolinecolor\":\"#283442\",\"zerolinewidth\":2}}},\"title\":{\"text\":\"Imbalances in Dependent Classes\"},\"legend\":{\"title\":{\"text\":\"Target Classes\"}}},                        {\"responsive\": true}                    ).then(function(){\n",
              "                            \n",
              "var gd = document.getElementById('a41389ce-51b1-4d23-8d77-de2cced29c57');\n",
              "var x = new MutationObserver(function (mutations, observer) {{\n",
              "        var display = window.getComputedStyle(gd).display;\n",
              "        if (!display || display === 'none') {{\n",
              "            console.log([gd, 'removed!']);\n",
              "            Plotly.purge(gd);\n",
              "            observer.disconnect();\n",
              "        }}\n",
              "}});\n",
              "\n",
              "// Listen for the removal of the full notebook cells\n",
              "var notebookContainer = gd.closest('#notebook-container');\n",
              "if (notebookContainer) {{\n",
              "    x.observe(notebookContainer, {childList: true});\n",
              "}}\n",
              "\n",
              "// Listen for the clearing of the current output cell\n",
              "var outputEl = gd.closest('.output');\n",
              "if (outputEl) {{\n",
              "    x.observe(outputEl, {childList: true});\n",
              "}}\n",
              "\n",
              "                        })                };                            </script>        </div>\n",
              "</body>\n",
              "</html>"
            ]
          },
          "metadata": {}
        }
      ],
      "source": [
        "dependent_classes_labels= preprocessed_train.rating.value_counts().index.values\n",
        "dependent_classes_values = preprocessed_train.rating.value_counts().values\n",
        "fig = go.Figure()\n",
        "fig.add_trace(go.Pie(labels=dependent_classes_labels, values=dependent_classes_values))\n",
        "fig.update_layout(title=\"Imbalances in Dependent Classes\", legend_title=\"Target Classes\", template=\"plotly_dark\")"
      ]
    },
    {
      "cell_type": "code",
      "source": [
        "model_train_df = preprocessed_train.copy()"
      ],
      "metadata": {
        "id": "uWdcHP7UPVC9"
      },
      "execution_count": 59,
      "outputs": []
    },
    {
      "cell_type": "code",
      "execution_count": 60,
      "metadata": {
        "id": "unXi_ugc8T-1"
      },
      "outputs": [],
      "source": [
        "final_df_dummified = pd.get_dummies(model_train_df, drop_first=True)\n",
        "final_df_dummified['rating'] = model_train_df['rating']"
      ]
    },
    {
      "cell_type": "code",
      "source": [
        ""
      ],
      "metadata": {
        "id": "0aX89i7OPsp3"
      },
      "execution_count": 60,
      "outputs": []
    },
    {
      "cell_type": "code",
      "execution_count": 61,
      "metadata": {
        "id": "DBQqqIjo8T-4"
      },
      "outputs": [],
      "source": [
        "X = final_df_dummified.loc[:,final_df_dummified.columns!='rating']\n",
        "y= final_df_dummified['rating']"
      ]
    },
    {
      "cell_type": "code",
      "source": [
        "y.head()"
      ],
      "metadata": {
        "colab": {
          "base_uri": "https://localhost:8080/"
        },
        "id": "70DWbqdDP8gB",
        "outputId": "23ccea6a-1788-42f8-a44e-59fad80f1f65"
      },
      "execution_count": 62,
      "outputs": [
        {
          "output_type": "execute_result",
          "data": {
            "text/plain": [
              "0    4.0\n",
              "1    4.0\n",
              "2    4.0\n",
              "3    3.0\n",
              "4    4.0\n",
              "Name: rating, dtype: float64"
            ]
          },
          "metadata": {},
          "execution_count": 62
        }
      ]
    },
    {
      "cell_type": "code",
      "source": [
        "X.columns"
      ],
      "metadata": {
        "colab": {
          "base_uri": "https://localhost:8080/"
        },
        "id": "48O5n2USc67N",
        "outputId": "c0744900-e43b-4c47-db5d-a8a0ff0f1743"
      },
      "execution_count": 63,
      "outputs": [
        {
          "output_type": "execute_result",
          "data": {
            "text/plain": [
              "Index(['price', 'retail_price', 'units_sold', 'uses_ad_boosts', 'rating_count',\n",
              "       'badges_count', 'product_variation_inventory', 'shipping_option_price',\n",
              "       'shipping_is_express', 'countries_shipped_to', 'inventory_total',\n",
              "       'merchant_rating_count', 'merchant_rating', 'badge_local_product_1',\n",
              "       'badge_product_quality_1', 'badge_fast_shipping_1', 'tag_summer_1',\n",
              "       'tag_women's fashion_1', 'tag_fashion_1', 'tag_women_1', 'tag_casual_1',\n",
              "       'tag_plus size_1', 'tag_sleeveless_1', 'tag_dress_1', 'tag_shorts_1',\n",
              "       'tag_tops_1', 'tag_sexy_1', 'tag_beach_1', 'tag_sleeve_1',\n",
              "       'tag_short sleeves_1', 'tag_print_1', 'tag_shirt_1', 'tag_tank_1',\n",
              "       'tag_necks_1', 'tag_v-neck_1', 'tag_printed_1'],\n",
              "      dtype='object')"
            ]
          },
          "metadata": {},
          "execution_count": 63
        }
      ]
    },
    {
      "cell_type": "code",
      "execution_count": 64,
      "metadata": {
        "id": "VpHuKEA98T-4"
      },
      "outputs": [],
      "source": [
        "from imblearn.over_sampling import SMOTE"
      ]
    },
    {
      "cell_type": "code",
      "execution_count": 65,
      "metadata": {
        "id": "poceMjSj8T-4"
      },
      "outputs": [],
      "source": [
        "sm = SMOTE(random_state=42, k_neighbors=1)\n",
        "\n",
        "X_res,y_res = sm.fit_resample(X,y)"
      ]
    },
    {
      "cell_type": "code",
      "source": [
        "y_res.value_counts()"
      ],
      "metadata": {
        "colab": {
          "base_uri": "https://localhost:8080/"
        },
        "id": "7n75ZlD1N4wv",
        "outputId": "03b0da2e-eddd-46dd-a0e3-cabc8334681f"
      },
      "execution_count": 66,
      "outputs": [
        {
          "output_type": "execute_result",
          "data": {
            "text/plain": [
              "4.0    774\n",
              "3.0    774\n",
              "5.0    774\n",
              "2.0    774\n",
              "1.0    774\n",
              "Name: rating, dtype: int64"
            ]
          },
          "metadata": {},
          "execution_count": 66
        }
      ]
    },
    {
      "cell_type": "code",
      "source": [
        "drop_test_columns = ['product_color','tags','shipping_option_name', 'origin_country','merchant_id', 'id','merchant_profile_picture','urgency_text','has_urgency_banner',\n",
        "                     'merchant_info_subtitle', 'merchant_title', 'merchant_name', 'merchant_has_profile_picture','theme', 'crawl_month','currency_buyer', 'product_variation_size_id'\n",
        "                     ]"
      ],
      "metadata": {
        "id": "FD58ODQNM4t6"
      },
      "execution_count": 68,
      "outputs": []
    },
    {
      "cell_type": "code",
      "source": [
        "#test data\n",
        "test = pd.read_csv('test_new.csv')"
      ],
      "metadata": {
        "id": "SXjRD6sSMitp"
      },
      "execution_count": 69,
      "outputs": []
    },
    {
      "cell_type": "code",
      "source": [
        "test1 = test.copy()"
      ],
      "metadata": {
        "id": "CG49c8WTjfHO"
      },
      "execution_count": 70,
      "outputs": []
    },
    {
      "cell_type": "code",
      "execution_count": 71,
      "metadata": {
        "id": "pIEwpy3J8T-5"
      },
      "outputs": [],
      "source": [
        "test1[['badge_local_product', 'badge_product_quality','badge_fast_shipping']] = test1[['badge_local_product', 'badge_product_quality','badge_fast_shipping']].astype(str)"
      ]
    },
    {
      "cell_type": "code",
      "source": [
        "for word in bag_of_words:\n",
        "    test1[\"tag_\"+word] = test1.tags.str.lower().str.contains(word).astype(int).astype(str)"
      ],
      "metadata": {
        "id": "w59IORNoQ9j8"
      },
      "execution_count": 72,
      "outputs": []
    },
    {
      "cell_type": "code",
      "source": [
        "test1.drop(drop_test_columns, axis=1, inplace=True)"
      ],
      "metadata": {
        "id": "peX-jRCHTMP9"
      },
      "execution_count": 73,
      "outputs": []
    },
    {
      "cell_type": "code",
      "source": [
        "test1 = pd.get_dummies(test1, drop_first=True)"
      ],
      "metadata": {
        "id": "udMDP9kEQ9oV"
      },
      "execution_count": 74,
      "outputs": []
    },
    {
      "cell_type": "code",
      "source": [
        "test1.shape, X_res.shape"
      ],
      "metadata": {
        "colab": {
          "base_uri": "https://localhost:8080/"
        },
        "id": "tnKrNPZeSq8_",
        "outputId": "a9ff707d-a2b2-4d67-b8a7-3f2f84aa7f5a"
      },
      "execution_count": 75,
      "outputs": [
        {
          "output_type": "execute_result",
          "data": {
            "text/plain": [
              "((479, 36), (3870, 36))"
            ]
          },
          "metadata": {},
          "execution_count": 75
        }
      ]
    },
    {
      "cell_type": "code",
      "source": [
        "X_res.columns"
      ],
      "metadata": {
        "colab": {
          "base_uri": "https://localhost:8080/"
        },
        "id": "fusJBkjmVxgX",
        "outputId": "3fd5bf50-8c62-438b-96cf-a60a1407eaaf"
      },
      "execution_count": 76,
      "outputs": [
        {
          "output_type": "execute_result",
          "data": {
            "text/plain": [
              "Index(['price', 'retail_price', 'units_sold', 'uses_ad_boosts', 'rating_count',\n",
              "       'badges_count', 'product_variation_inventory', 'shipping_option_price',\n",
              "       'shipping_is_express', 'countries_shipped_to', 'inventory_total',\n",
              "       'merchant_rating_count', 'merchant_rating', 'badge_local_product_1',\n",
              "       'badge_product_quality_1', 'badge_fast_shipping_1', 'tag_summer_1',\n",
              "       'tag_women's fashion_1', 'tag_fashion_1', 'tag_women_1', 'tag_casual_1',\n",
              "       'tag_plus size_1', 'tag_sleeveless_1', 'tag_dress_1', 'tag_shorts_1',\n",
              "       'tag_tops_1', 'tag_sexy_1', 'tag_beach_1', 'tag_sleeve_1',\n",
              "       'tag_short sleeves_1', 'tag_print_1', 'tag_shirt_1', 'tag_tank_1',\n",
              "       'tag_necks_1', 'tag_v-neck_1', 'tag_printed_1'],\n",
              "      dtype='object')"
            ]
          },
          "metadata": {},
          "execution_count": 76
        }
      ]
    },
    {
      "cell_type": "code",
      "source": [
        "test.columns"
      ],
      "metadata": {
        "colab": {
          "base_uri": "https://localhost:8080/"
        },
        "id": "59VN4wA6WS7n",
        "outputId": "4df649c7-eb52-4ba4-87bf-1a23cb30d8cd"
      },
      "execution_count": 77,
      "outputs": [
        {
          "output_type": "execute_result",
          "data": {
            "text/plain": [
              "Index(['price', 'retail_price', 'currency_buyer', 'units_sold',\n",
              "       'uses_ad_boosts', 'rating_count', 'badges_count', 'badge_local_product',\n",
              "       'badge_product_quality', 'badge_fast_shipping', 'tags', 'product_color',\n",
              "       'product_variation_size_id', 'product_variation_inventory',\n",
              "       'shipping_option_name', 'shipping_option_price', 'shipping_is_express',\n",
              "       'countries_shipped_to', 'inventory_total', 'has_urgency_banner',\n",
              "       'urgency_text', 'origin_country', 'merchant_title', 'merchant_name',\n",
              "       'merchant_info_subtitle', 'merchant_rating_count', 'merchant_rating',\n",
              "       'merchant_id', 'merchant_has_profile_picture',\n",
              "       'merchant_profile_picture', 'theme', 'crawl_month', 'id'],\n",
              "      dtype='object')"
            ]
          },
          "metadata": {},
          "execution_count": 77
        }
      ]
    },
    {
      "cell_type": "code",
      "source": [
        "X_res.head()"
      ],
      "metadata": {
        "colab": {
          "base_uri": "https://localhost:8080/",
          "height": 287
        },
        "id": "kzNy4q3ABLXU",
        "outputId": "8b09dfb5-f00b-47d7-847f-623def82f5f7"
      },
      "execution_count": 78,
      "outputs": [
        {
          "output_type": "execute_result",
          "data": {
            "text/html": [
              "\n",
              "  <div id=\"df-900f1a77-5ceb-4044-ab72-26242486b582\">\n",
              "    <div class=\"colab-df-container\">\n",
              "      <div>\n",
              "<style scoped>\n",
              "    .dataframe tbody tr th:only-of-type {\n",
              "        vertical-align: middle;\n",
              "    }\n",
              "\n",
              "    .dataframe tbody tr th {\n",
              "        vertical-align: top;\n",
              "    }\n",
              "\n",
              "    .dataframe thead th {\n",
              "        text-align: right;\n",
              "    }\n",
              "</style>\n",
              "<table border=\"1\" class=\"dataframe\">\n",
              "  <thead>\n",
              "    <tr style=\"text-align: right;\">\n",
              "      <th></th>\n",
              "      <th>price</th>\n",
              "      <th>retail_price</th>\n",
              "      <th>units_sold</th>\n",
              "      <th>uses_ad_boosts</th>\n",
              "      <th>rating_count</th>\n",
              "      <th>badges_count</th>\n",
              "      <th>product_variation_inventory</th>\n",
              "      <th>shipping_option_price</th>\n",
              "      <th>shipping_is_express</th>\n",
              "      <th>countries_shipped_to</th>\n",
              "      <th>inventory_total</th>\n",
              "      <th>merchant_rating_count</th>\n",
              "      <th>merchant_rating</th>\n",
              "      <th>badge_local_product_1</th>\n",
              "      <th>badge_product_quality_1</th>\n",
              "      <th>badge_fast_shipping_1</th>\n",
              "      <th>tag_summer_1</th>\n",
              "      <th>tag_women's fashion_1</th>\n",
              "      <th>tag_fashion_1</th>\n",
              "      <th>tag_women_1</th>\n",
              "      <th>tag_casual_1</th>\n",
              "      <th>tag_plus size_1</th>\n",
              "      <th>tag_sleeveless_1</th>\n",
              "      <th>tag_dress_1</th>\n",
              "      <th>tag_shorts_1</th>\n",
              "      <th>tag_tops_1</th>\n",
              "      <th>tag_sexy_1</th>\n",
              "      <th>tag_beach_1</th>\n",
              "      <th>tag_sleeve_1</th>\n",
              "      <th>tag_short sleeves_1</th>\n",
              "      <th>tag_print_1</th>\n",
              "      <th>tag_shirt_1</th>\n",
              "      <th>tag_tank_1</th>\n",
              "      <th>tag_necks_1</th>\n",
              "      <th>tag_v-neck_1</th>\n",
              "      <th>tag_printed_1</th>\n",
              "    </tr>\n",
              "  </thead>\n",
              "  <tbody>\n",
              "    <tr>\n",
              "      <th>0</th>\n",
              "      <td>8.00</td>\n",
              "      <td>7</td>\n",
              "      <td>10000</td>\n",
              "      <td>1</td>\n",
              "      <td>1670</td>\n",
              "      <td>0</td>\n",
              "      <td>50</td>\n",
              "      <td>3</td>\n",
              "      <td>0</td>\n",
              "      <td>30</td>\n",
              "      <td>50</td>\n",
              "      <td>66644</td>\n",
              "      <td>4.137582</td>\n",
              "      <td>0</td>\n",
              "      <td>0</td>\n",
              "      <td>0</td>\n",
              "      <td>1</td>\n",
              "      <td>1</td>\n",
              "      <td>1</td>\n",
              "      <td>1</td>\n",
              "      <td>1</td>\n",
              "      <td>1</td>\n",
              "      <td>1</td>\n",
              "      <td>0</td>\n",
              "      <td>0</td>\n",
              "      <td>1</td>\n",
              "      <td>0</td>\n",
              "      <td>0</td>\n",
              "      <td>1</td>\n",
              "      <td>0</td>\n",
              "      <td>0</td>\n",
              "      <td>0</td>\n",
              "      <td>1</td>\n",
              "      <td>0</td>\n",
              "      <td>0</td>\n",
              "      <td>0</td>\n",
              "    </tr>\n",
              "    <tr>\n",
              "      <th>1</th>\n",
              "      <td>8.00</td>\n",
              "      <td>7</td>\n",
              "      <td>1000</td>\n",
              "      <td>0</td>\n",
              "      <td>843</td>\n",
              "      <td>1</td>\n",
              "      <td>50</td>\n",
              "      <td>3</td>\n",
              "      <td>0</td>\n",
              "      <td>37</td>\n",
              "      <td>50</td>\n",
              "      <td>25752</td>\n",
              "      <td>4.256873</td>\n",
              "      <td>1</td>\n",
              "      <td>0</td>\n",
              "      <td>0</td>\n",
              "      <td>0</td>\n",
              "      <td>1</td>\n",
              "      <td>1</td>\n",
              "      <td>1</td>\n",
              "      <td>0</td>\n",
              "      <td>1</td>\n",
              "      <td>0</td>\n",
              "      <td>0</td>\n",
              "      <td>0</td>\n",
              "      <td>0</td>\n",
              "      <td>1</td>\n",
              "      <td>1</td>\n",
              "      <td>0</td>\n",
              "      <td>0</td>\n",
              "      <td>0</td>\n",
              "      <td>0</td>\n",
              "      <td>0</td>\n",
              "      <td>0</td>\n",
              "      <td>0</td>\n",
              "      <td>0</td>\n",
              "    </tr>\n",
              "    <tr>\n",
              "      <th>2</th>\n",
              "      <td>6.00</td>\n",
              "      <td>34</td>\n",
              "      <td>100</td>\n",
              "      <td>0</td>\n",
              "      <td>10</td>\n",
              "      <td>0</td>\n",
              "      <td>50</td>\n",
              "      <td>2</td>\n",
              "      <td>0</td>\n",
              "      <td>41</td>\n",
              "      <td>50</td>\n",
              "      <td>3897</td>\n",
              "      <td>3.928920</td>\n",
              "      <td>0</td>\n",
              "      <td>0</td>\n",
              "      <td>0</td>\n",
              "      <td>1</td>\n",
              "      <td>1</td>\n",
              "      <td>1</td>\n",
              "      <td>1</td>\n",
              "      <td>1</td>\n",
              "      <td>0</td>\n",
              "      <td>1</td>\n",
              "      <td>0</td>\n",
              "      <td>0</td>\n",
              "      <td>1</td>\n",
              "      <td>0</td>\n",
              "      <td>0</td>\n",
              "      <td>1</td>\n",
              "      <td>0</td>\n",
              "      <td>0</td>\n",
              "      <td>1</td>\n",
              "      <td>1</td>\n",
              "      <td>0</td>\n",
              "      <td>0</td>\n",
              "      <td>0</td>\n",
              "    </tr>\n",
              "    <tr>\n",
              "      <th>3</th>\n",
              "      <td>4.67</td>\n",
              "      <td>4</td>\n",
              "      <td>100</td>\n",
              "      <td>1</td>\n",
              "      <td>82</td>\n",
              "      <td>0</td>\n",
              "      <td>5</td>\n",
              "      <td>1</td>\n",
              "      <td>0</td>\n",
              "      <td>25</td>\n",
              "      <td>50</td>\n",
              "      <td>7497</td>\n",
              "      <td>4.079365</td>\n",
              "      <td>0</td>\n",
              "      <td>0</td>\n",
              "      <td>0</td>\n",
              "      <td>1</td>\n",
              "      <td>0</td>\n",
              "      <td>1</td>\n",
              "      <td>0</td>\n",
              "      <td>1</td>\n",
              "      <td>1</td>\n",
              "      <td>0</td>\n",
              "      <td>0</td>\n",
              "      <td>1</td>\n",
              "      <td>0</td>\n",
              "      <td>0</td>\n",
              "      <td>1</td>\n",
              "      <td>0</td>\n",
              "      <td>0</td>\n",
              "      <td>0</td>\n",
              "      <td>0</td>\n",
              "      <td>0</td>\n",
              "      <td>0</td>\n",
              "      <td>0</td>\n",
              "      <td>0</td>\n",
              "    </tr>\n",
              "    <tr>\n",
              "      <th>4</th>\n",
              "      <td>8.00</td>\n",
              "      <td>11</td>\n",
              "      <td>1000</td>\n",
              "      <td>0</td>\n",
              "      <td>127</td>\n",
              "      <td>0</td>\n",
              "      <td>50</td>\n",
              "      <td>3</td>\n",
              "      <td>0</td>\n",
              "      <td>15</td>\n",
              "      <td>50</td>\n",
              "      <td>173</td>\n",
              "      <td>4.306358</td>\n",
              "      <td>0</td>\n",
              "      <td>0</td>\n",
              "      <td>0</td>\n",
              "      <td>1</td>\n",
              "      <td>1</td>\n",
              "      <td>1</td>\n",
              "      <td>1</td>\n",
              "      <td>1</td>\n",
              "      <td>0</td>\n",
              "      <td>1</td>\n",
              "      <td>1</td>\n",
              "      <td>0</td>\n",
              "      <td>0</td>\n",
              "      <td>0</td>\n",
              "      <td>1</td>\n",
              "      <td>1</td>\n",
              "      <td>0</td>\n",
              "      <td>1</td>\n",
              "      <td>0</td>\n",
              "      <td>0</td>\n",
              "      <td>0</td>\n",
              "      <td>1</td>\n",
              "      <td>0</td>\n",
              "    </tr>\n",
              "  </tbody>\n",
              "</table>\n",
              "</div>\n",
              "      <button class=\"colab-df-convert\" onclick=\"convertToInteractive('df-900f1a77-5ceb-4044-ab72-26242486b582')\"\n",
              "              title=\"Convert this dataframe to an interactive table.\"\n",
              "              style=\"display:none;\">\n",
              "        \n",
              "  <svg xmlns=\"http://www.w3.org/2000/svg\" height=\"24px\"viewBox=\"0 0 24 24\"\n",
              "       width=\"24px\">\n",
              "    <path d=\"M0 0h24v24H0V0z\" fill=\"none\"/>\n",
              "    <path d=\"M18.56 5.44l.94 2.06.94-2.06 2.06-.94-2.06-.94-.94-2.06-.94 2.06-2.06.94zm-11 1L8.5 8.5l.94-2.06 2.06-.94-2.06-.94L8.5 2.5l-.94 2.06-2.06.94zm10 10l.94 2.06.94-2.06 2.06-.94-2.06-.94-.94-2.06-.94 2.06-2.06.94z\"/><path d=\"M17.41 7.96l-1.37-1.37c-.4-.4-.92-.59-1.43-.59-.52 0-1.04.2-1.43.59L10.3 9.45l-7.72 7.72c-.78.78-.78 2.05 0 2.83L4 21.41c.39.39.9.59 1.41.59.51 0 1.02-.2 1.41-.59l7.78-7.78 2.81-2.81c.8-.78.8-2.07 0-2.86zM5.41 20L4 18.59l7.72-7.72 1.47 1.35L5.41 20z\"/>\n",
              "  </svg>\n",
              "      </button>\n",
              "      \n",
              "  <style>\n",
              "    .colab-df-container {\n",
              "      display:flex;\n",
              "      flex-wrap:wrap;\n",
              "      gap: 12px;\n",
              "    }\n",
              "\n",
              "    .colab-df-convert {\n",
              "      background-color: #E8F0FE;\n",
              "      border: none;\n",
              "      border-radius: 50%;\n",
              "      cursor: pointer;\n",
              "      display: none;\n",
              "      fill: #1967D2;\n",
              "      height: 32px;\n",
              "      padding: 0 0 0 0;\n",
              "      width: 32px;\n",
              "    }\n",
              "\n",
              "    .colab-df-convert:hover {\n",
              "      background-color: #E2EBFA;\n",
              "      box-shadow: 0px 1px 2px rgba(60, 64, 67, 0.3), 0px 1px 3px 1px rgba(60, 64, 67, 0.15);\n",
              "      fill: #174EA6;\n",
              "    }\n",
              "\n",
              "    [theme=dark] .colab-df-convert {\n",
              "      background-color: #3B4455;\n",
              "      fill: #D2E3FC;\n",
              "    }\n",
              "\n",
              "    [theme=dark] .colab-df-convert:hover {\n",
              "      background-color: #434B5C;\n",
              "      box-shadow: 0px 1px 3px 1px rgba(0, 0, 0, 0.15);\n",
              "      filter: drop-shadow(0px 1px 2px rgba(0, 0, 0, 0.3));\n",
              "      fill: #FFFFFF;\n",
              "    }\n",
              "  </style>\n",
              "\n",
              "      <script>\n",
              "        const buttonEl =\n",
              "          document.querySelector('#df-900f1a77-5ceb-4044-ab72-26242486b582 button.colab-df-convert');\n",
              "        buttonEl.style.display =\n",
              "          google.colab.kernel.accessAllowed ? 'block' : 'none';\n",
              "\n",
              "        async function convertToInteractive(key) {\n",
              "          const element = document.querySelector('#df-900f1a77-5ceb-4044-ab72-26242486b582');\n",
              "          const dataTable =\n",
              "            await google.colab.kernel.invokeFunction('convertToInteractive',\n",
              "                                                     [key], {});\n",
              "          if (!dataTable) return;\n",
              "\n",
              "          const docLinkHtml = 'Like what you see? Visit the ' +\n",
              "            '<a target=\"_blank\" href=https://colab.research.google.com/notebooks/data_table.ipynb>data table notebook</a>'\n",
              "            + ' to learn more about interactive tables.';\n",
              "          element.innerHTML = '';\n",
              "          dataTable['output_type'] = 'display_data';\n",
              "          await google.colab.output.renderOutput(dataTable, element);\n",
              "          const docLink = document.createElement('div');\n",
              "          docLink.innerHTML = docLinkHtml;\n",
              "          element.appendChild(docLink);\n",
              "        }\n",
              "      </script>\n",
              "    </div>\n",
              "  </div>\n",
              "  "
            ],
            "text/plain": [
              "   price  retail_price  units_sold  ...  tag_necks_1  tag_v-neck_1  tag_printed_1\n",
              "0   8.00             7       10000  ...            0             0              0\n",
              "1   8.00             7        1000  ...            0             0              0\n",
              "2   6.00            34         100  ...            0             0              0\n",
              "3   4.67             4         100  ...            0             0              0\n",
              "4   8.00            11        1000  ...            0             1              0\n",
              "\n",
              "[5 rows x 36 columns]"
            ]
          },
          "metadata": {},
          "execution_count": 78
        }
      ]
    },
    {
      "cell_type": "markdown",
      "source": [
        "#Modelling"
      ],
      "metadata": {
        "id": "RjrQHN79J5ow"
      }
    },
    {
      "cell_type": "markdown",
      "source": [
        "###trial 1"
      ],
      "metadata": {
        "id": "GsS-ZIALsByo"
      }
    },
    {
      "cell_type": "code",
      "source": [
        "from sklearn.svm import SVC\n",
        "from sklearn.model_selection import cross_val_score\n",
        "\n",
        "svm = SVC()\n",
        "cv_svm_1 = cross_val_score(svm, X_res, y_res, cv=5, scoring='accuracy')"
      ],
      "metadata": {
        "id": "Ydmpy-i1sCpP"
      },
      "execution_count": 79,
      "outputs": []
    },
    {
      "cell_type": "code",
      "source": [
        "cv_svm_1.mean()"
      ],
      "metadata": {
        "colab": {
          "base_uri": "https://localhost:8080/"
        },
        "id": "xIuqt-q_sH1g",
        "outputId": "56858c6c-bdcd-4149-dbe5-5ded46e7aa2e"
      },
      "execution_count": 80,
      "outputs": [
        {
          "output_type": "execute_result",
          "data": {
            "text/plain": [
              "0.4007751937984496"
            ]
          },
          "metadata": {},
          "execution_count": 80
        }
      ]
    },
    {
      "cell_type": "markdown",
      "source": [
        "###trial 2"
      ],
      "metadata": {
        "id": "oVgVSLZOtytO"
      }
    },
    {
      "cell_type": "code",
      "source": [
        "from sklearn.model_selection import cross_val_score\n",
        "from sklearn.tree import DecisionTreeClassifier\n",
        "dtree = DecisionTreeClassifier()\n",
        "cv_dtree = cross_val_score(dtree, X_res, y_res, cv=5)"
      ],
      "metadata": {
        "id": "Om7kMSZUuGtK"
      },
      "execution_count": 98,
      "outputs": []
    },
    {
      "cell_type": "code",
      "source": [
        "cv_dtree.mean()"
      ],
      "metadata": {
        "colab": {
          "base_uri": "https://localhost:8080/"
        },
        "id": "RMg4DG7-8b7-",
        "outputId": "9bfee8bd-a356-47dd-cdf0-c39298ddecb1"
      },
      "execution_count": 99,
      "outputs": [
        {
          "output_type": "execute_result",
          "data": {
            "text/plain": [
              "0.8937984496124031"
            ]
          },
          "metadata": {},
          "execution_count": 99
        }
      ]
    },
    {
      "cell_type": "code",
      "source": [
        "from sklearn.tree import DecisionTreeClassifier\n",
        "dtree = DecisionTreeClassifier()\n",
        "dtree.fit(X_res, y_res)"
      ],
      "metadata": {
        "colab": {
          "base_uri": "https://localhost:8080/"
        },
        "id": "-TQfQyuk-aq2",
        "outputId": "0f86bf92-50d4-414d-b82d-4eef2e6008e3"
      },
      "execution_count": 118,
      "outputs": [
        {
          "output_type": "execute_result",
          "data": {
            "text/plain": [
              "DecisionTreeClassifier()"
            ]
          },
          "metadata": {},
          "execution_count": 118
        }
      ]
    },
    {
      "cell_type": "code",
      "source": [
        "dtree_pred = dtree.predict(test1)"
      ],
      "metadata": {
        "id": "3WnmJNzn-jcX"
      },
      "execution_count": 122,
      "outputs": []
    },
    {
      "cell_type": "code",
      "source": [
        "dtree_pred = pd.DataFrame(dtree_pred)\n",
        "dtree_pred.rename(columns={0: 'rating'}, inplace=True)\n",
        "dtree_pred['id'] = test['id']\n",
        "dtree_pred.set_index('id', inplace=True)"
      ],
      "metadata": {
        "id": "Yo_alouPA_c6"
      },
      "execution_count": 123,
      "outputs": []
    },
    {
      "cell_type": "code",
      "source": [
        "dtree_pred['rating'].value_counts()"
      ],
      "metadata": {
        "colab": {
          "base_uri": "https://localhost:8080/"
        },
        "id": "IhDJeFwlB5Hb",
        "outputId": "e30cbb55-eb2d-4520-c84f-8cc3aa0f1f9d"
      },
      "execution_count": 124,
      "outputs": [
        {
          "output_type": "execute_result",
          "data": {
            "text/plain": [
              "4.0    318\n",
              "3.0     81\n",
              "5.0     75\n",
              "2.0      3\n",
              "1.0      2\n",
              "Name: rating, dtype: int64"
            ]
          },
          "metadata": {},
          "execution_count": 124
        }
      ]
    },
    {
      "cell_type": "code",
      "source": [
        "dtree_pred.to_csv('sample_submission_new.csv')"
      ],
      "metadata": {
        "id": "KqtAU3p8BM_A"
      },
      "execution_count": 105,
      "outputs": []
    },
    {
      "cell_type": "code",
      "source": [
        "dtree_pred['rating'].value_counts()"
      ],
      "metadata": {
        "colab": {
          "base_uri": "https://localhost:8080/"
        },
        "id": "7lokGB-k_Ni6",
        "outputId": "092ff049-b2e3-40f2-ca40-33669d34ff3f"
      },
      "execution_count": 89,
      "outputs": [
        {
          "output_type": "execute_result",
          "data": {
            "text/plain": [
              "4.0    327\n",
              "3.0     79\n",
              "5.0     69\n",
              "1.0      2\n",
              "2.0      2\n",
              "Name: rating, dtype: int64"
            ]
          },
          "metadata": {},
          "execution_count": 89
        }
      ]
    },
    {
      "cell_type": "markdown",
      "source": [
        "After fine-tuning SVM hyperparamerters using gridsearch"
      ],
      "metadata": {
        "id": "P9zOXW_rsLAj"
      }
    },
    {
      "cell_type": "code",
      "execution_count": null,
      "metadata": {
        "id": "BwqT54_xZiay"
      },
      "outputs": [],
      "source": [
        "\"\"\"from sklearn.svm import SVC\n",
        "from sklearn.model_selection import GridSearchCV\n",
        "param_grid = {'C': [1, 10],\n",
        "              'gamma': [1, 0.1],\n",
        "              'kernel': ['rbf','linear']}\n",
        "#tree_param = {'kernel':['linear', 'poly', 'rbf', 'sigmoid'],'degree':[3,4,5]}\n",
        "clf = GridSearchCV(SVC(), param_grid, refit = True, verbose = 3)\n",
        "clf.fit(X_train, y_train)\n",
        "print(clf.best_params_)\"\"\""
      ]
    },
    {
      "cell_type": "markdown",
      "source": [
        "###trial 3"
      ],
      "metadata": {
        "id": "rZTIXN4Cum0J"
      }
    },
    {
      "cell_type": "markdown",
      "metadata": {
        "id": "3-3INZ6lTtwV"
      },
      "source": [
        "Normalize data because most machine learning algorithms prefer data to be normally distributed"
      ]
    },
    {
      "cell_type": "markdown",
      "source": [
        "scaling training data improved the accuracy of the model because it scaled features to be on the same range"
      ],
      "metadata": {
        "id": "_JRRgsTVBqYz"
      }
    },
    {
      "cell_type": "code",
      "source": [
        "from sklearn.preprocessing import StandardScaler\n",
        "scaler = StandardScaler()\n",
        "X_res_scaled = scaler.fit_transform(X_res)"
      ],
      "metadata": {
        "id": "2SM6GsdEAh8x"
      },
      "execution_count": 90,
      "outputs": []
    },
    {
      "cell_type": "markdown",
      "source": [
        "selected parameters and after scaling training data which improve performance "
      ],
      "metadata": {
        "id": "hkfAhlUQsqbZ"
      }
    },
    {
      "cell_type": "code",
      "execution_count": 96,
      "metadata": {
        "id": "eknPD-tIw1YC"
      },
      "outputs": [],
      "source": [
        "from sklearn.svm import SVC\n",
        "from sklearn.model_selection import cross_val_score\n",
        "\n",
        "svm = SVC(C = 1000, gamma = 1e-3)\n",
        "cv_svm = cross_val_score(svm, X_res_scaled, y_res, cv=5, scoring='accuracy')"
      ]
    },
    {
      "cell_type": "code",
      "execution_count": 97,
      "metadata": {
        "id": "6tCYfrIlxA87",
        "colab": {
          "base_uri": "https://localhost:8080/"
        },
        "outputId": "891ad2ef-be9d-49c1-f3d0-3ece0e00ecf8"
      },
      "outputs": [
        {
          "output_type": "execute_result",
          "data": {
            "text/plain": [
              "0.892764857881137"
            ]
          },
          "metadata": {},
          "execution_count": 97
        }
      ],
      "source": [
        "cv_svm.mean()"
      ]
    },
    {
      "cell_type": "code",
      "source": [
        "from sklearn.svm import SVC\n",
        "\n",
        "svm = SVC(C = 1000, gamma = 1e-3)\n",
        "svm.fit(X_res_scaled, y_res)"
      ],
      "metadata": {
        "colab": {
          "base_uri": "https://localhost:8080/"
        },
        "id": "8_uaI-4O_yo5",
        "outputId": "ddedad25-fac2-440b-a9f7-cea6bbcaa9cc"
      },
      "execution_count": 108,
      "outputs": [
        {
          "output_type": "execute_result",
          "data": {
            "text/plain": [
              "SVC(C=1000, gamma=0.001)"
            ]
          },
          "metadata": {},
          "execution_count": 108
        }
      ]
    },
    {
      "cell_type": "code",
      "source": [
        "test_scaled = scaler.transform(test1)\n",
        "svm_pred = svm.predict(test_scaled)"
      ],
      "metadata": {
        "id": "l-nstprP__0m"
      },
      "execution_count": 109,
      "outputs": []
    },
    {
      "cell_type": "code",
      "source": [
        "svm_pred = pd.DataFrame(svm_pred)\n",
        "svm_pred.rename(columns={0: 'rating'}, inplace=True)\n",
        "svm_pred['id'] = test['id']\n",
        "svm_pred.set_index('id', inplace=True)"
      ],
      "metadata": {
        "id": "4jnOA3t2AbO0"
      },
      "execution_count": 110,
      "outputs": []
    },
    {
      "cell_type": "code",
      "source": [
        "svm_pred['rating'].value_counts()"
      ],
      "metadata": {
        "colab": {
          "base_uri": "https://localhost:8080/"
        },
        "id": "jrJMrt27BZm_",
        "outputId": "9aa956b0-b07c-4bde-b94a-f5eac28856fb"
      },
      "execution_count": 111,
      "outputs": [
        {
          "output_type": "execute_result",
          "data": {
            "text/plain": [
              "4.0    170\n",
              "3.0    153\n",
              "5.0    105\n",
              "2.0     44\n",
              "1.0      7\n",
              "Name: rating, dtype: int64"
            ]
          },
          "metadata": {},
          "execution_count": 111
        }
      ]
    },
    {
      "cell_type": "code",
      "source": [
        "svm_pred.to_csv('sample_submission_new.csv')"
      ],
      "metadata": {
        "id": "kX4XxXgpARhm"
      },
      "execution_count": 104,
      "outputs": []
    },
    {
      "cell_type": "markdown",
      "source": [
        "###trial 4"
      ],
      "metadata": {
        "id": "eT5hMUZBugw3"
      }
    },
    {
      "cell_type": "markdown",
      "source": [
        "selected parameters and but scaling training data doesn't improve performance that much"
      ],
      "metadata": {
        "id": "MeQ3Z-kitRnL"
      }
    },
    {
      "cell_type": "code",
      "execution_count": null,
      "metadata": {
        "id": "Q9EU-77LHF1m"
      },
      "outputs": [],
      "source": [
        "'''from sklearn.tree import DecisionTreeClassifier\n",
        "from sklearn.model_selection import GridSearchCV\n",
        "tree_param = {'criterion': ['gini','entropy'], 'max_depth': list(range(1,11)),'min_samples_split': list(range(2,11)), 'min_samples_leaf': list(range(1,11)), 'max_features': list(range(1,11))}\n",
        "clf = GridSearchCV(DecisionTreeClassifier(), tree_param, cv=5)\n",
        "clf.fit(X_train, y_train)\n",
        "print(clf.best_params_)'''"
      ]
    },
    {
      "cell_type": "code",
      "execution_count": null,
      "metadata": {
        "id": "adDnuxIitVWx"
      },
      "outputs": [],
      "source": [
        "from sklearn.model_selection import cross_val_score\n",
        "from sklearn.tree import DecisionTreeClassifier\n",
        "dtree = DecisionTreeClassifier(criterion= 'gini', max_depth= 6)\n",
        "cv_tree = cross_val_score(dtree, X_res, y_res, cv=5)"
      ]
    },
    {
      "cell_type": "code",
      "execution_count": null,
      "metadata": {
        "id": "6H1VCy2BOlYY"
      },
      "outputs": [],
      "source": [
        "cv_tree.mean()"
      ]
    },
    {
      "cell_type": "markdown",
      "source": [
        "###trial 5"
      ],
      "metadata": {
        "id": "wmtDHv4Gure2"
      }
    },
    {
      "cell_type": "markdown",
      "metadata": {
        "id": "LJFX_uS1bfqO"
      },
      "source": [
        "[grid search for Decision Tree](https://scikit-learn.org/stable/modules/generated/sklearn.tree.DecisionTreeClassifier.html)"
      ]
    },
    {
      "cell_type": "code",
      "execution_count": null,
      "metadata": {
        "id": "WD5nwiXmUmqj"
      },
      "outputs": [],
      "source": [
        "from sklearn.model_selection import cross_val_score\n",
        "from sklearn.tree import DecisionTreeClassifier\n",
        "dtree = DecisionTreeClassifier(criterion='entropy', max_depth= 4, max_features= 10, min_samples_leaf= 5, min_samples_split= 10)\n",
        "cv = cross_val_score(dtree, X_res, y_res, cv=5, )"
      ]
    },
    {
      "cell_type": "code",
      "source": [
        "cv.mean()"
      ],
      "metadata": {
        "id": "Z2Mm_WjiuxEy"
      },
      "execution_count": null,
      "outputs": []
    },
    {
      "cell_type": "markdown",
      "source": [
        "###trial 6"
      ],
      "metadata": {
        "id": "gJJllZeou1Z5"
      }
    },
    {
      "cell_type": "code",
      "execution_count": null,
      "metadata": {
        "id": "nyJ5XinIxsMX"
      },
      "outputs": [],
      "source": [
        "from sklearn.naive_bayes import GaussianNB\n",
        "from sklearn.model_selection import cross_val_score\n",
        "\n",
        "naive = GaussianNB(var_smoothing=1e-09)\n",
        "cv_naive = cross_val_score(naive, X_res_scaled, y_res, cv=5)"
      ]
    },
    {
      "cell_type": "code",
      "execution_count": null,
      "metadata": {
        "id": "NaU9saksNOSu"
      },
      "outputs": [],
      "source": [
        "cv_naive.mean()"
      ]
    },
    {
      "cell_type": "markdown",
      "source": [
        "####convert predicted data from SVM algorithm to a dataframe"
      ],
      "metadata": {
        "id": "wIwzD2zP0hfY"
      }
    },
    {
      "cell_type": "code",
      "source": [
        "svm.fit(X_res, y_res)"
      ],
      "metadata": {
        "id": "f7hT-z9UQ92W"
      },
      "execution_count": null,
      "outputs": []
    },
    {
      "cell_type": "code",
      "source": [
        "svm_pred = svm.predict(test1)"
      ],
      "metadata": {
        "id": "miMRGL_NQ95j"
      },
      "execution_count": null,
      "outputs": []
    },
    {
      "cell_type": "code",
      "source": [
        "#convert svm_pred to dataframe\n",
        "pred = pd.DataFrame(dtree_pred)\n"
      ],
      "metadata": {
        "id": "WaWCWouzfaXq"
      },
      "execution_count": 87,
      "outputs": []
    },
    {
      "cell_type": "code",
      "source": [
        "#rename 0 column to rating to be representitive\n",
        "pred.rename(columns={0: 'rating'}, inplace=True)\n",
        "pred['id'] = test['id']"
      ],
      "metadata": {
        "id": "n-5Qiq1liyO8"
      },
      "execution_count": 88,
      "outputs": []
    },
    {
      "cell_type": "code",
      "source": [
        "#set id as an index\n",
        "pred.set_index('id', inplace=True)"
      ],
      "metadata": {
        "id": "IMxSfh4CkeZ-"
      },
      "execution_count": null,
      "outputs": []
    },
    {
      "cell_type": "code",
      "source": [
        "#save svm_pred to csv file called sample_submission_new\n",
        "pred.to_csv('sample_submission_new.csv')"
      ],
      "metadata": {
        "id": "sOnmaV9vk8su"
      },
      "execution_count": null,
      "outputs": []
    },
    {
      "cell_type": "markdown",
      "source": [
        "I have sunmitted 6 times three of them results zero becuase of different rating format as it must be float but I converted it to int as it was asked in the overview, the other three gave me accuracy about 0.79916, two of them are decison tree with hyperparameter tuning (criterion= 'gini', max_depth= 6) lead to accuracy == .79, but after tuning SVM I found out that it superior Decision tree and with scaling training data it performs even better.    \n"
      ],
      "metadata": {
        "id": "wDwwe4e-yhEh"
      }
    },
    {
      "cell_type": "markdown",
      "metadata": {
        "id": "71zNB9yoVU1C"
      },
      "source": [
        "answer questions \n",
        "\n",
        "\n",
        "\n",
        "\n",
        "\n"
      ]
    },
    {
      "cell_type": "markdown",
      "source": [
        "####Why Data Mining is a misnomer? What is another preferred name?"
      ],
      "metadata": {
        "id": "Z_pfG8yz2gD5"
      }
    },
    {
      "cell_type": "markdown",
      "source": [
        "because we are not mining for data but instead from the data to get insights.\n",
        "\n",
        "preferred name: Knowledge discovery\n"
      ],
      "metadata": {
        "id": "A4R91uho2uUq"
      }
    },
    {
      "cell_type": "markdown",
      "source": [
        "####What is the general knowledge discovery process? What is the difference between a data engineer and data scientist/AI engineer?"
      ],
      "metadata": {
        "id": "fm0r7xQ3JXsh"
      }
    },
    {
      "cell_type": "markdown",
      "source": [
        "1- collecting data and store it in a database\n",
        "\n",
        "2- cleaning that data store it in a data warehouse for further analysis instead of changing original dataset\n",
        "\n",
        "3- Task-relevant Data: where you pull part of data to perform some task on \n",
        "4- Data Mining: analyzing data and building dashboards that illustrate your analysis and maybe help decision maker to take the important decision\n",
        "\n",
        "5- Pattern Evaluation: after completing data mining phase you need to test you hypothesis, whether to accept it or try something else\n",
        "\n",
        "6- knowledge: where you conclude your analysis to something the decision maker or normal people can undersatnd  "
      ],
      "metadata": {
        "id": "dMjgJpzqJeUZ"
      }
    },
    {
      "cell_type": "markdown",
      "source": [
        "####In data mining, what is the difference between prediction and categorization?"
      ],
      "metadata": {
        "id": "xM_vCXBvOEPe"
      }
    },
    {
      "cell_type": "markdown",
      "source": [
        "Prediction: is a supervised learning method where algorithms see previous labeled examples to be able to predict future ones can be divided into regression and classification\n",
        "\n",
        "categorization: grouping data into different clusters without the need to see labeled examples. whether it is clustering or reducing dimension (PCA) "
      ],
      "metadata": {
        "id": "Kj1HGMcTOIMJ"
      }
    },
    {
      "cell_type": "markdown",
      "source": [
        "####Why data science/machine learning is a bad idea in the context of information security?"
      ],
      "metadata": {
        "id": "icUMUnm6YyXS"
      }
    },
    {
      "cell_type": "markdown",
      "source": [
        "1- using data science/machine learning involve using data which lead that a company may know information about users that they even don't know about themselves, without their permission\n",
        "\n",
        "2- Attacks: Steeling the model, Backdoor/data poisoning which may lead to a serious damage if it is a self-driving car\n",
        "\n",
        "3- AI systems designers choose the features, metrics, and analytics\n",
        "structures of the models that enable designer to explore users data"
      ],
      "metadata": {
        "id": "m4f7sdbbY0Yq"
      }
    },
    {
      "cell_type": "markdown",
      "source": [
        "####What is CIA principle and how can we use it to access the security/privacy aspect of the AI system/pipelines?"
      ],
      "metadata": {
        "id": "gqoRSQfbm8Ja"
      }
    },
    {
      "cell_type": "markdown",
      "source": [
        "confidentiality: Loss of confidentiality may lead to disclosure of:\n",
        "1-Personal information\n",
        "2-Proprietary information\n",
        "3-Government classified information\n",
        "\n",
        "integrity: Loss of integrity may lead to\n",
        "1-Unauthorized transactions\n",
        "2-Wrong execution of software\n",
        "3-Corruption of data\n",
        "\n",
        "availability: Loss of availability may lead to\n",
        "1-Denial of Service\n",
        "2-Loss of Data"
      ],
      "metadata": {
        "id": "qQU6XsBknaWY"
      }
    },
    {
      "cell_type": "code",
      "source": [
        ""
      ],
      "metadata": {
        "id": "CM29ex5fJaVC"
      },
      "execution_count": null,
      "outputs": []
    }
  ],
  "metadata": {
    "accelerator": "GPU",
    "colab": {
      "collapsed_sections": [],
      "name": "Data_Mining_1.ipynb",
      "provenance": []
    },
    "kernelspec": {
      "display_name": "Python 3",
      "language": "python",
      "name": "python3"
    },
    "language_info": {
      "codemirror_mode": {
        "name": "ipython",
        "version": 3
      },
      "file_extension": ".py",
      "mimetype": "text/x-python",
      "name": "python",
      "nbconvert_exporter": "python",
      "pygments_lexer": "ipython3",
      "version": "3.8.8"
    }
  },
  "nbformat": 4,
  "nbformat_minor": 0
}